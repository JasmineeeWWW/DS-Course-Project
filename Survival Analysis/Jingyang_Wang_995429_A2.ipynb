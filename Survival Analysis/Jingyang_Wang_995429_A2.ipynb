{
 "cells": [
  {
   "cell_type": "code",
   "execution_count": 1,
   "id": "bb4eef8c",
   "metadata": {},
   "outputs": [],
   "source": [
    "#Assignment 2 Survival Analysis\n",
    "#Jingyang Wang\n",
    "#995429\n",
    "\n",
    "import numpy as np\n",
    "import pandas as pd\n",
    "import random\n",
    "from sklearn.model_selection import train_test_split\n",
    "import matplotlib.pyplot as plt\n",
    "%matplotlib inline"
   ]
  },
  {
   "cell_type": "code",
   "execution_count": 2,
   "id": "0ff1670b",
   "metadata": {},
   "outputs": [
    {
     "name": "stderr",
     "output_type": "stream",
     "text": [
      "/Users/jwang47/opt/anaconda3/envs/dsfb2env/lib/python3.8/site-packages/IPython/core/interactiveshell.py:3457: DtypeWarning: Columns (10,11,13,14,15,16,17,18,20,21,22,23,24,25,26,27,28,29,32,33) have mixed types.Specify dtype option on import or set low_memory=False.\n",
      "  exec(code_obj, self.user_global_ns, self.user_ns)\n"
     ]
    }
   ],
   "source": [
    "df= pd.read_csv(\"covid_data.csv\")"
   ]
  },
  {
   "cell_type": "code",
   "execution_count": 3,
   "id": "e567e2ad",
   "metadata": {},
   "outputs": [
    {
     "data": {
      "text/html": [
       "<div>\n",
       "<style scoped>\n",
       "    .dataframe tbody tr th:only-of-type {\n",
       "        vertical-align: middle;\n",
       "    }\n",
       "\n",
       "    .dataframe tbody tr th {\n",
       "        vertical-align: top;\n",
       "    }\n",
       "\n",
       "    .dataframe thead th {\n",
       "        text-align: right;\n",
       "    }\n",
       "</style>\n",
       "<table border=\"1\" class=\"dataframe\">\n",
       "  <thead>\n",
       "    <tr style=\"text-align: right;\">\n",
       "      <th></th>\n",
       "      <th>Unnamed: 0</th>\n",
       "      <th>ID</th>\n",
       "      <th>age</th>\n",
       "      <th>sex</th>\n",
       "      <th>city</th>\n",
       "      <th>province</th>\n",
       "      <th>country</th>\n",
       "      <th>latitude</th>\n",
       "      <th>longitude</th>\n",
       "      <th>geo_resolution</th>\n",
       "      <th>...</th>\n",
       "      <th>notes_for_discussion</th>\n",
       "      <th>location</th>\n",
       "      <th>admin3</th>\n",
       "      <th>admin2</th>\n",
       "      <th>admin1</th>\n",
       "      <th>country_new</th>\n",
       "      <th>admin_id</th>\n",
       "      <th>data_moderator_initials</th>\n",
       "      <th>travel_history_binary</th>\n",
       "      <th>download_date</th>\n",
       "    </tr>\n",
       "  </thead>\n",
       "  <tbody>\n",
       "    <tr>\n",
       "      <th>0</th>\n",
       "      <td>0</td>\n",
       "      <td>000-1-10</td>\n",
       "      <td>78</td>\n",
       "      <td>male</td>\n",
       "      <td>Vo Euganeo</td>\n",
       "      <td>Veneto</td>\n",
       "      <td>Italy</td>\n",
       "      <td>45.297748</td>\n",
       "      <td>11.658382</td>\n",
       "      <td>point</td>\n",
       "      <td>...</td>\n",
       "      <td>NaN</td>\n",
       "      <td>Vo' Euganeo</td>\n",
       "      <td>NaN</td>\n",
       "      <td>NaN</td>\n",
       "      <td>Veneto</td>\n",
       "      <td>Italy</td>\n",
       "      <td>8954.0</td>\n",
       "      <td>NaN</td>\n",
       "      <td>NaN</td>\n",
       "      <td>2021-02-22</td>\n",
       "    </tr>\n",
       "    <tr>\n",
       "      <th>1</th>\n",
       "      <td>1</td>\n",
       "      <td>000-1-100</td>\n",
       "      <td>61</td>\n",
       "      <td>female</td>\n",
       "      <td>NaN</td>\n",
       "      <td>NaN</td>\n",
       "      <td>Singapore</td>\n",
       "      <td>1.353460</td>\n",
       "      <td>103.815100</td>\n",
       "      <td>admin0</td>\n",
       "      <td>...</td>\n",
       "      <td>NaN</td>\n",
       "      <td>NaN</td>\n",
       "      <td>NaN</td>\n",
       "      <td>NaN</td>\n",
       "      <td>NaN</td>\n",
       "      <td>Singapore</td>\n",
       "      <td>200.0</td>\n",
       "      <td>NaN</td>\n",
       "      <td>NaN</td>\n",
       "      <td>2021-02-22</td>\n",
       "    </tr>\n",
       "    <tr>\n",
       "      <th>2</th>\n",
       "      <td>2</td>\n",
       "      <td>000-1-10021</td>\n",
       "      <td>66</td>\n",
       "      <td>male</td>\n",
       "      <td>Zhenlai County, Baicheng City</td>\n",
       "      <td>Jilin</td>\n",
       "      <td>China</td>\n",
       "      <td>45.948140</td>\n",
       "      <td>123.439600</td>\n",
       "      <td>admin3</td>\n",
       "      <td>...</td>\n",
       "      <td>https://www.google.com/maps/place/Zhenlai+Coun...</td>\n",
       "      <td>NaN</td>\n",
       "      <td>Zhenlai County</td>\n",
       "      <td>Baicheng City</td>\n",
       "      <td>Jilin</td>\n",
       "      <td>China</td>\n",
       "      <td>10096.0</td>\n",
       "      <td>NaN</td>\n",
       "      <td>NaN</td>\n",
       "      <td>2021-02-22</td>\n",
       "    </tr>\n",
       "    <tr>\n",
       "      <th>3</th>\n",
       "      <td>3</td>\n",
       "      <td>000-1-10022</td>\n",
       "      <td>27</td>\n",
       "      <td>female</td>\n",
       "      <td>Longshan District, Liaoyuan City</td>\n",
       "      <td>Jilin</td>\n",
       "      <td>China</td>\n",
       "      <td>42.858020</td>\n",
       "      <td>125.152100</td>\n",
       "      <td>admin3</td>\n",
       "      <td>...</td>\n",
       "      <td>NaN</td>\n",
       "      <td>NaN</td>\n",
       "      <td>Longshan District</td>\n",
       "      <td>Liaoyuan City</td>\n",
       "      <td>Jilin</td>\n",
       "      <td>China</td>\n",
       "      <td>5676.0</td>\n",
       "      <td>NaN</td>\n",
       "      <td>NaN</td>\n",
       "      <td>2021-02-22</td>\n",
       "    </tr>\n",
       "    <tr>\n",
       "      <th>4</th>\n",
       "      <td>4</td>\n",
       "      <td>000-1-10023</td>\n",
       "      <td>17</td>\n",
       "      <td>male</td>\n",
       "      <td>Gongzhuling City, Siping City</td>\n",
       "      <td>Jilin</td>\n",
       "      <td>China</td>\n",
       "      <td>43.783530</td>\n",
       "      <td>124.672900</td>\n",
       "      <td>admin3</td>\n",
       "      <td>...</td>\n",
       "      <td>NaN</td>\n",
       "      <td>NaN</td>\n",
       "      <td>Gongzhuling City</td>\n",
       "      <td>Siping City</td>\n",
       "      <td>Jilin</td>\n",
       "      <td>China</td>\n",
       "      <td>3637.0</td>\n",
       "      <td>NaN</td>\n",
       "      <td>NaN</td>\n",
       "      <td>2021-02-22</td>\n",
       "    </tr>\n",
       "  </tbody>\n",
       "</table>\n",
       "<p>5 rows × 35 columns</p>\n",
       "</div>"
      ],
      "text/plain": [
       "   Unnamed: 0           ID  age     sex                              city  \\\n",
       "0           0     000-1-10   78    male                        Vo Euganeo   \n",
       "1           1    000-1-100   61  female                               NaN   \n",
       "2           2  000-1-10021   66    male     Zhenlai County, Baicheng City   \n",
       "3           3  000-1-10022   27  female  Longshan District, Liaoyuan City   \n",
       "4           4  000-1-10023   17    male     Gongzhuling City, Siping City   \n",
       "\n",
       "  province    country   latitude   longitude geo_resolution  ...  \\\n",
       "0   Veneto      Italy  45.297748   11.658382          point  ...   \n",
       "1      NaN  Singapore   1.353460  103.815100         admin0  ...   \n",
       "2    Jilin      China  45.948140  123.439600         admin3  ...   \n",
       "3    Jilin      China  42.858020  125.152100         admin3  ...   \n",
       "4    Jilin      China  43.783530  124.672900         admin3  ...   \n",
       "\n",
       "                                notes_for_discussion     location  \\\n",
       "0                                                NaN  Vo' Euganeo   \n",
       "1                                                NaN          NaN   \n",
       "2  https://www.google.com/maps/place/Zhenlai+Coun...          NaN   \n",
       "3                                                NaN          NaN   \n",
       "4                                                NaN          NaN   \n",
       "\n",
       "              admin3         admin2  admin1 country_new admin_id  \\\n",
       "0                NaN            NaN  Veneto       Italy   8954.0   \n",
       "1                NaN            NaN     NaN   Singapore    200.0   \n",
       "2     Zhenlai County  Baicheng City   Jilin       China  10096.0   \n",
       "3  Longshan District  Liaoyuan City   Jilin       China   5676.0   \n",
       "4   Gongzhuling City    Siping City   Jilin       China   3637.0   \n",
       "\n",
       "  data_moderator_initials travel_history_binary  download_date  \n",
       "0                     NaN                   NaN     2021-02-22  \n",
       "1                     NaN                   NaN     2021-02-22  \n",
       "2                     NaN                   NaN     2021-02-22  \n",
       "3                     NaN                   NaN     2021-02-22  \n",
       "4                     NaN                   NaN     2021-02-22  \n",
       "\n",
       "[5 rows x 35 columns]"
      ]
     },
     "execution_count": 3,
     "metadata": {},
     "output_type": "execute_result"
    }
   ],
   "source": [
    "df.head(5)"
   ]
  },
  {
   "cell_type": "code",
   "execution_count": 4,
   "id": "68802c5b",
   "metadata": {},
   "outputs": [
    {
     "data": {
      "text/plain": [
       "<bound method DataFrame.info of         Unnamed: 0           ID  age     sex  \\\n",
       "0                0     000-1-10   78    male   \n",
       "1                1    000-1-100   61  female   \n",
       "2                2  000-1-10021   66    male   \n",
       "3                3  000-1-10022   27  female   \n",
       "4                4  000-1-10023   17    male   \n",
       "...            ...          ...  ...     ...   \n",
       "572674      572674    010-99995   52  female   \n",
       "572675      572675    010-99996   52  female   \n",
       "572676      572676    010-99997   52  female   \n",
       "572677      572677    010-99998   52    male   \n",
       "572678      572678    010-99999   52    male   \n",
       "\n",
       "                                    city          province    country  \\\n",
       "0                             Vo Euganeo            Veneto      Italy   \n",
       "1                                    NaN               NaN  Singapore   \n",
       "2          Zhenlai County, Baicheng City             Jilin      China   \n",
       "3       Longshan District, Liaoyuan City             Jilin      China   \n",
       "4          Gongzhuling City, Siping City             Jilin      China   \n",
       "...                                  ...               ...        ...   \n",
       "572674                          Calleria  Coronel Portillo       Peru   \n",
       "572675                      Pueblo Libre              Lima       Peru   \n",
       "572676                             Comas              Lima       Peru   \n",
       "572677                            Callao            Callao       Peru   \n",
       "572678                        Los Olivos              Lima       Peru   \n",
       "\n",
       "         latitude   longitude geo_resolution  ...  \\\n",
       "0       45.297748   11.658382          point  ...   \n",
       "1        1.353460  103.815100         admin0  ...   \n",
       "2       45.948140  123.439600         admin3  ...   \n",
       "3       42.858020  125.152100         admin3  ...   \n",
       "4       43.783530  124.672900         admin3  ...   \n",
       "...           ...         ...            ...  ...   \n",
       "572674  -8.378190  -74.539700          point  ...   \n",
       "572675 -12.076530  -77.067350          point  ...   \n",
       "572676 -11.932980  -77.040850          point  ...   \n",
       "572677 -12.000740  -77.118240          point  ...   \n",
       "572678 -11.976260  -77.075030          point  ...   \n",
       "\n",
       "                                     notes_for_discussion     location  \\\n",
       "0                                                     NaN  Vo' Euganeo   \n",
       "1                                                     NaN          NaN   \n",
       "2       https://www.google.com/maps/place/Zhenlai+Coun...          NaN   \n",
       "3                                                     NaN          NaN   \n",
       "4                                                     NaN          NaN   \n",
       "...                                                   ...          ...   \n",
       "572674                                                NaN          NaN   \n",
       "572675                                                NaN          NaN   \n",
       "572676                                                NaN          NaN   \n",
       "572677                                                NaN          NaN   \n",
       "572678                                                NaN          NaN   \n",
       "\n",
       "                   admin3         admin2  admin1 country_new admin_id  \\\n",
       "0                     NaN            NaN  Veneto       Italy   8954.0   \n",
       "1                     NaN            NaN     NaN   Singapore    200.0   \n",
       "2          Zhenlai County  Baicheng City   Jilin       China  10096.0   \n",
       "3       Longshan District  Liaoyuan City   Jilin       China   5676.0   \n",
       "4        Gongzhuling City    Siping City   Jilin       China   3637.0   \n",
       "...                   ...            ...     ...         ...      ...   \n",
       "572674                NaN            NaN     NaN        Peru  14429.0   \n",
       "572675                NaN            NaN     NaN        Peru  14695.0   \n",
       "572676                NaN            NaN     NaN        Peru  14400.0   \n",
       "572677                NaN            NaN     NaN        Peru  14516.0   \n",
       "572678                NaN            NaN     NaN        Peru  14502.0   \n",
       "\n",
       "       data_moderator_initials travel_history_binary  download_date  \n",
       "0                          NaN                   NaN     2021-02-22  \n",
       "1                          NaN                   NaN     2021-02-22  \n",
       "2                          NaN                   NaN     2021-02-22  \n",
       "3                          NaN                   NaN     2021-02-22  \n",
       "4                          NaN                   NaN     2021-02-22  \n",
       "...                        ...                   ...            ...  \n",
       "572674                     NaN                 False     2021-02-22  \n",
       "572675                     NaN                 False     2021-02-22  \n",
       "572676                     NaN                 False     2021-02-22  \n",
       "572677                     NaN                 False     2021-02-22  \n",
       "572678                     NaN                 False     2021-02-22  \n",
       "\n",
       "[572679 rows x 35 columns]>"
      ]
     },
     "execution_count": 4,
     "metadata": {},
     "output_type": "execute_result"
    }
   ],
   "source": [
    "df.info"
   ]
  },
  {
   "cell_type": "code",
   "execution_count": 5,
   "id": "a81c19e8",
   "metadata": {},
   "outputs": [],
   "source": [
    "data=df[[\"age\", \"sex\",\"date_confirmation\",\"chronic_disease_binary\",\"date_death_or_discharge\",\"download_date\",\"outcome\"]]"
   ]
  },
  {
   "cell_type": "code",
   "execution_count": 6,
   "id": "472a9b28",
   "metadata": {},
   "outputs": [
    {
     "data": {
      "text/html": [
       "<div>\n",
       "<style scoped>\n",
       "    .dataframe tbody tr th:only-of-type {\n",
       "        vertical-align: middle;\n",
       "    }\n",
       "\n",
       "    .dataframe tbody tr th {\n",
       "        vertical-align: top;\n",
       "    }\n",
       "\n",
       "    .dataframe thead th {\n",
       "        text-align: right;\n",
       "    }\n",
       "</style>\n",
       "<table border=\"1\" class=\"dataframe\">\n",
       "  <thead>\n",
       "    <tr style=\"text-align: right;\">\n",
       "      <th></th>\n",
       "      <th>age</th>\n",
       "      <th>sex</th>\n",
       "      <th>date_confirmation</th>\n",
       "      <th>chronic_disease_binary</th>\n",
       "      <th>date_death_or_discharge</th>\n",
       "      <th>download_date</th>\n",
       "      <th>outcome</th>\n",
       "    </tr>\n",
       "  </thead>\n",
       "  <tbody>\n",
       "    <tr>\n",
       "      <th>0</th>\n",
       "      <td>78</td>\n",
       "      <td>male</td>\n",
       "      <td>2020-02-21</td>\n",
       "      <td>False</td>\n",
       "      <td>2020-02-22</td>\n",
       "      <td>2021-02-22</td>\n",
       "      <td>death</td>\n",
       "    </tr>\n",
       "    <tr>\n",
       "      <th>1</th>\n",
       "      <td>61</td>\n",
       "      <td>female</td>\n",
       "      <td>2020-02-14</td>\n",
       "      <td>False</td>\n",
       "      <td>2020-02-17</td>\n",
       "      <td>2021-02-22</td>\n",
       "      <td>discharge</td>\n",
       "    </tr>\n",
       "    <tr>\n",
       "      <th>2</th>\n",
       "      <td>66</td>\n",
       "      <td>male</td>\n",
       "      <td>2020-07-02</td>\n",
       "      <td>False</td>\n",
       "      <td>NaN</td>\n",
       "      <td>2021-02-22</td>\n",
       "      <td>NaN</td>\n",
       "    </tr>\n",
       "    <tr>\n",
       "      <th>3</th>\n",
       "      <td>27</td>\n",
       "      <td>female</td>\n",
       "      <td>2020-07-02</td>\n",
       "      <td>False</td>\n",
       "      <td>NaN</td>\n",
       "      <td>2021-02-22</td>\n",
       "      <td>NaN</td>\n",
       "    </tr>\n",
       "    <tr>\n",
       "      <th>4</th>\n",
       "      <td>17</td>\n",
       "      <td>male</td>\n",
       "      <td>2020-07-02</td>\n",
       "      <td>False</td>\n",
       "      <td>NaN</td>\n",
       "      <td>2021-02-22</td>\n",
       "      <td>NaN</td>\n",
       "    </tr>\n",
       "    <tr>\n",
       "      <th>5</th>\n",
       "      <td>51</td>\n",
       "      <td>female</td>\n",
       "      <td>2020-07-02</td>\n",
       "      <td>False</td>\n",
       "      <td>NaN</td>\n",
       "      <td>2021-02-22</td>\n",
       "      <td>NaN</td>\n",
       "    </tr>\n",
       "    <tr>\n",
       "      <th>6</th>\n",
       "      <td>68</td>\n",
       "      <td>male</td>\n",
       "      <td>2020-08-02</td>\n",
       "      <td>False</td>\n",
       "      <td>NaN</td>\n",
       "      <td>2021-02-22</td>\n",
       "      <td>NaN</td>\n",
       "    </tr>\n",
       "    <tr>\n",
       "      <th>7</th>\n",
       "      <td>26</td>\n",
       "      <td>male</td>\n",
       "      <td>2020-08-02</td>\n",
       "      <td>False</td>\n",
       "      <td>NaN</td>\n",
       "      <td>2021-02-22</td>\n",
       "      <td>NaN</td>\n",
       "    </tr>\n",
       "    <tr>\n",
       "      <th>8</th>\n",
       "      <td>30</td>\n",
       "      <td>male</td>\n",
       "      <td>2020-08-02</td>\n",
       "      <td>False</td>\n",
       "      <td>NaN</td>\n",
       "      <td>2021-02-22</td>\n",
       "      <td>NaN</td>\n",
       "    </tr>\n",
       "    <tr>\n",
       "      <th>9</th>\n",
       "      <td>53</td>\n",
       "      <td>female</td>\n",
       "      <td>2020-08-02</td>\n",
       "      <td>False</td>\n",
       "      <td>NaN</td>\n",
       "      <td>2021-02-22</td>\n",
       "      <td>NaN</td>\n",
       "    </tr>\n",
       "    <tr>\n",
       "      <th>10</th>\n",
       "      <td>35</td>\n",
       "      <td>male</td>\n",
       "      <td>2020-08-02</td>\n",
       "      <td>False</td>\n",
       "      <td>NaN</td>\n",
       "      <td>2021-02-22</td>\n",
       "      <td>NaN</td>\n",
       "    </tr>\n",
       "    <tr>\n",
       "      <th>11</th>\n",
       "      <td>27</td>\n",
       "      <td>female</td>\n",
       "      <td>2020-08-02</td>\n",
       "      <td>False</td>\n",
       "      <td>NaN</td>\n",
       "      <td>2021-02-22</td>\n",
       "      <td>NaN</td>\n",
       "    </tr>\n",
       "    <tr>\n",
       "      <th>12</th>\n",
       "      <td>28</td>\n",
       "      <td>male</td>\n",
       "      <td>2020-08-02</td>\n",
       "      <td>False</td>\n",
       "      <td>NaN</td>\n",
       "      <td>2021-02-22</td>\n",
       "      <td>NaN</td>\n",
       "    </tr>\n",
       "    <tr>\n",
       "      <th>13</th>\n",
       "      <td>58</td>\n",
       "      <td>female</td>\n",
       "      <td>2020-08-02</td>\n",
       "      <td>False</td>\n",
       "      <td>NaN</td>\n",
       "      <td>2021-02-22</td>\n",
       "      <td>NaN</td>\n",
       "    </tr>\n",
       "    <tr>\n",
       "      <th>14</th>\n",
       "      <td>33</td>\n",
       "      <td>female</td>\n",
       "      <td>2020-08-02</td>\n",
       "      <td>False</td>\n",
       "      <td>NaN</td>\n",
       "      <td>2021-02-22</td>\n",
       "      <td>NaN</td>\n",
       "    </tr>\n",
       "    <tr>\n",
       "      <th>15</th>\n",
       "      <td>33</td>\n",
       "      <td>male</td>\n",
       "      <td>2020-02-14</td>\n",
       "      <td>False</td>\n",
       "      <td>NaN</td>\n",
       "      <td>2021-02-22</td>\n",
       "      <td>NaN</td>\n",
       "    </tr>\n",
       "    <tr>\n",
       "      <th>16</th>\n",
       "      <td>50</td>\n",
       "      <td>male</td>\n",
       "      <td>2020-02-14</td>\n",
       "      <td>False</td>\n",
       "      <td>NaN</td>\n",
       "      <td>2021-02-22</td>\n",
       "      <td>NaN</td>\n",
       "    </tr>\n",
       "    <tr>\n",
       "      <th>17</th>\n",
       "      <td>33</td>\n",
       "      <td>female</td>\n",
       "      <td>2020-02-13</td>\n",
       "      <td>False</td>\n",
       "      <td>NaN</td>\n",
       "      <td>2021-02-22</td>\n",
       "      <td>NaN</td>\n",
       "    </tr>\n",
       "    <tr>\n",
       "      <th>18</th>\n",
       "      <td>45</td>\n",
       "      <td>male</td>\n",
       "      <td>2020-02-13</td>\n",
       "      <td>False</td>\n",
       "      <td>NaN</td>\n",
       "      <td>2021-02-22</td>\n",
       "      <td>NaN</td>\n",
       "    </tr>\n",
       "    <tr>\n",
       "      <th>19</th>\n",
       "      <td>24</td>\n",
       "      <td>male</td>\n",
       "      <td>2020-12-02</td>\n",
       "      <td>False</td>\n",
       "      <td>NaN</td>\n",
       "      <td>2021-02-22</td>\n",
       "      <td>NaN</td>\n",
       "    </tr>\n",
       "    <tr>\n",
       "      <th>20</th>\n",
       "      <td>88</td>\n",
       "      <td>male</td>\n",
       "      <td>2020-10-02</td>\n",
       "      <td>False</td>\n",
       "      <td>NaN</td>\n",
       "      <td>2021-02-22</td>\n",
       "      <td>NaN</td>\n",
       "    </tr>\n",
       "    <tr>\n",
       "      <th>21</th>\n",
       "      <td>29</td>\n",
       "      <td>female</td>\n",
       "      <td>2020-11-02</td>\n",
       "      <td>False</td>\n",
       "      <td>NaN</td>\n",
       "      <td>2021-02-22</td>\n",
       "      <td>NaN</td>\n",
       "    </tr>\n",
       "    <tr>\n",
       "      <th>22</th>\n",
       "      <td>21</td>\n",
       "      <td>female</td>\n",
       "      <td>2020-11-02</td>\n",
       "      <td>False</td>\n",
       "      <td>NaN</td>\n",
       "      <td>2021-02-22</td>\n",
       "      <td>NaN</td>\n",
       "    </tr>\n",
       "    <tr>\n",
       "      <th>23</th>\n",
       "      <td>78</td>\n",
       "      <td>female</td>\n",
       "      <td>2020-09-02</td>\n",
       "      <td>False</td>\n",
       "      <td>NaN</td>\n",
       "      <td>2021-02-22</td>\n",
       "      <td>NaN</td>\n",
       "    </tr>\n",
       "    <tr>\n",
       "      <th>24</th>\n",
       "      <td>52</td>\n",
       "      <td>male</td>\n",
       "      <td>2020-09-02</td>\n",
       "      <td>False</td>\n",
       "      <td>NaN</td>\n",
       "      <td>2021-02-22</td>\n",
       "      <td>NaN</td>\n",
       "    </tr>\n",
       "    <tr>\n",
       "      <th>25</th>\n",
       "      <td>60</td>\n",
       "      <td>female</td>\n",
       "      <td>2020-02-15</td>\n",
       "      <td>False</td>\n",
       "      <td>NaN</td>\n",
       "      <td>2021-02-22</td>\n",
       "      <td>NaN</td>\n",
       "    </tr>\n",
       "    <tr>\n",
       "      <th>26</th>\n",
       "      <td>28</td>\n",
       "      <td>male</td>\n",
       "      <td>2020-02-14</td>\n",
       "      <td>False</td>\n",
       "      <td>2020-02-20</td>\n",
       "      <td>2021-02-22</td>\n",
       "      <td>discharge</td>\n",
       "    </tr>\n",
       "    <tr>\n",
       "      <th>27</th>\n",
       "      <td>56</td>\n",
       "      <td>female</td>\n",
       "      <td>2020-02-14</td>\n",
       "      <td>False</td>\n",
       "      <td>2020-02-03</td>\n",
       "      <td>2021-02-22</td>\n",
       "      <td>discharge</td>\n",
       "    </tr>\n",
       "    <tr>\n",
       "      <th>28</th>\n",
       "      <td>79</td>\n",
       "      <td>female</td>\n",
       "      <td>2020-02-14</td>\n",
       "      <td>False</td>\n",
       "      <td>2020-02-29</td>\n",
       "      <td>2021-02-22</td>\n",
       "      <td>discharge</td>\n",
       "    </tr>\n",
       "    <tr>\n",
       "      <th>29</th>\n",
       "      <td>50</td>\n",
       "      <td>male</td>\n",
       "      <td>2020-02-16</td>\n",
       "      <td>False</td>\n",
       "      <td>NaN</td>\n",
       "      <td>2021-02-22</td>\n",
       "      <td>NaN</td>\n",
       "    </tr>\n",
       "  </tbody>\n",
       "</table>\n",
       "</div>"
      ],
      "text/plain": [
       "    age     sex date_confirmation  chronic_disease_binary  \\\n",
       "0    78    male        2020-02-21                   False   \n",
       "1    61  female        2020-02-14                   False   \n",
       "2    66    male        2020-07-02                   False   \n",
       "3    27  female        2020-07-02                   False   \n",
       "4    17    male        2020-07-02                   False   \n",
       "5    51  female        2020-07-02                   False   \n",
       "6    68    male        2020-08-02                   False   \n",
       "7    26    male        2020-08-02                   False   \n",
       "8    30    male        2020-08-02                   False   \n",
       "9    53  female        2020-08-02                   False   \n",
       "10   35    male        2020-08-02                   False   \n",
       "11   27  female        2020-08-02                   False   \n",
       "12   28    male        2020-08-02                   False   \n",
       "13   58  female        2020-08-02                   False   \n",
       "14   33  female        2020-08-02                   False   \n",
       "15   33    male        2020-02-14                   False   \n",
       "16   50    male        2020-02-14                   False   \n",
       "17   33  female        2020-02-13                   False   \n",
       "18   45    male        2020-02-13                   False   \n",
       "19   24    male        2020-12-02                   False   \n",
       "20   88    male        2020-10-02                   False   \n",
       "21   29  female        2020-11-02                   False   \n",
       "22   21  female        2020-11-02                   False   \n",
       "23   78  female        2020-09-02                   False   \n",
       "24   52    male        2020-09-02                   False   \n",
       "25   60  female        2020-02-15                   False   \n",
       "26   28    male        2020-02-14                   False   \n",
       "27   56  female        2020-02-14                   False   \n",
       "28   79  female        2020-02-14                   False   \n",
       "29   50    male        2020-02-16                   False   \n",
       "\n",
       "   date_death_or_discharge download_date    outcome  \n",
       "0               2020-02-22    2021-02-22      death  \n",
       "1               2020-02-17    2021-02-22  discharge  \n",
       "2                      NaN    2021-02-22        NaN  \n",
       "3                      NaN    2021-02-22        NaN  \n",
       "4                      NaN    2021-02-22        NaN  \n",
       "5                      NaN    2021-02-22        NaN  \n",
       "6                      NaN    2021-02-22        NaN  \n",
       "7                      NaN    2021-02-22        NaN  \n",
       "8                      NaN    2021-02-22        NaN  \n",
       "9                      NaN    2021-02-22        NaN  \n",
       "10                     NaN    2021-02-22        NaN  \n",
       "11                     NaN    2021-02-22        NaN  \n",
       "12                     NaN    2021-02-22        NaN  \n",
       "13                     NaN    2021-02-22        NaN  \n",
       "14                     NaN    2021-02-22        NaN  \n",
       "15                     NaN    2021-02-22        NaN  \n",
       "16                     NaN    2021-02-22        NaN  \n",
       "17                     NaN    2021-02-22        NaN  \n",
       "18                     NaN    2021-02-22        NaN  \n",
       "19                     NaN    2021-02-22        NaN  \n",
       "20                     NaN    2021-02-22        NaN  \n",
       "21                     NaN    2021-02-22        NaN  \n",
       "22                     NaN    2021-02-22        NaN  \n",
       "23                     NaN    2021-02-22        NaN  \n",
       "24                     NaN    2021-02-22        NaN  \n",
       "25                     NaN    2021-02-22        NaN  \n",
       "26              2020-02-20    2021-02-22  discharge  \n",
       "27              2020-02-03    2021-02-22  discharge  \n",
       "28              2020-02-29    2021-02-22  discharge  \n",
       "29                     NaN    2021-02-22        NaN  "
      ]
     },
     "execution_count": 6,
     "metadata": {},
     "output_type": "execute_result"
    }
   ],
   "source": [
    "data.head(30)"
   ]
  },
  {
   "cell_type": "code",
   "execution_count": 7,
   "id": "bd8d1d39",
   "metadata": {},
   "outputs": [
    {
     "name": "stdout",
     "output_type": "stream",
     "text": [
      "age ; 109\n",
      "sex ; 2\n",
      "date_confirmation ; 153\n",
      "chronic_disease_binary ; 2\n",
      "date_death_or_discharge ; 143\n",
      "download_date ; 1\n",
      "outcome ; 28\n"
     ]
    }
   ],
   "source": [
    "for i in data:\n",
    "    print(i,';',len(data[i].unique()))"
   ]
  },
  {
   "cell_type": "code",
   "execution_count": 8,
   "id": "bc1c207b",
   "metadata": {},
   "outputs": [
    {
     "data": {
      "text/plain": [
       "array(['death', 'discharge', nan, 'discharged', 'Discharged',\n",
       "       'not hospitalized', 'recovered', 'recovering at home 03.03.2020',\n",
       "       'released from quarantine', 'severe', 'stable', 'died', 'Death',\n",
       "       'dead',\n",
       "       'Symptoms only improved with cough. Currently hospitalized for follow-up.',\n",
       "       'treated in an intensive care unit (14.02.2020)', 'Alive', 'Dead',\n",
       "       'Recovered', 'Stable', 'Died', 'Deceased', 'stable condition',\n",
       "       'Under treatment', 'Receiving Treatment', 'severe illness',\n",
       "       'critical condition', 'Hospitalized'], dtype=object)"
      ]
     },
     "execution_count": 8,
     "metadata": {},
     "output_type": "execute_result"
    }
   ],
   "source": [
    "data[\"outcome\"].unique()"
   ]
  },
  {
   "cell_type": "code",
   "execution_count": 9,
   "id": "f5c4efb3",
   "metadata": {},
   "outputs": [],
   "source": [
    "df['outcome']=data['outcome'].str.lower()"
   ]
  },
  {
   "cell_type": "code",
   "execution_count": 10,
   "id": "5a76b7ca",
   "metadata": {},
   "outputs": [
    {
     "data": {
      "text/plain": [
       "array(['death', 'discharge', nan, 'discharged', 'Discharged',\n",
       "       'not hospitalized', 'recovered', 'recovering at home 03.03.2020',\n",
       "       'released from quarantine', 'severe', 'stable', 'died', 'Death',\n",
       "       'dead',\n",
       "       'Symptoms only improved with cough. Currently hospitalized for follow-up.',\n",
       "       'treated in an intensive care unit (14.02.2020)', 'Alive', 'Dead',\n",
       "       'Recovered', 'Stable', 'Died', 'Deceased', 'stable condition',\n",
       "       'Under treatment', 'Receiving Treatment', 'severe illness',\n",
       "       'critical condition', 'Hospitalized'], dtype=object)"
      ]
     },
     "execution_count": 10,
     "metadata": {},
     "output_type": "execute_result"
    }
   ],
   "source": [
    "data[\"outcome\"].unique()"
   ]
  },
  {
   "cell_type": "code",
   "execution_count": 11,
   "id": "0e587334",
   "metadata": {},
   "outputs": [],
   "source": [
    "death = ['death','died','Death','dead','Dead','Died','Deceased']"
   ]
  },
  {
   "cell_type": "code",
   "execution_count": 12,
   "id": "97415da3",
   "metadata": {},
   "outputs": [],
   "source": [
    "non_death =[np.nan,'discharge', 'discharged', 'Discharged',\n",
    "       'not hospitalized', 'recovered', 'recovering at home 03.03.2020',\n",
    "       'released from quarantine', 'severe', 'stable', \n",
    "       'Symptoms only improved with cough. Currently hospitalized for follow-up.', 'Alive', \n",
    "       'Recovered', 'Stable', 'stable condition',\n",
    "       'Under treatment', 'Receiving Treatment', 'severe illness',\n",
    "       'critical condition', 'Hospitalized']"
   ]
  },
  {
   "cell_type": "code",
   "execution_count": 13,
   "id": "20a87c11",
   "metadata": {},
   "outputs": [],
   "source": [
    "data=data.replace(regex=death,value=True)"
   ]
  },
  {
   "cell_type": "code",
   "execution_count": 14,
   "id": "b484d7f2",
   "metadata": {},
   "outputs": [],
   "source": [
    "data=data.replace(regex=non_death,value=False)"
   ]
  },
  {
   "cell_type": "code",
   "execution_count": 15,
   "id": "3c364446",
   "metadata": {},
   "outputs": [],
   "source": [
    "data=data.replace('treated in an intensive care unit (14.02.2020)',False)"
   ]
  },
  {
   "cell_type": "code",
   "execution_count": 16,
   "id": "126a80f9",
   "metadata": {},
   "outputs": [
    {
     "name": "stdout",
     "output_type": "stream",
     "text": [
      "        age     sex date_confirmation  chronic_disease_binary  \\\n",
      "0        78    male        2020-02-21                   False   \n",
      "1        61  female        2020-02-14                   False   \n",
      "2        66    male        2020-07-02                   False   \n",
      "3        27  female        2020-07-02                   False   \n",
      "4        17    male        2020-07-02                   False   \n",
      "...     ...     ...               ...                     ...   \n",
      "572674   52  female        2020-05-17                   False   \n",
      "572675   52  female        2020-05-17                   False   \n",
      "572676   52  female        2020-05-17                   False   \n",
      "572677   52    male        2020-05-17                   False   \n",
      "572678   52    male        2020-05-17                   False   \n",
      "\n",
      "       date_death_or_discharge download_date  outcome  \n",
      "0                   2020-02-22    2021-02-22     True  \n",
      "1                   2020-02-17    2021-02-22    False  \n",
      "2                        False    2021-02-22    False  \n",
      "3                        False    2021-02-22    False  \n",
      "4                        False    2021-02-22    False  \n",
      "...                        ...           ...      ...  \n",
      "572674                   False    2021-02-22    False  \n",
      "572675                   False    2021-02-22    False  \n",
      "572676                   False    2021-02-22    False  \n",
      "572677                   False    2021-02-22    False  \n",
      "572678                   False    2021-02-22    False  \n",
      "\n",
      "[572679 rows x 7 columns]\n"
     ]
    }
   ],
   "source": [
    "print(data)"
   ]
  },
  {
   "cell_type": "code",
   "execution_count": 17,
   "id": "81d6d4b3",
   "metadata": {},
   "outputs": [
    {
     "data": {
      "text/plain": [
       "array([ True, False])"
      ]
     },
     "execution_count": 17,
     "metadata": {},
     "output_type": "execute_result"
    }
   ],
   "source": [
    "data[\"outcome\"].unique()"
   ]
  },
  {
   "cell_type": "code",
   "execution_count": 18,
   "id": "dd8d1da7",
   "metadata": {},
   "outputs": [
    {
     "data": {
      "text/plain": [
       "age                        1368\n",
       "sex                        1368\n",
       "date_confirmation          1368\n",
       "chronic_disease_binary     1368\n",
       "date_death_or_discharge    1368\n",
       "download_date              1368\n",
       "outcome                    1368\n",
       "dtype: int64"
      ]
     },
     "execution_count": 18,
     "metadata": {},
     "output_type": "execute_result"
    }
   ],
   "source": [
    "data[data['outcome']==1].count()"
   ]
  },
  {
   "cell_type": "code",
   "execution_count": 19,
   "id": "df4e9f0a",
   "metadata": {},
   "outputs": [
    {
     "data": {
      "text/plain": [
       "0"
      ]
     },
     "execution_count": 19,
     "metadata": {},
     "output_type": "execute_result"
    }
   ],
   "source": [
    "data['outcome'].isnull().sum()"
   ]
  },
  {
   "cell_type": "code",
   "execution_count": 20,
   "id": "54e05d6f",
   "metadata": {},
   "outputs": [],
   "source": [
    "data['date_confirmation'] = pd.to_datetime(data['date_confirmation'],errors='coerce')"
   ]
  },
  {
   "cell_type": "code",
   "execution_count": 21,
   "id": "6c1d660e",
   "metadata": {},
   "outputs": [],
   "source": [
    "data['date_death_or_discharge'] = pd.to_datetime(data['date_death_or_discharge'],errors='coerce')"
   ]
  },
  {
   "cell_type": "code",
   "execution_count": 22,
   "id": "5cf13078",
   "metadata": {},
   "outputs": [],
   "source": [
    "data['download_date'] = pd.to_datetime(data['download_date'],errors='coerce')"
   ]
  },
  {
   "cell_type": "code",
   "execution_count": 23,
   "id": "332fa0f0",
   "metadata": {},
   "outputs": [
    {
     "name": "stdout",
     "output_type": "stream",
     "text": [
      "        age     sex date_confirmation  chronic_disease_binary  \\\n",
      "0        78    male        2020-02-21                   False   \n",
      "1        61  female        2020-02-14                   False   \n",
      "2        66    male        2020-07-02                   False   \n",
      "3        27  female        2020-07-02                   False   \n",
      "4        17    male        2020-07-02                   False   \n",
      "...     ...     ...               ...                     ...   \n",
      "572674   52  female        2020-05-17                   False   \n",
      "572675   52  female        2020-05-17                   False   \n",
      "572676   52  female        2020-05-17                   False   \n",
      "572677   52    male        2020-05-17                   False   \n",
      "572678   52    male        2020-05-17                   False   \n",
      "\n",
      "       date_death_or_discharge download_date  outcome  \n",
      "0                   2020-02-22    2021-02-22     True  \n",
      "1                   2020-02-17    2021-02-22    False  \n",
      "2                          NaT    2021-02-22    False  \n",
      "3                          NaT    2021-02-22    False  \n",
      "4                          NaT    2021-02-22    False  \n",
      "...                        ...           ...      ...  \n",
      "572674                     NaT    2021-02-22    False  \n",
      "572675                     NaT    2021-02-22    False  \n",
      "572676                     NaT    2021-02-22    False  \n",
      "572677                     NaT    2021-02-22    False  \n",
      "572678                     NaT    2021-02-22    False  \n",
      "\n",
      "[572679 rows x 7 columns]\n"
     ]
    }
   ],
   "source": [
    "print(data)"
   ]
  },
  {
   "cell_type": "code",
   "execution_count": 24,
   "id": "756c9fc9",
   "metadata": {},
   "outputs": [
    {
     "data": {
      "text/html": [
       "<div>\n",
       "<style scoped>\n",
       "    .dataframe tbody tr th:only-of-type {\n",
       "        vertical-align: middle;\n",
       "    }\n",
       "\n",
       "    .dataframe tbody tr th {\n",
       "        vertical-align: top;\n",
       "    }\n",
       "\n",
       "    .dataframe thead th {\n",
       "        text-align: right;\n",
       "    }\n",
       "</style>\n",
       "<table border=\"1\" class=\"dataframe\">\n",
       "  <thead>\n",
       "    <tr style=\"text-align: right;\">\n",
       "      <th></th>\n",
       "      <th>age</th>\n",
       "      <th>sex</th>\n",
       "      <th>date_confirmation</th>\n",
       "      <th>chronic_disease_binary</th>\n",
       "      <th>date_death_or_discharge</th>\n",
       "      <th>download_date</th>\n",
       "      <th>outcome</th>\n",
       "    </tr>\n",
       "  </thead>\n",
       "  <tbody>\n",
       "    <tr>\n",
       "      <th>0</th>\n",
       "      <td>78</td>\n",
       "      <td>male</td>\n",
       "      <td>2020-02-21</td>\n",
       "      <td>False</td>\n",
       "      <td>2020-02-22</td>\n",
       "      <td>2021-02-22</td>\n",
       "      <td>True</td>\n",
       "    </tr>\n",
       "    <tr>\n",
       "      <th>1</th>\n",
       "      <td>61</td>\n",
       "      <td>female</td>\n",
       "      <td>2020-02-14</td>\n",
       "      <td>False</td>\n",
       "      <td>2020-02-17</td>\n",
       "      <td>2021-02-22</td>\n",
       "      <td>False</td>\n",
       "    </tr>\n",
       "    <tr>\n",
       "      <th>2</th>\n",
       "      <td>66</td>\n",
       "      <td>male</td>\n",
       "      <td>2020-07-02</td>\n",
       "      <td>False</td>\n",
       "      <td>NaT</td>\n",
       "      <td>2021-02-22</td>\n",
       "      <td>False</td>\n",
       "    </tr>\n",
       "    <tr>\n",
       "      <th>3</th>\n",
       "      <td>27</td>\n",
       "      <td>female</td>\n",
       "      <td>2020-07-02</td>\n",
       "      <td>False</td>\n",
       "      <td>NaT</td>\n",
       "      <td>2021-02-22</td>\n",
       "      <td>False</td>\n",
       "    </tr>\n",
       "    <tr>\n",
       "      <th>4</th>\n",
       "      <td>17</td>\n",
       "      <td>male</td>\n",
       "      <td>2020-07-02</td>\n",
       "      <td>False</td>\n",
       "      <td>NaT</td>\n",
       "      <td>2021-02-22</td>\n",
       "      <td>False</td>\n",
       "    </tr>\n",
       "  </tbody>\n",
       "</table>\n",
       "</div>"
      ],
      "text/plain": [
       "   age     sex date_confirmation  chronic_disease_binary  \\\n",
       "0   78    male        2020-02-21                   False   \n",
       "1   61  female        2020-02-14                   False   \n",
       "2   66    male        2020-07-02                   False   \n",
       "3   27  female        2020-07-02                   False   \n",
       "4   17    male        2020-07-02                   False   \n",
       "\n",
       "  date_death_or_discharge download_date  outcome  \n",
       "0              2020-02-22    2021-02-22     True  \n",
       "1              2020-02-17    2021-02-22    False  \n",
       "2                     NaT    2021-02-22    False  \n",
       "3                     NaT    2021-02-22    False  \n",
       "4                     NaT    2021-02-22    False  "
      ]
     },
     "execution_count": 24,
     "metadata": {},
     "output_type": "execute_result"
    }
   ],
   "source": [
    "data.head(5)"
   ]
  },
  {
   "cell_type": "code",
   "execution_count": 25,
   "id": "afdac494",
   "metadata": {},
   "outputs": [
    {
     "data": {
      "text/plain": [
       "age                        1368\n",
       "sex                        1368\n",
       "date_confirmation          1327\n",
       "chronic_disease_binary     1368\n",
       "date_death_or_discharge     886\n",
       "download_date              1368\n",
       "outcome                    1368\n",
       "dtype: int64"
      ]
     },
     "execution_count": 25,
     "metadata": {},
     "output_type": "execute_result"
    }
   ],
   "source": [
    "data[data['outcome']==1].count()"
   ]
  },
  {
   "cell_type": "code",
   "execution_count": 26,
   "id": "18e831d4",
   "metadata": {},
   "outputs": [
    {
     "data": {
      "text/plain": [
       "age                        571311\n",
       "sex                        571311\n",
       "date_confirmation          571078\n",
       "chronic_disease_binary     571311\n",
       "date_death_or_discharge      2208\n",
       "download_date              571311\n",
       "outcome                    571311\n",
       "dtype: int64"
      ]
     },
     "execution_count": 26,
     "metadata": {},
     "output_type": "execute_result"
    }
   ],
   "source": [
    "data[data['outcome']==0].count()"
   ]
  },
  {
   "cell_type": "code",
   "execution_count": 27,
   "id": "736e7ebe",
   "metadata": {},
   "outputs": [],
   "source": [
    "a=abs(data[\"download_date\"] - data[\"date_confirmation\"])\n",
    "b=abs(data['date_death_or_discharge'] - data[\"date_confirmation\"])\n",
    "\n",
    "nat = np.datetime64('NaT')\n",
    "data['time1']=a\n",
    "data['time']=b"
   ]
  },
  {
   "cell_type": "code",
   "execution_count": 28,
   "id": "574534ab",
   "metadata": {},
   "outputs": [
    {
     "data": {
      "text/html": [
       "<div>\n",
       "<style scoped>\n",
       "    .dataframe tbody tr th:only-of-type {\n",
       "        vertical-align: middle;\n",
       "    }\n",
       "\n",
       "    .dataframe tbody tr th {\n",
       "        vertical-align: top;\n",
       "    }\n",
       "\n",
       "    .dataframe thead th {\n",
       "        text-align: right;\n",
       "    }\n",
       "</style>\n",
       "<table border=\"1\" class=\"dataframe\">\n",
       "  <thead>\n",
       "    <tr style=\"text-align: right;\">\n",
       "      <th></th>\n",
       "      <th>age</th>\n",
       "      <th>sex</th>\n",
       "      <th>date_confirmation</th>\n",
       "      <th>chronic_disease_binary</th>\n",
       "      <th>date_death_or_discharge</th>\n",
       "      <th>download_date</th>\n",
       "      <th>outcome</th>\n",
       "      <th>time1</th>\n",
       "      <th>time</th>\n",
       "    </tr>\n",
       "  </thead>\n",
       "  <tbody>\n",
       "    <tr>\n",
       "      <th>0</th>\n",
       "      <td>78</td>\n",
       "      <td>male</td>\n",
       "      <td>2020-02-21</td>\n",
       "      <td>False</td>\n",
       "      <td>2020-02-22</td>\n",
       "      <td>2021-02-22</td>\n",
       "      <td>True</td>\n",
       "      <td>367 days</td>\n",
       "      <td>1 days</td>\n",
       "    </tr>\n",
       "    <tr>\n",
       "      <th>1</th>\n",
       "      <td>61</td>\n",
       "      <td>female</td>\n",
       "      <td>2020-02-14</td>\n",
       "      <td>False</td>\n",
       "      <td>2020-02-17</td>\n",
       "      <td>2021-02-22</td>\n",
       "      <td>False</td>\n",
       "      <td>374 days</td>\n",
       "      <td>3 days</td>\n",
       "    </tr>\n",
       "    <tr>\n",
       "      <th>2</th>\n",
       "      <td>66</td>\n",
       "      <td>male</td>\n",
       "      <td>2020-07-02</td>\n",
       "      <td>False</td>\n",
       "      <td>NaT</td>\n",
       "      <td>2021-02-22</td>\n",
       "      <td>False</td>\n",
       "      <td>235 days</td>\n",
       "      <td>NaT</td>\n",
       "    </tr>\n",
       "    <tr>\n",
       "      <th>3</th>\n",
       "      <td>27</td>\n",
       "      <td>female</td>\n",
       "      <td>2020-07-02</td>\n",
       "      <td>False</td>\n",
       "      <td>NaT</td>\n",
       "      <td>2021-02-22</td>\n",
       "      <td>False</td>\n",
       "      <td>235 days</td>\n",
       "      <td>NaT</td>\n",
       "    </tr>\n",
       "    <tr>\n",
       "      <th>4</th>\n",
       "      <td>17</td>\n",
       "      <td>male</td>\n",
       "      <td>2020-07-02</td>\n",
       "      <td>False</td>\n",
       "      <td>NaT</td>\n",
       "      <td>2021-02-22</td>\n",
       "      <td>False</td>\n",
       "      <td>235 days</td>\n",
       "      <td>NaT</td>\n",
       "    </tr>\n",
       "  </tbody>\n",
       "</table>\n",
       "</div>"
      ],
      "text/plain": [
       "   age     sex date_confirmation  chronic_disease_binary  \\\n",
       "0   78    male        2020-02-21                   False   \n",
       "1   61  female        2020-02-14                   False   \n",
       "2   66    male        2020-07-02                   False   \n",
       "3   27  female        2020-07-02                   False   \n",
       "4   17    male        2020-07-02                   False   \n",
       "\n",
       "  date_death_or_discharge download_date  outcome    time1   time  \n",
       "0              2020-02-22    2021-02-22     True 367 days 1 days  \n",
       "1              2020-02-17    2021-02-22    False 374 days 3 days  \n",
       "2                     NaT    2021-02-22    False 235 days    NaT  \n",
       "3                     NaT    2021-02-22    False 235 days    NaT  \n",
       "4                     NaT    2021-02-22    False 235 days    NaT  "
      ]
     },
     "execution_count": 28,
     "metadata": {},
     "output_type": "execute_result"
    }
   ],
   "source": [
    "data.head(5)"
   ]
  },
  {
   "cell_type": "code",
   "execution_count": 29,
   "id": "d3c3b65f",
   "metadata": {},
   "outputs": [],
   "source": [
    "data[\"time\"].fillna(data['time1'], inplace=True)"
   ]
  },
  {
   "cell_type": "code",
   "execution_count": 30,
   "id": "b88644b8",
   "metadata": {},
   "outputs": [
    {
     "data": {
      "text/html": [
       "<div>\n",
       "<style scoped>\n",
       "    .dataframe tbody tr th:only-of-type {\n",
       "        vertical-align: middle;\n",
       "    }\n",
       "\n",
       "    .dataframe tbody tr th {\n",
       "        vertical-align: top;\n",
       "    }\n",
       "\n",
       "    .dataframe thead th {\n",
       "        text-align: right;\n",
       "    }\n",
       "</style>\n",
       "<table border=\"1\" class=\"dataframe\">\n",
       "  <thead>\n",
       "    <tr style=\"text-align: right;\">\n",
       "      <th></th>\n",
       "      <th>age</th>\n",
       "      <th>sex</th>\n",
       "      <th>date_confirmation</th>\n",
       "      <th>chronic_disease_binary</th>\n",
       "      <th>date_death_or_discharge</th>\n",
       "      <th>download_date</th>\n",
       "      <th>outcome</th>\n",
       "      <th>time1</th>\n",
       "      <th>time</th>\n",
       "    </tr>\n",
       "  </thead>\n",
       "  <tbody>\n",
       "    <tr>\n",
       "      <th>0</th>\n",
       "      <td>78</td>\n",
       "      <td>male</td>\n",
       "      <td>2020-02-21</td>\n",
       "      <td>False</td>\n",
       "      <td>2020-02-22</td>\n",
       "      <td>2021-02-22</td>\n",
       "      <td>True</td>\n",
       "      <td>367 days</td>\n",
       "      <td>1 days</td>\n",
       "    </tr>\n",
       "    <tr>\n",
       "      <th>1</th>\n",
       "      <td>61</td>\n",
       "      <td>female</td>\n",
       "      <td>2020-02-14</td>\n",
       "      <td>False</td>\n",
       "      <td>2020-02-17</td>\n",
       "      <td>2021-02-22</td>\n",
       "      <td>False</td>\n",
       "      <td>374 days</td>\n",
       "      <td>3 days</td>\n",
       "    </tr>\n",
       "    <tr>\n",
       "      <th>2</th>\n",
       "      <td>66</td>\n",
       "      <td>male</td>\n",
       "      <td>2020-07-02</td>\n",
       "      <td>False</td>\n",
       "      <td>NaT</td>\n",
       "      <td>2021-02-22</td>\n",
       "      <td>False</td>\n",
       "      <td>235 days</td>\n",
       "      <td>235 days</td>\n",
       "    </tr>\n",
       "    <tr>\n",
       "      <th>3</th>\n",
       "      <td>27</td>\n",
       "      <td>female</td>\n",
       "      <td>2020-07-02</td>\n",
       "      <td>False</td>\n",
       "      <td>NaT</td>\n",
       "      <td>2021-02-22</td>\n",
       "      <td>False</td>\n",
       "      <td>235 days</td>\n",
       "      <td>235 days</td>\n",
       "    </tr>\n",
       "    <tr>\n",
       "      <th>4</th>\n",
       "      <td>17</td>\n",
       "      <td>male</td>\n",
       "      <td>2020-07-02</td>\n",
       "      <td>False</td>\n",
       "      <td>NaT</td>\n",
       "      <td>2021-02-22</td>\n",
       "      <td>False</td>\n",
       "      <td>235 days</td>\n",
       "      <td>235 days</td>\n",
       "    </tr>\n",
       "  </tbody>\n",
       "</table>\n",
       "</div>"
      ],
      "text/plain": [
       "   age     sex date_confirmation  chronic_disease_binary  \\\n",
       "0   78    male        2020-02-21                   False   \n",
       "1   61  female        2020-02-14                   False   \n",
       "2   66    male        2020-07-02                   False   \n",
       "3   27  female        2020-07-02                   False   \n",
       "4   17    male        2020-07-02                   False   \n",
       "\n",
       "  date_death_or_discharge download_date  outcome    time1     time  \n",
       "0              2020-02-22    2021-02-22     True 367 days   1 days  \n",
       "1              2020-02-17    2021-02-22    False 374 days   3 days  \n",
       "2                     NaT    2021-02-22    False 235 days 235 days  \n",
       "3                     NaT    2021-02-22    False 235 days 235 days  \n",
       "4                     NaT    2021-02-22    False 235 days 235 days  "
      ]
     },
     "execution_count": 30,
     "metadata": {},
     "output_type": "execute_result"
    }
   ],
   "source": [
    "data.head(5)"
   ]
  },
  {
   "cell_type": "code",
   "execution_count": 31,
   "id": "e39c2298",
   "metadata": {},
   "outputs": [],
   "source": [
    "data = data.drop(['time1'],axis = 1)"
   ]
  },
  {
   "cell_type": "code",
   "execution_count": 32,
   "id": "a2345d5d",
   "metadata": {},
   "outputs": [
    {
     "data": {
      "text/html": [
       "<div>\n",
       "<style scoped>\n",
       "    .dataframe tbody tr th:only-of-type {\n",
       "        vertical-align: middle;\n",
       "    }\n",
       "\n",
       "    .dataframe tbody tr th {\n",
       "        vertical-align: top;\n",
       "    }\n",
       "\n",
       "    .dataframe thead th {\n",
       "        text-align: right;\n",
       "    }\n",
       "</style>\n",
       "<table border=\"1\" class=\"dataframe\">\n",
       "  <thead>\n",
       "    <tr style=\"text-align: right;\">\n",
       "      <th></th>\n",
       "      <th>age</th>\n",
       "      <th>sex</th>\n",
       "      <th>date_confirmation</th>\n",
       "      <th>chronic_disease_binary</th>\n",
       "      <th>date_death_or_discharge</th>\n",
       "      <th>download_date</th>\n",
       "      <th>outcome</th>\n",
       "      <th>time</th>\n",
       "    </tr>\n",
       "  </thead>\n",
       "  <tbody>\n",
       "    <tr>\n",
       "      <th>0</th>\n",
       "      <td>78</td>\n",
       "      <td>male</td>\n",
       "      <td>2020-02-21</td>\n",
       "      <td>False</td>\n",
       "      <td>2020-02-22</td>\n",
       "      <td>2021-02-22</td>\n",
       "      <td>True</td>\n",
       "      <td>1 days</td>\n",
       "    </tr>\n",
       "    <tr>\n",
       "      <th>1</th>\n",
       "      <td>61</td>\n",
       "      <td>female</td>\n",
       "      <td>2020-02-14</td>\n",
       "      <td>False</td>\n",
       "      <td>2020-02-17</td>\n",
       "      <td>2021-02-22</td>\n",
       "      <td>False</td>\n",
       "      <td>3 days</td>\n",
       "    </tr>\n",
       "    <tr>\n",
       "      <th>2</th>\n",
       "      <td>66</td>\n",
       "      <td>male</td>\n",
       "      <td>2020-07-02</td>\n",
       "      <td>False</td>\n",
       "      <td>NaT</td>\n",
       "      <td>2021-02-22</td>\n",
       "      <td>False</td>\n",
       "      <td>235 days</td>\n",
       "    </tr>\n",
       "    <tr>\n",
       "      <th>3</th>\n",
       "      <td>27</td>\n",
       "      <td>female</td>\n",
       "      <td>2020-07-02</td>\n",
       "      <td>False</td>\n",
       "      <td>NaT</td>\n",
       "      <td>2021-02-22</td>\n",
       "      <td>False</td>\n",
       "      <td>235 days</td>\n",
       "    </tr>\n",
       "    <tr>\n",
       "      <th>4</th>\n",
       "      <td>17</td>\n",
       "      <td>male</td>\n",
       "      <td>2020-07-02</td>\n",
       "      <td>False</td>\n",
       "      <td>NaT</td>\n",
       "      <td>2021-02-22</td>\n",
       "      <td>False</td>\n",
       "      <td>235 days</td>\n",
       "    </tr>\n",
       "  </tbody>\n",
       "</table>\n",
       "</div>"
      ],
      "text/plain": [
       "   age     sex date_confirmation  chronic_disease_binary  \\\n",
       "0   78    male        2020-02-21                   False   \n",
       "1   61  female        2020-02-14                   False   \n",
       "2   66    male        2020-07-02                   False   \n",
       "3   27  female        2020-07-02                   False   \n",
       "4   17    male        2020-07-02                   False   \n",
       "\n",
       "  date_death_or_discharge download_date  outcome     time  \n",
       "0              2020-02-22    2021-02-22     True   1 days  \n",
       "1              2020-02-17    2021-02-22    False   3 days  \n",
       "2                     NaT    2021-02-22    False 235 days  \n",
       "3                     NaT    2021-02-22    False 235 days  \n",
       "4                     NaT    2021-02-22    False 235 days  "
      ]
     },
     "execution_count": 32,
     "metadata": {},
     "output_type": "execute_result"
    }
   ],
   "source": [
    "data.head(5)"
   ]
  },
  {
   "cell_type": "code",
   "execution_count": 33,
   "id": "1fb679bb",
   "metadata": {},
   "outputs": [
    {
     "data": {
      "text/plain": [
       "age                             0\n",
       "sex                             0\n",
       "date_confirmation             274\n",
       "chronic_disease_binary          0\n",
       "date_death_or_discharge    569585\n",
       "download_date                   0\n",
       "outcome                         0\n",
       "time                          274\n",
       "dtype: int64"
      ]
     },
     "execution_count": 33,
     "metadata": {},
     "output_type": "execute_result"
    }
   ],
   "source": [
    "data.isna().sum()"
   ]
  },
  {
   "cell_type": "code",
   "execution_count": 34,
   "id": "0c082f0f",
   "metadata": {},
   "outputs": [],
   "source": [
    "data=data.dropna(subset=['time'])"
   ]
  },
  {
   "cell_type": "code",
   "execution_count": 35,
   "id": "8b770df4",
   "metadata": {},
   "outputs": [
    {
     "data": {
      "text/plain": [
       "age                             0\n",
       "sex                             0\n",
       "date_confirmation               0\n",
       "chronic_disease_binary          0\n",
       "date_death_or_discharge    569355\n",
       "download_date                   0\n",
       "outcome                         0\n",
       "time                            0\n",
       "dtype: int64"
      ]
     },
     "execution_count": 35,
     "metadata": {},
     "output_type": "execute_result"
    }
   ],
   "source": [
    "data.isna().sum()"
   ]
  },
  {
   "cell_type": "code",
   "execution_count": 36,
   "id": "6f1bef51",
   "metadata": {},
   "outputs": [],
   "source": [
    "data = data.drop(['date_confirmation',\"date_death_or_discharge\",\"download_date\"],axis = 1)"
   ]
  },
  {
   "cell_type": "code",
   "execution_count": 37,
   "id": "64ab7403",
   "metadata": {},
   "outputs": [
    {
     "name": "stdout",
     "output_type": "stream",
     "text": [
      "<class 'pandas.core.frame.DataFrame'>\n",
      "Int64Index: 572405 entries, 0 to 572678\n",
      "Data columns (total 5 columns):\n",
      " #   Column                  Non-Null Count   Dtype          \n",
      "---  ------                  --------------   -----          \n",
      " 0   age                     572405 non-null  int64          \n",
      " 1   sex                     572405 non-null  object         \n",
      " 2   chronic_disease_binary  572405 non-null  bool           \n",
      " 3   outcome                 572405 non-null  bool           \n",
      " 4   time                    572405 non-null  timedelta64[ns]\n",
      "dtypes: bool(2), int64(1), object(1), timedelta64[ns](1)\n",
      "memory usage: 18.6+ MB\n"
     ]
    }
   ],
   "source": [
    "data.info()"
   ]
  },
  {
   "cell_type": "code",
   "execution_count": 38,
   "id": "5d21dc02",
   "metadata": {},
   "outputs": [
    {
     "data": {
      "text/html": [
       "<div>\n",
       "<style scoped>\n",
       "    .dataframe tbody tr th:only-of-type {\n",
       "        vertical-align: middle;\n",
       "    }\n",
       "\n",
       "    .dataframe tbody tr th {\n",
       "        vertical-align: top;\n",
       "    }\n",
       "\n",
       "    .dataframe thead th {\n",
       "        text-align: right;\n",
       "    }\n",
       "</style>\n",
       "<table border=\"1\" class=\"dataframe\">\n",
       "  <thead>\n",
       "    <tr style=\"text-align: right;\">\n",
       "      <th></th>\n",
       "      <th>age</th>\n",
       "      <th>time</th>\n",
       "    </tr>\n",
       "  </thead>\n",
       "  <tbody>\n",
       "    <tr>\n",
       "      <th>count</th>\n",
       "      <td>572405.000000</td>\n",
       "      <td>572405</td>\n",
       "    </tr>\n",
       "    <tr>\n",
       "      <th>mean</th>\n",
       "      <td>45.688383</td>\n",
       "      <td>282 days 01:33:54.667761468</td>\n",
       "    </tr>\n",
       "    <tr>\n",
       "      <th>std</th>\n",
       "      <td>19.708668</td>\n",
       "      <td>73 days 09:48:04.859420483</td>\n",
       "    </tr>\n",
       "    <tr>\n",
       "      <th>min</th>\n",
       "      <td>0.000000</td>\n",
       "      <td>0 days 00:00:00</td>\n",
       "    </tr>\n",
       "    <tr>\n",
       "      <th>25%</th>\n",
       "      <td>29.000000</td>\n",
       "      <td>269 days 00:00:00</td>\n",
       "    </tr>\n",
       "    <tr>\n",
       "      <th>50%</th>\n",
       "      <td>47.000000</td>\n",
       "      <td>293 days 00:00:00</td>\n",
       "    </tr>\n",
       "    <tr>\n",
       "      <th>75%</th>\n",
       "      <td>59.000000</td>\n",
       "      <td>330 days 00:00:00</td>\n",
       "    </tr>\n",
       "    <tr>\n",
       "      <th>max</th>\n",
       "      <td>121.000000</td>\n",
       "      <td>417 days 00:00:00</td>\n",
       "    </tr>\n",
       "  </tbody>\n",
       "</table>\n",
       "</div>"
      ],
      "text/plain": [
       "                 age                         time\n",
       "count  572405.000000                       572405\n",
       "mean       45.688383  282 days 01:33:54.667761468\n",
       "std        19.708668   73 days 09:48:04.859420483\n",
       "min         0.000000              0 days 00:00:00\n",
       "25%        29.000000            269 days 00:00:00\n",
       "50%        47.000000            293 days 00:00:00\n",
       "75%        59.000000            330 days 00:00:00\n",
       "max       121.000000            417 days 00:00:00"
      ]
     },
     "execution_count": 38,
     "metadata": {},
     "output_type": "execute_result"
    }
   ],
   "source": [
    "data.describe()"
   ]
  },
  {
   "cell_type": "code",
   "execution_count": 39,
   "id": "4002f558",
   "metadata": {},
   "outputs": [
    {
     "data": {
      "text/html": [
       "<div>\n",
       "<style scoped>\n",
       "    .dataframe tbody tr th:only-of-type {\n",
       "        vertical-align: middle;\n",
       "    }\n",
       "\n",
       "    .dataframe tbody tr th {\n",
       "        vertical-align: top;\n",
       "    }\n",
       "\n",
       "    .dataframe thead th {\n",
       "        text-align: right;\n",
       "    }\n",
       "</style>\n",
       "<table border=\"1\" class=\"dataframe\">\n",
       "  <thead>\n",
       "    <tr style=\"text-align: right;\">\n",
       "      <th></th>\n",
       "      <th>age</th>\n",
       "      <th>chronic_disease_binary</th>\n",
       "      <th>outcome</th>\n",
       "    </tr>\n",
       "  </thead>\n",
       "  <tbody>\n",
       "    <tr>\n",
       "      <th>age</th>\n",
       "      <td>1.000000</td>\n",
       "      <td>0.016563</td>\n",
       "      <td>0.040047</td>\n",
       "    </tr>\n",
       "    <tr>\n",
       "      <th>chronic_disease_binary</th>\n",
       "      <td>0.016563</td>\n",
       "      <td>1.000000</td>\n",
       "      <td>0.184663</td>\n",
       "    </tr>\n",
       "    <tr>\n",
       "      <th>outcome</th>\n",
       "      <td>0.040047</td>\n",
       "      <td>0.184663</td>\n",
       "      <td>1.000000</td>\n",
       "    </tr>\n",
       "  </tbody>\n",
       "</table>\n",
       "</div>"
      ],
      "text/plain": [
       "                             age  chronic_disease_binary   outcome\n",
       "age                     1.000000                0.016563  0.040047\n",
       "chronic_disease_binary  0.016563                1.000000  0.184663\n",
       "outcome                 0.040047                0.184663  1.000000"
      ]
     },
     "execution_count": 39,
     "metadata": {},
     "output_type": "execute_result"
    }
   ],
   "source": [
    "data.corr()"
   ]
  },
  {
   "cell_type": "code",
   "execution_count": 40,
   "id": "8d02922c",
   "metadata": {},
   "outputs": [],
   "source": [
    "import matplotlib.pyplot as plt\n",
    "from matplotlib import gridspec\n",
    "import matplotlib.ticker as mtick"
   ]
  },
  {
   "cell_type": "code",
   "execution_count": 41,
   "id": "a7582793",
   "metadata": {},
   "outputs": [
    {
     "data": {
      "image/png": "[encoded data removed]",
      "text/plain": [
       "<Figure size 864x360 with 2 Axes>"
      ]
     },
     "metadata": {
      "needs_background": "light"
     },
     "output_type": "display_data"
    }
   ],
   "source": [
    "fig = plt.figure(figsize=(12, 5)) #specify figure size\n",
    "\n",
    "#Absolute distribution\n",
    "plt.subplot(1, 2, 1)\n",
    "ax1 = data.groupby(['sex', 'outcome'])['outcome'].count().unstack().plot.bar(rot=0, ax=plt.gca(), width=0.7)\n",
    "plt.title('Non Death vs. Death by sex:\\n Absolute distribution') \n",
    "plt.legend(['No', 'Yes'])\n",
    "#plot bar labels\n",
    "for p in ax1.patches:\n",
    "    ax1.annotate(str(p.get_height()), (p.get_x() +0.1, p.get_height() * 0.605))\n",
    "\n",
    "#Relative distribution\n",
    "plt.subplot(1, 2, 2)\n",
    "ax2 = data.groupby(['sex', 'outcome'])['outcome'].size().groupby(level=0).apply(\n",
    "    lambda x: 100 * x / x.sum()).unstack().plot(kind='bar',stacked=True, rot=0, ax=plt.gca())\n",
    "plt.gca().yaxis.set_major_formatter(mtick.PercentFormatter())\n",
    "plt.legend(['No', 'Yes'], bbox_to_anchor=(1, 1))\n",
    "plt.title('Non Death vs. Death by sex:\\n Relative distribution') \n",
    "\n",
    "\n",
    "#plot bar labels\n",
    "for p, q in zip(ax2.patches[0:2], ax2.patches[2:4]):\n",
    "    ax2.annotate(str(round(p.get_height(),1)) + '%', (p.get_x()+0.1, p.get_height()/2))\n",
    "    ax2.annotate(str(round(q.get_height(),1)) + '%', (q.get_x()+0.1, q.get_height()/2+p.get_height()))\n",
    "\n",
    "\n",
    "    \n",
    "plt.tight_layout()\n",
    "plt.show()"
   ]
  },
  {
   "cell_type": "code",
   "execution_count": 42,
   "id": "e11c721d",
   "metadata": {},
   "outputs": [
    {
     "data": {
      "image/png": "[encoded data removed]",
      "text/plain": [
       "<Figure size 864x360 with 2 Axes>"
      ]
     },
     "metadata": {
      "needs_background": "light"
     },
     "output_type": "display_data"
    }
   ],
   "source": [
    "fig = plt.figure(figsize=(12, 5)) #specify figure size\n",
    "\n",
    "#Absolute distribution\n",
    "plt.subplot(1, 2, 1)\n",
    "ax1 = data.groupby(['chronic_disease_binary', 'outcome'])['outcome'].count().unstack().plot.bar(rot=0, ax=plt.gca(), width=0.7)\n",
    "plt.title('Non Death vs. Death by chronic_disease:\\n Absolute distribution') \n",
    "plt.legend(['No', 'Yes'])\n",
    "#plot bar labels\n",
    "for p in ax1.patches:\n",
    "    ax1.annotate(str(p.get_height()), (p.get_x() +0.1, p.get_height() * 0.605))\n",
    "\n",
    "#Relative distribution\n",
    "plt.subplot(1, 2, 2)\n",
    "ax2 = data.groupby(['chronic_disease_binary', 'outcome'])['outcome'].size().groupby(level=0).apply(\n",
    "    lambda x: 100 * x / x.sum()).unstack().plot(kind='bar',stacked=True, rot=0, ax=plt.gca())\n",
    "plt.gca().yaxis.set_major_formatter(mtick.PercentFormatter())\n",
    "plt.legend(['No', 'Yes'], bbox_to_anchor=(1, 1))\n",
    "plt.title('Non Death vs. Death by chronic_disease:\\n Relative distribution') \n",
    "\n",
    "\n",
    "#plot bar labels\n",
    "for p, q in zip(ax2.patches[0:2], ax2.patches[2:4]):\n",
    "    ax2.annotate(str(round(p.get_height(),1)) + '%', (p.get_x()+0.1, p.get_height()/2))\n",
    "    ax2.annotate(str(round(q.get_height(),1)) + '%', (q.get_x()+0.1, q.get_height()/2+p.get_height()))\n",
    "\n",
    "\n",
    "    \n",
    "plt.tight_layout()\n",
    "plt.show()"
   ]
  },
  {
   "cell_type": "code",
   "execution_count": 43,
   "id": "5554e9e2",
   "metadata": {},
   "outputs": [],
   "source": [
    "import seaborn as sns"
   ]
  },
  {
   "cell_type": "code",
   "execution_count": 44,
   "id": "60cc3cd2",
   "metadata": {},
   "outputs": [
    {
     "name": "stderr",
     "output_type": "stream",
     "text": [
      "/Users/jwang47/opt/anaconda3/envs/dsfb2env/lib/python3.8/site-packages/seaborn/distributions.py:2619: FutureWarning: `distplot` is a deprecated function and will be removed in a future version. Please adapt your code to use either `displot` (a figure-level function with similar flexibility) or `histplot` (an axes-level function for histograms).\n",
      "  warnings.warn(msg, FutureWarning)\n",
      "/Users/jwang47/opt/anaconda3/envs/dsfb2env/lib/python3.8/site-packages/seaborn/distributions.py:2619: FutureWarning: `distplot` is a deprecated function and will be removed in a future version. Please adapt your code to use either `displot` (a figure-level function with similar flexibility) or `histplot` (an axes-level function for histograms).\n",
      "  warnings.warn(msg, FutureWarning)\n"
     ]
    },
    {
     "data": {
      "image/png": "[encoded data removed]",
      "text/plain": [
       "<Figure size 1440x720 with 1 Axes>"
      ]
     },
     "metadata": {
      "needs_background": "light"
     },
     "output_type": "display_data"
    }
   ],
   "source": [
    "fig=plt.figure(figsize=(20,10))\n",
    "sns.distplot(data[data['outcome']==0]['age'],color='blue',hist_kws={'alpha':0.6})\n",
    "sns.distplot(data[data['outcome']==1]['age'],color='orange',hist_kws={'alpha':0.5})\n",
    "fig.legend(labels=['Non Death','Death'],fontsize=15)\n",
    "plt.xlabel('age',fontsize=20)\n",
    "plt.ylabel('outcome',fontsize=20)\n",
    "plt.title('Age Vs People Non Death And Death',fontsize=20)\n",
    "plt.show()"
   ]
  },
  {
   "cell_type": "markdown",
   "id": "77c2669d",
   "metadata": {},
   "source": [
    "# Survival analysis with Kaplan-Meier estimator."
   ]
  },
  {
   "cell_type": "code",
   "execution_count": 45,
   "id": "b1540644",
   "metadata": {},
   "outputs": [
    {
     "name": "stdout",
     "output_type": "stream",
     "text": [
      "Requirement already satisfied: lifelines in /Users/jwang47/opt/anaconda3/envs/dsfb2env/lib/python3.8/site-packages (0.26.4)\n",
      "Requirement already satisfied: pandas>=0.23.0 in /Users/jwang47/opt/anaconda3/envs/dsfb2env/lib/python3.8/site-packages (from lifelines) (1.3.5)\n",
      "Requirement already satisfied: autograd-gamma>=0.3 in /Users/jwang47/opt/anaconda3/envs/dsfb2env/lib/python3.8/site-packages (from lifelines) (0.5.0)\n",
      "Requirement already satisfied: scipy>=1.2.0 in /Users/jwang47/opt/anaconda3/envs/dsfb2env/lib/python3.8/site-packages (from lifelines) (1.7.3)\n",
      "Requirement already satisfied: formulaic<0.3,>=0.2.2 in /Users/jwang47/opt/anaconda3/envs/dsfb2env/lib/python3.8/site-packages (from lifelines) (0.2.4)\n",
      "Requirement already satisfied: matplotlib>=3.0 in /Users/jwang47/opt/anaconda3/envs/dsfb2env/lib/python3.8/site-packages (from lifelines) (3.5.1)\n",
      "Requirement already satisfied: autograd>=1.3 in /Users/jwang47/opt/anaconda3/envs/dsfb2env/lib/python3.8/site-packages (from lifelines) (1.3)\n",
      "Requirement already satisfied: numpy>=1.14.0 in /Users/jwang47/opt/anaconda3/envs/dsfb2env/lib/python3.8/site-packages (from lifelines) (1.20.3)\n",
      "Requirement already satisfied: future>=0.15.2 in /Users/jwang47/opt/anaconda3/envs/dsfb2env/lib/python3.8/site-packages (from autograd>=1.3->lifelines) (0.18.2)\n",
      "Requirement already satisfied: interface-meta>=1.2 in /Users/jwang47/opt/anaconda3/envs/dsfb2env/lib/python3.8/site-packages (from formulaic<0.3,>=0.2.2->lifelines) (1.2.4)\n",
      "Requirement already satisfied: wrapt in /Users/jwang47/opt/anaconda3/envs/dsfb2env/lib/python3.8/site-packages (from formulaic<0.3,>=0.2.2->lifelines) (1.14.0)\n",
      "Requirement already satisfied: astor in /Users/jwang47/opt/anaconda3/envs/dsfb2env/lib/python3.8/site-packages (from formulaic<0.3,>=0.2.2->lifelines) (0.8.1)\n",
      "Requirement already satisfied: kiwisolver>=1.0.1 in /Users/jwang47/opt/anaconda3/envs/dsfb2env/lib/python3.8/site-packages (from matplotlib>=3.0->lifelines) (1.3.2)\n",
      "Requirement already satisfied: pillow>=6.2.0 in /Users/jwang47/opt/anaconda3/envs/dsfb2env/lib/python3.8/site-packages (from matplotlib>=3.0->lifelines) (8.4.0)\n",
      "Requirement already satisfied: pyparsing>=2.2.1 in /Users/jwang47/opt/anaconda3/envs/dsfb2env/lib/python3.8/site-packages (from matplotlib>=3.0->lifelines) (3.0.4)\n",
      "Requirement already satisfied: cycler>=0.10 in /Users/jwang47/opt/anaconda3/envs/dsfb2env/lib/python3.8/site-packages (from matplotlib>=3.0->lifelines) (0.11.0)\n",
      "Requirement already satisfied: fonttools>=4.22.0 in /Users/jwang47/opt/anaconda3/envs/dsfb2env/lib/python3.8/site-packages (from matplotlib>=3.0->lifelines) (4.25.0)\n",
      "Requirement already satisfied: python-dateutil>=2.7 in /Users/jwang47/opt/anaconda3/envs/dsfb2env/lib/python3.8/site-packages (from matplotlib>=3.0->lifelines) (2.8.2)\n",
      "Requirement already satisfied: packaging>=20.0 in /Users/jwang47/opt/anaconda3/envs/dsfb2env/lib/python3.8/site-packages (from matplotlib>=3.0->lifelines) (21.3)\n",
      "Requirement already satisfied: pytz>=2017.3 in /Users/jwang47/opt/anaconda3/envs/dsfb2env/lib/python3.8/site-packages (from pandas>=0.23.0->lifelines) (2021.3)\n",
      "Requirement already satisfied: six>=1.5 in /Users/jwang47/opt/anaconda3/envs/dsfb2env/lib/python3.8/site-packages (from python-dateutil>=2.7->matplotlib>=3.0->lifelines) (1.16.0)\n",
      "Note: you may need to restart the kernel to use updated packages.\n"
     ]
    }
   ],
   "source": [
    "pip install lifelines"
   ]
  },
  {
   "cell_type": "code",
   "execution_count": 46,
   "id": "b094b1b8",
   "metadata": {},
   "outputs": [
    {
     "name": "stdout",
     "output_type": "stream",
     "text": [
      "Collecting package metadata (current_repodata.json): done\n",
      "Solving environment: done\n",
      "\n",
      "# All requested packages already installed.\n",
      "\n",
      "\n",
      "Note: you may need to restart the kernel to use updated packages.\n"
     ]
    }
   ],
   "source": [
    "conda install -c sebp scikit-survival"
   ]
  },
  {
   "cell_type": "code",
   "execution_count": 47,
   "id": "47fa84de",
   "metadata": {},
   "outputs": [],
   "source": [
    "import numpy as np\n",
    "import pandas as pd\n",
    "import random\n",
    "from sklearn.model_selection import train_test_split\n",
    "import matplotlib.pyplot as plt\n",
    "%matplotlib inline\n",
    "import lifelines\n",
    "import sksurv"
   ]
  },
  {
   "cell_type": "code",
   "execution_count": 48,
   "id": "124c563b",
   "metadata": {},
   "outputs": [],
   "source": [
    "data['time'] = data.apply(lambda row: row.time.days, axis=1)"
   ]
  },
  {
   "cell_type": "code",
   "execution_count": 49,
   "id": "35b48bb5",
   "metadata": {},
   "outputs": [
    {
     "data": {
      "text/html": [
       "<div>\n",
       "<style scoped>\n",
       "    .dataframe tbody tr th:only-of-type {\n",
       "        vertical-align: middle;\n",
       "    }\n",
       "\n",
       "    .dataframe tbody tr th {\n",
       "        vertical-align: top;\n",
       "    }\n",
       "\n",
       "    .dataframe thead th {\n",
       "        text-align: right;\n",
       "    }\n",
       "</style>\n",
       "<table border=\"1\" class=\"dataframe\">\n",
       "  <thead>\n",
       "    <tr style=\"text-align: right;\">\n",
       "      <th></th>\n",
       "      <th>age</th>\n",
       "      <th>sex</th>\n",
       "      <th>chronic_disease_binary</th>\n",
       "      <th>outcome</th>\n",
       "      <th>time</th>\n",
       "    </tr>\n",
       "  </thead>\n",
       "  <tbody>\n",
       "    <tr>\n",
       "      <th>0</th>\n",
       "      <td>78</td>\n",
       "      <td>male</td>\n",
       "      <td>False</td>\n",
       "      <td>True</td>\n",
       "      <td>1</td>\n",
       "    </tr>\n",
       "    <tr>\n",
       "      <th>1</th>\n",
       "      <td>61</td>\n",
       "      <td>female</td>\n",
       "      <td>False</td>\n",
       "      <td>False</td>\n",
       "      <td>3</td>\n",
       "    </tr>\n",
       "    <tr>\n",
       "      <th>2</th>\n",
       "      <td>66</td>\n",
       "      <td>male</td>\n",
       "      <td>False</td>\n",
       "      <td>False</td>\n",
       "      <td>235</td>\n",
       "    </tr>\n",
       "    <tr>\n",
       "      <th>3</th>\n",
       "      <td>27</td>\n",
       "      <td>female</td>\n",
       "      <td>False</td>\n",
       "      <td>False</td>\n",
       "      <td>235</td>\n",
       "    </tr>\n",
       "    <tr>\n",
       "      <th>4</th>\n",
       "      <td>17</td>\n",
       "      <td>male</td>\n",
       "      <td>False</td>\n",
       "      <td>False</td>\n",
       "      <td>235</td>\n",
       "    </tr>\n",
       "  </tbody>\n",
       "</table>\n",
       "</div>"
      ],
      "text/plain": [
       "   age     sex  chronic_disease_binary  outcome  time\n",
       "0   78    male                   False     True     1\n",
       "1   61  female                   False    False     3\n",
       "2   66    male                   False    False   235\n",
       "3   27  female                   False    False   235\n",
       "4   17    male                   False    False   235"
      ]
     },
     "execution_count": 49,
     "metadata": {},
     "output_type": "execute_result"
    }
   ],
   "source": [
    "data.head(5)"
   ]
  },
  {
   "cell_type": "code",
   "execution_count": 50,
   "id": "03d814fd",
   "metadata": {},
   "outputs": [
    {
     "data": {
      "image/png": "[encoded data removed]",
      "text/plain": [
       "<Figure size 864x504 with 2 Axes>"
      ]
     },
     "metadata": {
      "needs_background": "light"
     },
     "output_type": "display_data"
    }
   ],
   "source": [
    "# fitting kmf to the data\n",
    "days = data['time'].values\n",
    "outcome = data['outcome'].values\n",
    "kmf = lifelines.KaplanMeierFitter()\n",
    "kmf.fit(days, event_observed=outcome, label='Estimate for Covid Survival')\n",
    "\n",
    "# plotting kmf curve\n",
    "fig, ax = plt.subplots(figsize=(12,7))\n",
    "kmf.plot(ax=ax,show_censors=True, censor_styles={'ms': 3, 'marker': 's'},at_risk_counts=True)\n",
    "ax.set_title('Kaplan-Meier Survival Curve - All Covid cases')\n",
    "ax.set_xlabel('Covid Duration Time (Days)')\n",
    "ax.set_ylabel('Covid Survival Chance (%)')\n",
    "plt.show()"
   ]
  },
  {
   "cell_type": "code",
   "execution_count": 51,
   "id": "95e77694",
   "metadata": {},
   "outputs": [
    {
     "data": {
      "text/html": [
       "<div>\n",
       "<style scoped>\n",
       "    .dataframe tbody tr th:only-of-type {\n",
       "        vertical-align: middle;\n",
       "    }\n",
       "\n",
       "    .dataframe tbody tr th {\n",
       "        vertical-align: top;\n",
       "    }\n",
       "\n",
       "    .dataframe thead th {\n",
       "        text-align: right;\n",
       "    }\n",
       "</style>\n",
       "<table border=\"1\" class=\"dataframe\">\n",
       "  <thead>\n",
       "    <tr style=\"text-align: right;\">\n",
       "      <th></th>\n",
       "      <th>removed</th>\n",
       "      <th>observed</th>\n",
       "      <th>censored</th>\n",
       "      <th>entrance</th>\n",
       "      <th>at_risk</th>\n",
       "    </tr>\n",
       "    <tr>\n",
       "      <th>event_at</th>\n",
       "      <th></th>\n",
       "      <th></th>\n",
       "      <th></th>\n",
       "      <th></th>\n",
       "      <th></th>\n",
       "    </tr>\n",
       "  </thead>\n",
       "  <tbody>\n",
       "    <tr>\n",
       "      <th>0</th>\n",
       "      <td>279</td>\n",
       "      <td>52</td>\n",
       "      <td>227</td>\n",
       "      <td>572405</td>\n",
       "      <td>572405</td>\n",
       "    </tr>\n",
       "    <tr>\n",
       "      <th>1</th>\n",
       "      <td>188</td>\n",
       "      <td>61</td>\n",
       "      <td>127</td>\n",
       "      <td>0</td>\n",
       "      <td>572126</td>\n",
       "    </tr>\n",
       "    <tr>\n",
       "      <th>2</th>\n",
       "      <td>147</td>\n",
       "      <td>47</td>\n",
       "      <td>100</td>\n",
       "      <td>0</td>\n",
       "      <td>571938</td>\n",
       "    </tr>\n",
       "    <tr>\n",
       "      <th>3</th>\n",
       "      <td>103</td>\n",
       "      <td>24</td>\n",
       "      <td>79</td>\n",
       "      <td>0</td>\n",
       "      <td>571791</td>\n",
       "    </tr>\n",
       "    <tr>\n",
       "      <th>4</th>\n",
       "      <td>102</td>\n",
       "      <td>30</td>\n",
       "      <td>72</td>\n",
       "      <td>0</td>\n",
       "      <td>571688</td>\n",
       "    </tr>\n",
       "  </tbody>\n",
       "</table>\n",
       "</div>"
      ],
      "text/plain": [
       "          removed  observed  censored  entrance  at_risk\n",
       "event_at                                                \n",
       "0             279        52       227    572405   572405\n",
       "1             188        61       127         0   572126\n",
       "2             147        47       100         0   571938\n",
       "3             103        24        79         0   571791\n",
       "4             102        30        72         0   571688"
      ]
     },
     "execution_count": 51,
     "metadata": {},
     "output_type": "execute_result"
    }
   ],
   "source": [
    "# Lifetable \n",
    "kmf.event_table.head()"
   ]
  },
  {
   "cell_type": "markdown",
   "id": "f25b7253",
   "metadata": {},
   "source": [
    "# time and event need to be stored as a structured array "
   ]
  },
  {
   "cell_type": "code",
   "execution_count": 52,
   "id": "84422582",
   "metadata": {},
   "outputs": [],
   "source": [
    "def convert_to_stru_array(df,time_column, event_column):\n",
    "    \"\"\"\n",
    "    This function is conver time and event to structured array which is required in scikit-survival Python package.\n",
    "    \n",
    "    Inputs:\n",
    "    df:         the input datafram\n",
    "    time_column : the column which has TIME information.\n",
    "    event_column: the column which has EVENT information.\n",
    "    \n",
    "    Output:\n",
    "    X_df: dataframe after removing time and event columns\n",
    "    Y_stru_array: structured array which is like (event, time)\n",
    "    \"\"\"\n",
    "\n",
    "    #remove the time and event columns from the original dataframe\n",
    "    X_df = df.drop(columns = [time_column, event_column])\n",
    "    \n",
    "    #extract time and event columns\n",
    "    Y_df = df[[event_column,time_column]]\n",
    "    Y_np = Y_df.to_numpy()\n",
    "\n",
    "    #change it to structured array\n",
    "    Y_recarray   = np.core.records.fromarrays(Y_np.transpose(), dtype=np.dtype([(event_column, np.bool_), (time_column, np.float32)]))\n",
    "    Y_stru_array = np.array(Y_recarray)\n",
    "    \n",
    "    return X_df,Y_stru_array"
   ]
  },
  {
   "cell_type": "code",
   "execution_count": 53,
   "id": "030d1c9b",
   "metadata": {},
   "outputs": [
    {
     "data": {
      "text/plain": [
       "Text(0.5, 0, 'time $t$')"
      ]
     },
     "execution_count": 53,
     "metadata": {},
     "output_type": "execute_result"
    },
    {
     "data": {
      "image/png": "[encoded data removed]",
      "text/plain": [
       "<Figure size 432x288 with 1 Axes>"
      ]
     },
     "metadata": {
      "needs_background": "light"
     },
     "output_type": "display_data"
    }
   ],
   "source": [
    "from sksurv.nonparametric import kaplan_meier_estimator\n",
    "\n",
    "X_df, Y_stru_array = convert_to_stru_array(data,'time', 'outcome')\n",
    "\n",
    "time, survival_prob = kaplan_meier_estimator(Y_stru_array[\"outcome\"], Y_stru_array[\"time\"])\n",
    "plt.step(time, survival_prob, where=\"post\")\n",
    "plt.ylabel(\"est. probability of survival $\\hat{S}(t)$\")\n",
    "plt.xlabel(\"time $t$\")"
   ]
  },
  {
   "cell_type": "markdown",
   "id": "8d54bb71",
   "metadata": {},
   "source": [
    "# KM for different groups with lifeline Python package :"
   ]
  },
  {
   "cell_type": "code",
   "execution_count": 54,
   "id": "ca14d88a",
   "metadata": {
    "scrolled": true
   },
   "outputs": [
    {
     "data": {
      "image/png": "[encoded data removed]",
      "text/plain": [
       "<Figure size 864x504 with 1 Axes>"
      ]
     },
     "metadata": {
      "needs_background": "light"
     },
     "output_type": "display_data"
    }
   ],
   "source": [
    "# function for creating Kaplan-Meier curve plots segmented\n",
    "# by categorical variables\n",
    "def plot_categorical_survival(feature, t='time', event='outcome', df=data, ax=None):\n",
    "    for cat in df[feature].unique():\n",
    "        idx = df[feature] == cat\n",
    "        kmf = lifelines.KaplanMeierFitter()\n",
    "        kmf.fit(df[idx][t], event_observed=df[idx][event], label=cat)\n",
    "        kmf.plot(ax=ax, label=cat)\n",
    "\n",
    "# plot by education level\n",
    "fig_edl, ax_edl = plt.subplots(figsize=(12,7))\n",
    "plot_categorical_survival(feature='sex', ax=ax_edl)\n",
    "ax_edl.set_title('Covid Survival by genders')\n",
    "ax_edl.set_xlabel('Covid Duration Time  (Days)')\n",
    "ax_edl.set_ylabel('Covid Survival Chance (%)')\n",
    "plt.show()"
   ]
  },
  {
   "cell_type": "code",
   "execution_count": 55,
   "id": "11e13ef5",
   "metadata": {},
   "outputs": [
    {
     "data": {
      "text/html": [
       "<div>\n",
       "<style scoped>\n",
       "    .dataframe tbody tr th:only-of-type {\n",
       "        vertical-align: middle;\n",
       "    }\n",
       "\n",
       "    .dataframe tbody tr th {\n",
       "        vertical-align: top;\n",
       "    }\n",
       "\n",
       "    .dataframe thead th {\n",
       "        text-align: right;\n",
       "    }\n",
       "</style>\n",
       "<table border=\"1\" class=\"dataframe\">\n",
       "  <tbody>\n",
       "    <tr>\n",
       "      <th>t_0</th>\n",
       "      <td>-1</td>\n",
       "    </tr>\n",
       "    <tr>\n",
       "      <th>null_distribution</th>\n",
       "      <td>chi squared</td>\n",
       "    </tr>\n",
       "    <tr>\n",
       "      <th>degrees_of_freedom</th>\n",
       "      <td>1</td>\n",
       "    </tr>\n",
       "    <tr>\n",
       "      <th>alpha</th>\n",
       "      <td>0.99</td>\n",
       "    </tr>\n",
       "    <tr>\n",
       "      <th>test_name</th>\n",
       "      <td>logrank_test</td>\n",
       "    </tr>\n",
       "  </tbody>\n",
       "</table>\n",
       "</div><table border=\"1\" class=\"dataframe\">\n",
       "  <thead>\n",
       "    <tr style=\"text-align: right;\">\n",
       "      <th></th>\n",
       "      <th>test_statistic</th>\n",
       "      <th>p</th>\n",
       "      <th>-log2(p)</th>\n",
       "    </tr>\n",
       "  </thead>\n",
       "  <tbody>\n",
       "    <tr>\n",
       "      <th>0</th>\n",
       "      <td>60.14</td>\n",
       "      <td>&lt;0.005</td>\n",
       "      <td>46.68</td>\n",
       "    </tr>\n",
       "  </tbody>\n",
       "</table>"
      ],
      "text/latex": [
       "\\begin{tabular}{lrrr}\n",
       "\\toprule\n",
       "{} &  test\\_statistic &             p &   -log2(p) \\\\\n",
       "\\midrule\n",
       "0 &       60.136348 &  8.850868e-15 &  46.683102 \\\\\n",
       "\\bottomrule\n",
       "\\end{tabular}\n"
      ],
      "text/plain": [
       "<lifelines.StatisticalResult: logrank_test>\n",
       "               t_0 = -1\n",
       " null_distribution = chi squared\n",
       "degrees_of_freedom = 1\n",
       "             alpha = 0.99\n",
       "         test_name = logrank_test\n",
       "\n",
       "---\n",
       " test_statistic      p  -log2(p)\n",
       "          60.14 <0.005     46.68"
      ]
     },
     "metadata": {},
     "output_type": "display_data"
    }
   ],
   "source": [
    "# check survival curves for different genders\n",
    "female = (data[\"sex\"] == \"female\")\n",
    "T = data[\"time\"]\n",
    "E = data[\"outcome\"]\n",
    "kmf.fit(T[female], event_observed=E[female])\n",
    "\n",
    "from lifelines.statistics import logrank_test\n",
    "\n",
    "# for the variable which has only two categories.\n",
    "covid_gender_results = logrank_test(T[female], T[~female], E[female], E[~female], alpha=.99)\n",
    "covid_gender_results.print_summary()"
   ]
  },
  {
   "cell_type": "markdown",
   "id": "398ed5c0",
   "metadata": {},
   "source": [
    "## Plot KM curve for three age groups \n",
    "-(young: ageď 40; middle: 40 < age ď 65 and old: age ą 65) in the same plot\n",
    "\n",
    "-conduct pairwise logrank test test and interpret your result. HINT: check the section 5.Processing data\n",
    "tips before coding. "
   ]
  },
  {
   "cell_type": "code",
   "execution_count": 56,
   "id": "3eb4f679",
   "metadata": {},
   "outputs": [
    {
     "data": {
      "text/html": [
       "<div>\n",
       "<style scoped>\n",
       "    .dataframe tbody tr th:only-of-type {\n",
       "        vertical-align: middle;\n",
       "    }\n",
       "\n",
       "    .dataframe tbody tr th {\n",
       "        vertical-align: top;\n",
       "    }\n",
       "\n",
       "    .dataframe thead th {\n",
       "        text-align: right;\n",
       "    }\n",
       "</style>\n",
       "<table border=\"1\" class=\"dataframe\">\n",
       "  <thead>\n",
       "    <tr style=\"text-align: right;\">\n",
       "      <th></th>\n",
       "      <th>age</th>\n",
       "      <th>sex</th>\n",
       "      <th>chronic_disease_binary</th>\n",
       "      <th>outcome</th>\n",
       "      <th>time</th>\n",
       "    </tr>\n",
       "  </thead>\n",
       "  <tbody>\n",
       "    <tr>\n",
       "      <th>0</th>\n",
       "      <td>78</td>\n",
       "      <td>male</td>\n",
       "      <td>False</td>\n",
       "      <td>True</td>\n",
       "      <td>1</td>\n",
       "    </tr>\n",
       "    <tr>\n",
       "      <th>1</th>\n",
       "      <td>61</td>\n",
       "      <td>female</td>\n",
       "      <td>False</td>\n",
       "      <td>False</td>\n",
       "      <td>3</td>\n",
       "    </tr>\n",
       "    <tr>\n",
       "      <th>2</th>\n",
       "      <td>66</td>\n",
       "      <td>male</td>\n",
       "      <td>False</td>\n",
       "      <td>False</td>\n",
       "      <td>235</td>\n",
       "    </tr>\n",
       "    <tr>\n",
       "      <th>3</th>\n",
       "      <td>27</td>\n",
       "      <td>female</td>\n",
       "      <td>False</td>\n",
       "      <td>False</td>\n",
       "      <td>235</td>\n",
       "    </tr>\n",
       "    <tr>\n",
       "      <th>4</th>\n",
       "      <td>17</td>\n",
       "      <td>male</td>\n",
       "      <td>False</td>\n",
       "      <td>False</td>\n",
       "      <td>235</td>\n",
       "    </tr>\n",
       "  </tbody>\n",
       "</table>\n",
       "</div>"
      ],
      "text/plain": [
       "   age     sex  chronic_disease_binary  outcome  time\n",
       "0   78    male                   False     True     1\n",
       "1   61  female                   False    False     3\n",
       "2   66    male                   False    False   235\n",
       "3   27  female                   False    False   235\n",
       "4   17    male                   False    False   235"
      ]
     },
     "execution_count": 56,
     "metadata": {},
     "output_type": "execute_result"
    }
   ],
   "source": [
    "data.head(5)"
   ]
  },
  {
   "cell_type": "code",
   "execution_count": 57,
   "id": "aead6b94",
   "metadata": {},
   "outputs": [],
   "source": [
    "# create a function\n",
    "def age_groups(age):\n",
    "    if age <= 40:\n",
    "        return \"young\"\n",
    "    elif age > 65:\n",
    "        return \"old\"\n",
    "    else:\n",
    "        return \"middle\"\n",
    "\n",
    "# create a new column based on condition\n",
    "data['age_groups'] = data['age'].apply(age_groups)"
   ]
  },
  {
   "cell_type": "code",
   "execution_count": 58,
   "id": "063ecd97",
   "metadata": {},
   "outputs": [
    {
     "data": {
      "text/html": [
       "<div>\n",
       "<style scoped>\n",
       "    .dataframe tbody tr th:only-of-type {\n",
       "        vertical-align: middle;\n",
       "    }\n",
       "\n",
       "    .dataframe tbody tr th {\n",
       "        vertical-align: top;\n",
       "    }\n",
       "\n",
       "    .dataframe thead th {\n",
       "        text-align: right;\n",
       "    }\n",
       "</style>\n",
       "<table border=\"1\" class=\"dataframe\">\n",
       "  <thead>\n",
       "    <tr style=\"text-align: right;\">\n",
       "      <th></th>\n",
       "      <th>age</th>\n",
       "      <th>sex</th>\n",
       "      <th>chronic_disease_binary</th>\n",
       "      <th>outcome</th>\n",
       "      <th>time</th>\n",
       "      <th>age_groups</th>\n",
       "    </tr>\n",
       "  </thead>\n",
       "  <tbody>\n",
       "    <tr>\n",
       "      <th>0</th>\n",
       "      <td>78</td>\n",
       "      <td>male</td>\n",
       "      <td>False</td>\n",
       "      <td>True</td>\n",
       "      <td>1</td>\n",
       "      <td>old</td>\n",
       "    </tr>\n",
       "    <tr>\n",
       "      <th>1</th>\n",
       "      <td>61</td>\n",
       "      <td>female</td>\n",
       "      <td>False</td>\n",
       "      <td>False</td>\n",
       "      <td>3</td>\n",
       "      <td>middle</td>\n",
       "    </tr>\n",
       "    <tr>\n",
       "      <th>2</th>\n",
       "      <td>66</td>\n",
       "      <td>male</td>\n",
       "      <td>False</td>\n",
       "      <td>False</td>\n",
       "      <td>235</td>\n",
       "      <td>old</td>\n",
       "    </tr>\n",
       "    <tr>\n",
       "      <th>3</th>\n",
       "      <td>27</td>\n",
       "      <td>female</td>\n",
       "      <td>False</td>\n",
       "      <td>False</td>\n",
       "      <td>235</td>\n",
       "      <td>young</td>\n",
       "    </tr>\n",
       "    <tr>\n",
       "      <th>4</th>\n",
       "      <td>17</td>\n",
       "      <td>male</td>\n",
       "      <td>False</td>\n",
       "      <td>False</td>\n",
       "      <td>235</td>\n",
       "      <td>young</td>\n",
       "    </tr>\n",
       "  </tbody>\n",
       "</table>\n",
       "</div>"
      ],
      "text/plain": [
       "   age     sex  chronic_disease_binary  outcome  time age_groups\n",
       "0   78    male                   False     True     1        old\n",
       "1   61  female                   False    False     3     middle\n",
       "2   66    male                   False    False   235        old\n",
       "3   27  female                   False    False   235      young\n",
       "4   17    male                   False    False   235      young"
      ]
     },
     "execution_count": 58,
     "metadata": {},
     "output_type": "execute_result"
    }
   ],
   "source": [
    "data.head(5)"
   ]
  },
  {
   "cell_type": "code",
   "execution_count": 59,
   "id": "d110b0cc",
   "metadata": {},
   "outputs": [
    {
     "data": {
      "text/plain": [
       "array(['old', 'middle', 'young'], dtype=object)"
      ]
     },
     "execution_count": 59,
     "metadata": {},
     "output_type": "execute_result"
    }
   ],
   "source": [
    "data.age_groups.unique()"
   ]
  },
  {
   "cell_type": "code",
   "execution_count": 60,
   "id": "213d349c",
   "metadata": {},
   "outputs": [
    {
     "data": {
      "text/plain": [
       "age                       0\n",
       "sex                       0\n",
       "chronic_disease_binary    0\n",
       "outcome                   0\n",
       "time                      0\n",
       "age_groups                0\n",
       "dtype: int64"
      ]
     },
     "execution_count": 60,
     "metadata": {},
     "output_type": "execute_result"
    }
   ],
   "source": [
    "data.isnull().sum()"
   ]
  },
  {
   "cell_type": "code",
   "execution_count": 61,
   "id": "910eac02",
   "metadata": {},
   "outputs": [
    {
     "data": {
      "image/png": "[encoded data removed]",
      "text/plain": [
       "<Figure size 864x504 with 1 Axes>"
      ]
     },
     "metadata": {
      "needs_background": "light"
     },
     "output_type": "display_data"
    }
   ],
   "source": [
    "# function for creating Kaplan-Meier curve plots segmented\n",
    "# by categorical variables\n",
    "def plot_categorical_survival(feature, t='time', event='outcome', df=data, ax=None):\n",
    "    for cat in df[feature].unique():\n",
    "        idx = df[feature] == cat\n",
    "        kmf = lifelines.KaplanMeierFitter()\n",
    "        kmf.fit(df[idx][t], event_observed=df[idx][event], label=cat)\n",
    "        kmf.plot(ax=ax, label=cat)\n",
    "\n",
    "# plot by education level\n",
    "fig_edl, ax_edl = plt.subplots(figsize=(12,7))\n",
    "plot_categorical_survival(feature='age_groups', ax=ax_edl)\n",
    "ax_edl.set_title('Covid Survival by age_groups')\n",
    "ax_edl.set_xlabel('Covid Duration Time  (Days)')\n",
    "ax_edl.set_ylabel('Covid Survival Chance (%)')\n",
    "plt.show()"
   ]
  },
  {
   "cell_type": "markdown",
   "id": "60c248b3",
   "metadata": {},
   "source": [
    "# conduct pairwise logrank test test"
   ]
  },
  {
   "cell_type": "code",
   "execution_count": 62,
   "id": "89381eb9",
   "metadata": {},
   "outputs": [],
   "source": [
    "from lifelines.statistics import pairwise_logrank_test"
   ]
  },
  {
   "cell_type": "code",
   "execution_count": 63,
   "id": "8d0f0f74",
   "metadata": {},
   "outputs": [
    {
     "data": {
      "text/html": [
       "<div>\n",
       "<style scoped>\n",
       "    .dataframe tbody tr th:only-of-type {\n",
       "        vertical-align: middle;\n",
       "    }\n",
       "\n",
       "    .dataframe tbody tr th {\n",
       "        vertical-align: top;\n",
       "    }\n",
       "\n",
       "    .dataframe thead th {\n",
       "        text-align: right;\n",
       "    }\n",
       "</style>\n",
       "<table border=\"1\" class=\"dataframe\">\n",
       "  <tbody>\n",
       "    <tr>\n",
       "      <th>t_0</th>\n",
       "      <td>-1</td>\n",
       "    </tr>\n",
       "    <tr>\n",
       "      <th>null_distribution</th>\n",
       "      <td>chi squared</td>\n",
       "    </tr>\n",
       "    <tr>\n",
       "      <th>degrees_of_freedom</th>\n",
       "      <td>1</td>\n",
       "    </tr>\n",
       "    <tr>\n",
       "      <th>test_name</th>\n",
       "      <td>logrank_test</td>\n",
       "    </tr>\n",
       "  </tbody>\n",
       "</table>\n",
       "</div><table border=\"1\" class=\"dataframe\">\n",
       "  <thead>\n",
       "    <tr style=\"text-align: right;\">\n",
       "      <th></th>\n",
       "      <th></th>\n",
       "      <th>test_statistic</th>\n",
       "      <th>p</th>\n",
       "      <th>-log2(p)</th>\n",
       "    </tr>\n",
       "  </thead>\n",
       "  <tbody>\n",
       "    <tr>\n",
       "      <th rowspan=\"2\" valign=\"top\">middle</th>\n",
       "      <th>old</th>\n",
       "      <td>135.38</td>\n",
       "      <td>&lt;0.005</td>\n",
       "      <td>101.53</td>\n",
       "    </tr>\n",
       "    <tr>\n",
       "      <th>young</th>\n",
       "      <td>312.98</td>\n",
       "      <td>&lt;0.005</td>\n",
       "      <td>230.24</td>\n",
       "    </tr>\n",
       "    <tr>\n",
       "      <th>old</th>\n",
       "      <th>young</th>\n",
       "      <td>777.44</td>\n",
       "      <td>&lt;0.005</td>\n",
       "      <td>565.94</td>\n",
       "    </tr>\n",
       "  </tbody>\n",
       "</table>"
      ],
      "text/latex": [
       "\\begin{tabular}{llrrr}\n",
       "\\toprule\n",
       "    &       &  test\\_statistic &              p &    -log2(p) \\\\\n",
       "\\midrule\n",
       "middle & old &      135.380119 &   2.726418e-31 &  101.532764 \\\\\n",
       "    & young &      312.978261 &   4.902758e-70 &  230.241373 \\\\\n",
       "old & young &      777.443860 &  4.327723e-171 &  565.936096 \\\\\n",
       "\\bottomrule\n",
       "\\end{tabular}\n"
      ],
      "text/plain": [
       "<lifelines.StatisticalResult: logrank_test>\n",
       "               t_0 = -1\n",
       " null_distribution = chi squared\n",
       "degrees_of_freedom = 1\n",
       "         test_name = logrank_test\n",
       "\n",
       "---\n",
       "              test_statistic      p  -log2(p)\n",
       "middle old            135.38 <0.005    101.53\n",
       "       young          312.98 <0.005    230.24\n",
       "old    young          777.44 <0.005    565.94"
      ]
     },
     "metadata": {},
     "output_type": "display_data"
    }
   ],
   "source": [
    "results = pairwise_logrank_test(data['time'], data['age_groups'], data['outcome'])\n",
    "results.print_summary()"
   ]
  },
  {
   "cell_type": "code",
   "execution_count": 64,
   "id": "35990722",
   "metadata": {},
   "outputs": [
    {
     "data": {
      "text/plain": [
       "<matplotlib.legend.Legend at 0x7fb5061c1460>"
      ]
     },
     "execution_count": 64,
     "metadata": {},
     "output_type": "execute_result"
    },
    {
     "data": {
      "image/png": "[encoded data removed]",
      "text/plain": [
       "<Figure size 432x288 with 1 Axes>"
      ]
     },
     "metadata": {
      "needs_background": "light"
     },
     "output_type": "display_data"
    }
   ],
   "source": [
    "feature = 'age_groups'\n",
    "time = 'time'\n",
    "event = 'outcome'\n",
    "df = data\n",
    "\n",
    "X_df, Y_stru_array = convert_to_stru_array(df,time, event)\n",
    "for cat in X_df[feature].unique():\n",
    "    idx = X_df[feature] == cat\n",
    "    time_feature, survival_prob_feature = sksurv.nonparametric.kaplan_meier_estimator(\n",
    "    Y_stru_array[event][idx],\n",
    "    Y_stru_array[time][idx])\n",
    "\n",
    "    plt.step(time_feature, survival_prob_feature, where=\"post\",label=\"%s\" % cat)\n",
    "\n",
    "plt.ylabel(\"est. probability of survival $\\hat{S}(t)$\")\n",
    "plt.xlabel(\"time $t$\")\n",
    "plt.legend(loc=\"best\")\n",
    "\n"
   ]
  },
  {
   "cell_type": "code",
   "execution_count": 65,
   "id": "38869663",
   "metadata": {},
   "outputs": [
    {
     "data": {
      "text/plain": [
       "(710.7640744556854,\n",
       " 4.5660668381758864e-155,\n",
       "         counts  observed    expected   statistic\n",
       " group                                           \n",
       " middle  228220       609  534.507782   74.492218\n",
       " old     112880       600  273.870746  326.129254\n",
       " young   231305       118  518.621472 -400.621472,\n",
       " array([[ 319.06719463, -110.4465462 , -208.62064843],\n",
       "        [-110.4465462 ,  216.84295408, -106.39640788],\n",
       "        [-208.62064843, -106.39640788,  315.01705631]]))"
      ]
     },
     "execution_count": 65,
     "metadata": {},
     "output_type": "execute_result"
    }
   ],
   "source": [
    "from sksurv.compare import compare_survival\n",
    "logrank_sksurv = compare_survival(Y_stru_array, X_df.age_groups,return_stats = True)\n",
    "logrank_sksurv"
   ]
  },
  {
   "cell_type": "markdown",
   "id": "21ebf968",
   "metadata": {},
   "source": [
    "------------------------------------------------------------------------------"
   ]
  },
  {
   "cell_type": "markdown",
   "id": "f9e45e4e",
   "metadata": {},
   "source": [
    "# Semi-parametric: Cox regression"
   ]
  },
  {
   "cell_type": "code",
   "execution_count": 66,
   "id": "82606bf1",
   "metadata": {},
   "outputs": [
    {
     "data": {
      "text/html": [
       "<div>\n",
       "<style scoped>\n",
       "    .dataframe tbody tr th:only-of-type {\n",
       "        vertical-align: middle;\n",
       "    }\n",
       "\n",
       "    .dataframe tbody tr th {\n",
       "        vertical-align: top;\n",
       "    }\n",
       "\n",
       "    .dataframe thead th {\n",
       "        text-align: right;\n",
       "    }\n",
       "</style>\n",
       "<table border=\"1\" class=\"dataframe\">\n",
       "  <thead>\n",
       "    <tr style=\"text-align: right;\">\n",
       "      <th></th>\n",
       "      <th>age</th>\n",
       "      <th>sex</th>\n",
       "      <th>chronic_disease_binary</th>\n",
       "      <th>outcome</th>\n",
       "      <th>time</th>\n",
       "      <th>age_groups</th>\n",
       "    </tr>\n",
       "  </thead>\n",
       "  <tbody>\n",
       "    <tr>\n",
       "      <th>0</th>\n",
       "      <td>78</td>\n",
       "      <td>male</td>\n",
       "      <td>False</td>\n",
       "      <td>True</td>\n",
       "      <td>1</td>\n",
       "      <td>old</td>\n",
       "    </tr>\n",
       "    <tr>\n",
       "      <th>1</th>\n",
       "      <td>61</td>\n",
       "      <td>female</td>\n",
       "      <td>False</td>\n",
       "      <td>False</td>\n",
       "      <td>3</td>\n",
       "      <td>middle</td>\n",
       "    </tr>\n",
       "    <tr>\n",
       "      <th>2</th>\n",
       "      <td>66</td>\n",
       "      <td>male</td>\n",
       "      <td>False</td>\n",
       "      <td>False</td>\n",
       "      <td>235</td>\n",
       "      <td>old</td>\n",
       "    </tr>\n",
       "    <tr>\n",
       "      <th>3</th>\n",
       "      <td>27</td>\n",
       "      <td>female</td>\n",
       "      <td>False</td>\n",
       "      <td>False</td>\n",
       "      <td>235</td>\n",
       "      <td>young</td>\n",
       "    </tr>\n",
       "    <tr>\n",
       "      <th>4</th>\n",
       "      <td>17</td>\n",
       "      <td>male</td>\n",
       "      <td>False</td>\n",
       "      <td>False</td>\n",
       "      <td>235</td>\n",
       "      <td>young</td>\n",
       "    </tr>\n",
       "  </tbody>\n",
       "</table>\n",
       "</div>"
      ],
      "text/plain": [
       "   age     sex  chronic_disease_binary  outcome  time age_groups\n",
       "0   78    male                   False     True     1        old\n",
       "1   61  female                   False    False     3     middle\n",
       "2   66    male                   False    False   235        old\n",
       "3   27  female                   False    False   235      young\n",
       "4   17    male                   False    False   235      young"
      ]
     },
     "execution_count": 66,
     "metadata": {},
     "output_type": "execute_result"
    }
   ],
   "source": [
    "data.head(5)"
   ]
  },
  {
   "cell_type": "code",
   "execution_count": 67,
   "id": "9978a98f",
   "metadata": {},
   "outputs": [
    {
     "data": {
      "text/html": [
       "<div>\n",
       "<style scoped>\n",
       "    .dataframe tbody tr th:only-of-type {\n",
       "        vertical-align: middle;\n",
       "    }\n",
       "\n",
       "    .dataframe tbody tr th {\n",
       "        vertical-align: top;\n",
       "    }\n",
       "\n",
       "    .dataframe thead th {\n",
       "        text-align: right;\n",
       "    }\n",
       "</style>\n",
       "<table border=\"1\" class=\"dataframe\">\n",
       "  <thead>\n",
       "    <tr style=\"text-align: right;\">\n",
       "      <th></th>\n",
       "      <th>age</th>\n",
       "      <th>chronic_disease_binary</th>\n",
       "      <th>outcome</th>\n",
       "      <th>time</th>\n",
       "      <th>sex_male</th>\n",
       "      <th>age_groups_old</th>\n",
       "      <th>age_groups_young</th>\n",
       "    </tr>\n",
       "  </thead>\n",
       "  <tbody>\n",
       "    <tr>\n",
       "      <th>0</th>\n",
       "      <td>78</td>\n",
       "      <td>False</td>\n",
       "      <td>True</td>\n",
       "      <td>1</td>\n",
       "      <td>1</td>\n",
       "      <td>1</td>\n",
       "      <td>0</td>\n",
       "    </tr>\n",
       "    <tr>\n",
       "      <th>1</th>\n",
       "      <td>61</td>\n",
       "      <td>False</td>\n",
       "      <td>False</td>\n",
       "      <td>3</td>\n",
       "      <td>0</td>\n",
       "      <td>0</td>\n",
       "      <td>0</td>\n",
       "    </tr>\n",
       "    <tr>\n",
       "      <th>2</th>\n",
       "      <td>66</td>\n",
       "      <td>False</td>\n",
       "      <td>False</td>\n",
       "      <td>235</td>\n",
       "      <td>1</td>\n",
       "      <td>1</td>\n",
       "      <td>0</td>\n",
       "    </tr>\n",
       "    <tr>\n",
       "      <th>3</th>\n",
       "      <td>27</td>\n",
       "      <td>False</td>\n",
       "      <td>False</td>\n",
       "      <td>235</td>\n",
       "      <td>0</td>\n",
       "      <td>0</td>\n",
       "      <td>1</td>\n",
       "    </tr>\n",
       "    <tr>\n",
       "      <th>4</th>\n",
       "      <td>17</td>\n",
       "      <td>False</td>\n",
       "      <td>False</td>\n",
       "      <td>235</td>\n",
       "      <td>1</td>\n",
       "      <td>0</td>\n",
       "      <td>1</td>\n",
       "    </tr>\n",
       "  </tbody>\n",
       "</table>\n",
       "</div>"
      ],
      "text/plain": [
       "   age  chronic_disease_binary  outcome  time  sex_male  age_groups_old  \\\n",
       "0   78                   False     True     1         1               1   \n",
       "1   61                   False    False     3         0               0   \n",
       "2   66                   False    False   235         1               1   \n",
       "3   27                   False    False   235         0               0   \n",
       "4   17                   False    False   235         1               0   \n",
       "\n",
       "   age_groups_young  \n",
       "0                 0  \n",
       "1                 0  \n",
       "2                 0  \n",
       "3                 1  \n",
       "4                 1  "
      ]
     },
     "execution_count": 67,
     "metadata": {},
     "output_type": "execute_result"
    }
   ],
   "source": [
    "# one hot encode the categorical features\n",
    "data2 = pd.get_dummies(data, columns=['sex',\"age_groups\"],prefix=['sex',\"age_groups\"],drop_first=True)\n",
    "data2.head()"
   ]
  },
  {
   "cell_type": "code",
   "execution_count": 68,
   "id": "39ae6136",
   "metadata": {},
   "outputs": [
    {
     "data": {
      "text/html": [
       "<div>\n",
       "<style scoped>\n",
       "    .dataframe tbody tr th:only-of-type {\n",
       "        vertical-align: middle;\n",
       "    }\n",
       "\n",
       "    .dataframe tbody tr th {\n",
       "        vertical-align: top;\n",
       "    }\n",
       "\n",
       "    .dataframe thead th {\n",
       "        text-align: right;\n",
       "    }\n",
       "</style>\n",
       "<table border=\"1\" class=\"dataframe\">\n",
       "  <thead>\n",
       "    <tr style=\"text-align: right;\">\n",
       "      <th></th>\n",
       "      <th>chronic_disease_binary</th>\n",
       "      <th>outcome</th>\n",
       "      <th>time</th>\n",
       "      <th>sex_male</th>\n",
       "      <th>age_groups_old</th>\n",
       "      <th>age_groups_young</th>\n",
       "    </tr>\n",
       "  </thead>\n",
       "  <tbody>\n",
       "    <tr>\n",
       "      <th>0</th>\n",
       "      <td>False</td>\n",
       "      <td>True</td>\n",
       "      <td>1</td>\n",
       "      <td>1</td>\n",
       "      <td>1</td>\n",
       "      <td>0</td>\n",
       "    </tr>\n",
       "    <tr>\n",
       "      <th>1</th>\n",
       "      <td>False</td>\n",
       "      <td>False</td>\n",
       "      <td>3</td>\n",
       "      <td>0</td>\n",
       "      <td>0</td>\n",
       "      <td>0</td>\n",
       "    </tr>\n",
       "    <tr>\n",
       "      <th>2</th>\n",
       "      <td>False</td>\n",
       "      <td>False</td>\n",
       "      <td>235</td>\n",
       "      <td>1</td>\n",
       "      <td>1</td>\n",
       "      <td>0</td>\n",
       "    </tr>\n",
       "    <tr>\n",
       "      <th>3</th>\n",
       "      <td>False</td>\n",
       "      <td>False</td>\n",
       "      <td>235</td>\n",
       "      <td>0</td>\n",
       "      <td>0</td>\n",
       "      <td>1</td>\n",
       "    </tr>\n",
       "    <tr>\n",
       "      <th>4</th>\n",
       "      <td>False</td>\n",
       "      <td>False</td>\n",
       "      <td>235</td>\n",
       "      <td>1</td>\n",
       "      <td>0</td>\n",
       "      <td>1</td>\n",
       "    </tr>\n",
       "  </tbody>\n",
       "</table>\n",
       "</div>"
      ],
      "text/plain": [
       "   chronic_disease_binary  outcome  time  sex_male  age_groups_old  \\\n",
       "0                   False     True     1         1               1   \n",
       "1                   False    False     3         0               0   \n",
       "2                   False    False   235         1               1   \n",
       "3                   False    False   235         0               0   \n",
       "4                   False    False   235         1               0   \n",
       "\n",
       "   age_groups_young  \n",
       "0                 0  \n",
       "1                 0  \n",
       "2                 0  \n",
       "3                 1  \n",
       "4                 1  "
      ]
     },
     "execution_count": 68,
     "metadata": {},
     "output_type": "execute_result"
    }
   ],
   "source": [
    "data2 = data2.drop(['age'],axis = 1)\n",
    "data2.head()"
   ]
  },
  {
   "cell_type": "code",
   "execution_count": 69,
   "id": "a48fddb5",
   "metadata": {},
   "outputs": [
    {
     "data": {
      "text/plain": [
       "chronic_disease_binary    0\n",
       "outcome                   0\n",
       "time                      0\n",
       "sex_male                  0\n",
       "age_groups_old            0\n",
       "age_groups_young          0\n",
       "dtype: int64"
      ]
     },
     "execution_count": 69,
     "metadata": {},
     "output_type": "execute_result"
    }
   ],
   "source": [
    "data2.isna().sum()"
   ]
  },
  {
   "cell_type": "code",
   "execution_count": 70,
   "id": "8b988d69",
   "metadata": {},
   "outputs": [
    {
     "data": {
      "text/plain": [
       "array([1, 0], dtype=uint8)"
      ]
     },
     "execution_count": 70,
     "metadata": {},
     "output_type": "execute_result"
    }
   ],
   "source": [
    "data2.age_groups_old.unique()"
   ]
  },
  {
   "cell_type": "code",
   "execution_count": 71,
   "id": "514ea75f",
   "metadata": {},
   "outputs": [],
   "source": [
    "data3 = data2.drop(['chronic_disease_binary',\"age_groups_old\",\"age_groups_young\"],axis = 1)"
   ]
  },
  {
   "cell_type": "code",
   "execution_count": 72,
   "id": "5b1b72e6",
   "metadata": {},
   "outputs": [
    {
     "name": "stdout",
     "output_type": "stream",
     "text": [
      "Iteration 1: norm_delta = 0.19700, step_size = 0.9000, log_lik = -10814.07439, newton_decrement = 16.91374, seconds_since_start = 1.4\n",
      "Iteration 2: norm_delta = 0.02404, step_size = 0.9000, log_lik = -10797.18619, newton_decrement = 0.24017, seconds_since_start = 2.9\n",
      "Iteration 3: norm_delta = 0.00253, step_size = 0.9000, log_lik = -10796.94779, newton_decrement = 0.00264, seconds_since_start = 4.4\n",
      "Iteration 4: norm_delta = 0.00000, step_size = 1.0000, log_lik = -10796.94514, newton_decrement = 0.00000, seconds_since_start = 5.8\n",
      "Convergence success after 4 iterations.\n"
     ]
    },
    {
     "data": {
      "text/html": [
       "<div>\n",
       "<style scoped>\n",
       "    .dataframe tbody tr th:only-of-type {\n",
       "        vertical-align: middle;\n",
       "    }\n",
       "\n",
       "    .dataframe tbody tr th {\n",
       "        vertical-align: top;\n",
       "    }\n",
       "\n",
       "    .dataframe thead th {\n",
       "        text-align: right;\n",
       "    }\n",
       "</style>\n",
       "<table border=\"1\" class=\"dataframe\">\n",
       "  <tbody>\n",
       "    <tr>\n",
       "      <th>model</th>\n",
       "      <td>lifelines.CoxPHFitter</td>\n",
       "    </tr>\n",
       "    <tr>\n",
       "      <th>duration col</th>\n",
       "      <td>'time'</td>\n",
       "    </tr>\n",
       "    <tr>\n",
       "      <th>event col</th>\n",
       "      <td>'outcome'</td>\n",
       "    </tr>\n",
       "    <tr>\n",
       "      <th>baseline estimation</th>\n",
       "      <td>breslow</td>\n",
       "    </tr>\n",
       "    <tr>\n",
       "      <th>number of observations</th>\n",
       "      <td>372063</td>\n",
       "    </tr>\n",
       "    <tr>\n",
       "      <th>number of events observed</th>\n",
       "      <td>871</td>\n",
       "    </tr>\n",
       "    <tr>\n",
       "      <th>partial log-likelihood</th>\n",
       "      <td>-10796.95</td>\n",
       "    </tr>\n",
       "    <tr>\n",
       "      <th>time fit was run</th>\n",
       "      <td>2022-03-15 09:33:51 UTC</td>\n",
       "    </tr>\n",
       "  </tbody>\n",
       "</table>\n",
       "</div><table border=\"1\" class=\"dataframe\">\n",
       "  <thead>\n",
       "    <tr style=\"text-align: right;\">\n",
       "      <th style=\"min-width: 12px;\"></th>\n",
       "      <th style=\"min-width: 12px;\">coef</th>\n",
       "      <th style=\"min-width: 12px;\">exp(coef)</th>\n",
       "      <th style=\"min-width: 12px;\">se(coef)</th>\n",
       "      <th style=\"min-width: 12px;\">coef lower 95%</th>\n",
       "      <th style=\"min-width: 12px;\">coef upper 95%</th>\n",
       "      <th style=\"min-width: 12px;\">exp(coef) lower 95%</th>\n",
       "      <th style=\"min-width: 12px;\">exp(coef) upper 95%</th>\n",
       "      <th style=\"min-width: 12px;\">z</th>\n",
       "      <th style=\"min-width: 12px;\">p</th>\n",
       "      <th style=\"min-width: 12px;\">-log2(p)</th>\n",
       "    </tr>\n",
       "  </thead>\n",
       "  <tbody>\n",
       "    <tr>\n",
       "      <th>sex_male</th>\n",
       "      <td>0.40</td>\n",
       "      <td>1.50</td>\n",
       "      <td>0.07</td>\n",
       "      <td>0.27</td>\n",
       "      <td>0.54</td>\n",
       "      <td>1.31</td>\n",
       "      <td>1.72</td>\n",
       "      <td>5.78</td>\n",
       "      <td>&lt;0.005</td>\n",
       "      <td>26.97</td>\n",
       "    </tr>\n",
       "  </tbody>\n",
       "</table><br><div>\n",
       "<style scoped>\n",
       "    .dataframe tbody tr th:only-of-type {\n",
       "        vertical-align: middle;\n",
       "    }\n",
       "\n",
       "    .dataframe tbody tr th {\n",
       "        vertical-align: top;\n",
       "    }\n",
       "\n",
       "    .dataframe thead th {\n",
       "        text-align: right;\n",
       "    }\n",
       "</style>\n",
       "<table border=\"1\" class=\"dataframe\">\n",
       "  <tbody>\n",
       "    <tr>\n",
       "      <th>Concordance</th>\n",
       "      <td>0.54</td>\n",
       "    </tr>\n",
       "    <tr>\n",
       "      <th>Partial AIC</th>\n",
       "      <td>21595.89</td>\n",
       "    </tr>\n",
       "    <tr>\n",
       "      <th>log-likelihood ratio test</th>\n",
       "      <td>34.26 on 1 df</td>\n",
       "    </tr>\n",
       "    <tr>\n",
       "      <th>-log2(p) of ll-ratio test</th>\n",
       "      <td>27.63</td>\n",
       "    </tr>\n",
       "  </tbody>\n",
       "</table>\n",
       "</div>"
      ],
      "text/latex": [
       "\\begin{tabular}{lrrrrrrrrrr}\n",
       "\\toprule\n",
       "{} &  coef &  exp(coef) &  se(coef) &  coef lower 95\\% &  coef upper 95\\% &  exp(coef) lower 95\\% &  exp(coef) upper 95\\% &    z &    p &  -log2(p) \\\\\n",
       "covariate &       &            &           &                 &                 &                      &                      &      &      &           \\\\\n",
       "\\midrule\n",
       "sex\\_male  &  0.40 &       1.50 &      0.07 &            0.27 &            0.54 &                 1.31 &                 1.72 & 5.78 & 0.00 &     26.97 \\\\\n",
       "\\bottomrule\n",
       "\\end{tabular}\n"
      ],
      "text/plain": [
       "<lifelines.CoxPHFitter: fitted with 372063 total observations, 371192 right-censored observations>\n",
       "             duration col = 'time'\n",
       "                event col = 'outcome'\n",
       "      baseline estimation = breslow\n",
       "   number of observations = 372063\n",
       "number of events observed = 871\n",
       "   partial log-likelihood = -10796.95\n",
       "         time fit was run = 2022-03-15 09:33:51 UTC\n",
       "\n",
       "---\n",
       "            coef  exp(coef)   se(coef)   coef lower 95%   coef upper 95%  exp(coef) lower 95%  exp(coef) upper 95%\n",
       "covariate                                                                                                         \n",
       "sex_male    0.40       1.50       0.07             0.27             0.54                 1.31                 1.72\n",
       "\n",
       "             z      p   -log2(p)\n",
       "covariate                       \n",
       "sex_male  5.78 <0.005      26.97\n",
       "---\n",
       "Concordance = 0.54\n",
       "Partial AIC = 21595.89\n",
       "log-likelihood ratio test = 34.26 on 1 df\n",
       "-log2(p) of ll-ratio test = 27.63"
      ]
     },
     "metadata": {},
     "output_type": "display_data"
    }
   ],
   "source": [
    "#fit\n",
    "from sklearn.model_selection import train_test_split\n",
    "random.seed(10)\n",
    "\n",
    "data3_train,data3_test = train_test_split(data3,test_size=0.35)\n",
    "\n",
    "covid_cph = lifelines.CoxPHFitter()\n",
    "covid_cph.fit(data3_train, duration_col='time', event_col='outcome', show_progress=True)\n",
    "covid_cph.print_summary()"
   ]
  },
  {
   "cell_type": "code",
   "execution_count": 73,
   "id": "6addef42",
   "metadata": {},
   "outputs": [
    {
     "data": {
      "image/png": "[encoded data removed]",
      "text/plain": [
       "<Figure size 864x504 with 1 Axes>"
      ]
     },
     "metadata": {
      "needs_background": "light"
     },
     "output_type": "display_data"
    }
   ],
   "source": [
    "# plotting coefficients\n",
    "fig_coef, ax_coef = plt.subplots(figsize=(12,7))\n",
    "ax_coef.set_title('Survival Regression: Coefficients and Confidence Intervals')\n",
    "covid_cph.plot(ax=ax_coef);"
   ]
  },
  {
   "cell_type": "code",
   "execution_count": 74,
   "id": "a6f3e7c2",
   "metadata": {
    "scrolled": true
   },
   "outputs": [
    {
     "data": {
      "text/html": [
       "<div>\n",
       "<style scoped>\n",
       "    .dataframe tbody tr th:only-of-type {\n",
       "        vertical-align: middle;\n",
       "    }\n",
       "\n",
       "    .dataframe tbody tr th {\n",
       "        vertical-align: top;\n",
       "    }\n",
       "\n",
       "    .dataframe thead th {\n",
       "        text-align: right;\n",
       "    }\n",
       "</style>\n",
       "<table border=\"1\" class=\"dataframe\">\n",
       "  <tbody>\n",
       "    <tr>\n",
       "      <th>time_transform</th>\n",
       "      <td>rank</td>\n",
       "    </tr>\n",
       "    <tr>\n",
       "      <th>null_distribution</th>\n",
       "      <td>chi squared</td>\n",
       "    </tr>\n",
       "    <tr>\n",
       "      <th>degrees_of_freedom</th>\n",
       "      <td>1</td>\n",
       "    </tr>\n",
       "    <tr>\n",
       "      <th>model</th>\n",
       "      <td>&lt;lifelines.CoxPHFitter: fitted with 372063 tot...</td>\n",
       "    </tr>\n",
       "    <tr>\n",
       "      <th>test_name</th>\n",
       "      <td>proportional_hazard_test</td>\n",
       "    </tr>\n",
       "  </tbody>\n",
       "</table>\n",
       "</div><table border=\"1\" class=\"dataframe\">\n",
       "  <thead>\n",
       "    <tr style=\"text-align: right;\">\n",
       "      <th></th>\n",
       "      <th>test_statistic</th>\n",
       "      <th>p</th>\n",
       "      <th>-log2(p)</th>\n",
       "    </tr>\n",
       "  </thead>\n",
       "  <tbody>\n",
       "    <tr>\n",
       "      <th>sex_male</th>\n",
       "      <td>2.92</td>\n",
       "      <td>0.09</td>\n",
       "      <td>3.52</td>\n",
       "    </tr>\n",
       "  </tbody>\n",
       "</table>"
      ],
      "text/latex": [
       "\\begin{tabular}{lrrr}\n",
       "\\toprule\n",
       "{} &  test\\_statistic &         p &  -log2(p) \\\\\n",
       "\\midrule\n",
       "sex\\_male &        2.920491 &  0.087461 &  3.515212 \\\\\n",
       "\\bottomrule\n",
       "\\end{tabular}\n"
      ],
      "text/plain": [
       "<lifelines.StatisticalResult: proportional_hazard_test>\n",
       "    time_transform = rank\n",
       " null_distribution = chi squared\n",
       "degrees_of_freedom = 1\n",
       "             model = <lifelines.CoxPHFitter: fitted with 372063 total observations, 371192 right-censored observations>\n",
       "         test_name = proportional_hazard_test\n",
       "\n",
       "---\n",
       "          test_statistic    p  -log2(p)\n",
       "sex_male            2.92 0.09      3.52"
      ]
     },
     "metadata": {},
     "output_type": "display_data"
    }
   ],
   "source": [
    "from lifelines.statistics import proportional_hazard_test\n",
    "\n",
    "results = proportional_hazard_test(covid_cph, data3_train, time_transform='rank')\n",
    "results.print_summary(decimals=3, model=\"untransformed variables\")"
   ]
  },
  {
   "cell_type": "code",
   "execution_count": 75,
   "id": "831f4035",
   "metadata": {
    "scrolled": true
   },
   "outputs": [
    {
     "name": "stdout",
     "output_type": "stream",
     "text": [
      "The ``p_value_threshold`` is set at 0.05. Even under the null hypothesis of no violations, some\n",
      "covariates will be below the threshold by chance. This is compounded when there are many covariates.\n",
      "Similarly, when there are lots of observations, even minor deviances from the proportional hazard\n",
      "assumption will be flagged.\n",
      "\n",
      "With that in mind, it's best to use a combination of statistical tests and visual tests to determine\n",
      "the most serious violations. Produce visual plots using ``check_assumptions(..., show_plots=True)``\n",
      "and looking for non-constant lines. See link [A] below for a full example.\n",
      "\n"
     ]
    },
    {
     "name": "stderr",
     "output_type": "stream",
     "text": [
      "/Users/jwang47/opt/anaconda3/envs/dsfb2env/lib/python3.8/site-packages/lifelines/fitters/mixins.py:108: FutureWarning: Index.__and__ operating as a set operation is deprecated, in the future this will be a logical operation matching Series.__and__.  Use index.intersection(other) instead\n",
      "  for variable in self.params_.index & (columns or self.params_.index):\n"
     ]
    },
    {
     "data": {
      "text/html": [
       "<div>\n",
       "<style scoped>\n",
       "    .dataframe tbody tr th:only-of-type {\n",
       "        vertical-align: middle;\n",
       "    }\n",
       "\n",
       "    .dataframe tbody tr th {\n",
       "        vertical-align: top;\n",
       "    }\n",
       "\n",
       "    .dataframe thead th {\n",
       "        text-align: right;\n",
       "    }\n",
       "</style>\n",
       "<table border=\"1\" class=\"dataframe\">\n",
       "  <tbody>\n",
       "    <tr>\n",
       "      <th>null_distribution</th>\n",
       "      <td>chi squared</td>\n",
       "    </tr>\n",
       "    <tr>\n",
       "      <th>degrees_of_freedom</th>\n",
       "      <td>1</td>\n",
       "    </tr>\n",
       "    <tr>\n",
       "      <th>model</th>\n",
       "      <td>&lt;lifelines.CoxPHFitter: fitted with 372063 tot...</td>\n",
       "    </tr>\n",
       "    <tr>\n",
       "      <th>test_name</th>\n",
       "      <td>proportional_hazard_test</td>\n",
       "    </tr>\n",
       "  </tbody>\n",
       "</table>\n",
       "</div><table border=\"1\" class=\"dataframe\">\n",
       "  <thead>\n",
       "    <tr style=\"text-align: right;\">\n",
       "      <th></th>\n",
       "      <th></th>\n",
       "      <th>test_statistic</th>\n",
       "      <th>p</th>\n",
       "      <th>-log2(p)</th>\n",
       "    </tr>\n",
       "  </thead>\n",
       "  <tbody>\n",
       "    <tr>\n",
       "      <th rowspan=\"2\" valign=\"top\">sex_male</th>\n",
       "      <th>km</th>\n",
       "      <td>4.60</td>\n",
       "      <td>0.03</td>\n",
       "      <td>4.97</td>\n",
       "    </tr>\n",
       "    <tr>\n",
       "      <th>rank</th>\n",
       "      <td>2.92</td>\n",
       "      <td>0.09</td>\n",
       "      <td>3.52</td>\n",
       "    </tr>\n",
       "  </tbody>\n",
       "</table>"
      ],
      "text/latex": [
       "\\begin{tabular}{llrrr}\n",
       "\\toprule\n",
       "         &      &  test\\_statistic &         p &  -log2(p) \\\\\n",
       "\\midrule\n",
       "sex\\_male & km &        4.603799 &  0.031901 &  4.970246 \\\\\n",
       "         & rank &        2.920491 &  0.087461 &  3.515212 \\\\\n",
       "\\bottomrule\n",
       "\\end{tabular}\n"
      ],
      "text/plain": [
       "<lifelines.StatisticalResult: proportional_hazard_test>\n",
       " null_distribution = chi squared\n",
       "degrees_of_freedom = 1\n",
       "             model = <lifelines.CoxPHFitter: fitted with 372063 total observations, 371192 right-censored observations>\n",
       "         test_name = proportional_hazard_test\n",
       "\n",
       "---\n",
       "               test_statistic    p  -log2(p)\n",
       "sex_male km              4.60 0.03      4.97\n",
       "         rank            2.92 0.09      3.52"
      ]
     },
     "metadata": {},
     "output_type": "display_data"
    },
    {
     "name": "stdout",
     "output_type": "stream",
     "text": [
      "\n",
      "\n",
      "1. Variable 'sex_male' failed the non-proportional test: p-value is 0.0319.\n",
      "\n",
      "   Advice: with so few unique values (only 2), you can include `strata=['sex_male', ...]` in the\n",
      "call in `.fit`. See documentation in link [E] below.\n",
      "\n",
      "   Bootstrapping lowess lines. May take a moment...\n",
      "\n",
      "\n",
      "---\n",
      "[A]  https://lifelines.readthedocs.io/en/latest/jupyter_notebooks/Proportional%20hazard%20assumption.html\n",
      "[B]  https://lifelines.readthedocs.io/en/latest/jupyter_notebooks/Proportional%20hazard%20assumption.html#Bin-variable-and-stratify-on-it\n",
      "[C]  https://lifelines.readthedocs.io/en/latest/jupyter_notebooks/Proportional%20hazard%20assumption.html#Introduce-time-varying-covariates\n",
      "[D]  https://lifelines.readthedocs.io/en/latest/jupyter_notebooks/Proportional%20hazard%20assumption.html#Modify-the-functional-form\n",
      "[E]  https://lifelines.readthedocs.io/en/latest/jupyter_notebooks/Proportional%20hazard%20assumption.html#Stratification\n",
      "\n"
     ]
    },
    {
     "data": {
      "text/plain": [
       "[[<AxesSubplot:xlabel='rank-transformed time\\n(p=0.0875)'>,\n",
       "  <AxesSubplot:xlabel='km-transformed time\\n(p=0.0319)'>]]"
      ]
     },
     "execution_count": 75,
     "metadata": {},
     "output_type": "execute_result"
    },
    {
     "data": {
      "image/png": "[encoded data removed]",
      "text/plain": [
       "<Figure size 432x288 with 2 Axes>"
      ]
     },
     "metadata": {
      "needs_background": "light"
     },
     "output_type": "display_data"
    }
   ],
   "source": [
    "covid_cph.check_assumptions(data3_train, p_value_threshold=0.05, show_plots=True)"
   ]
  },
  {
   "cell_type": "code",
   "execution_count": 76,
   "id": "8c2d128b",
   "metadata": {},
   "outputs": [
    {
     "data": {
      "text/plain": [
       "Text(0, 0.5, 'log(-log(Covid Survival Chance (%)))')"
      ]
     },
     "execution_count": 76,
     "metadata": {},
     "output_type": "execute_result"
    },
    {
     "data": {
      "image/png": "[encoded data removed]",
      "text/plain": [
       "<Figure size 864x504 with 1 Axes>"
      ]
     },
     "metadata": {
      "needs_background": "light"
     },
     "output_type": "display_data"
    }
   ],
   "source": [
    "# quick check visually log(-log(surv)) vs time\n",
    "def graphical_checking_PH(feature, time='time', event='outcome', df=data, ax=None):\n",
    "    for cat in df[feature].unique():\n",
    "        idx = df[feature] == cat\n",
    "        kmf = lifelines.KaplanMeierFitter()\n",
    "        kmf.fit(df[idx][time], event_observed=df[idx][event], label=cat)\n",
    "        kmf_surv = kmf.survival_function_.reset_index()\n",
    "        plt.plot(kmf_surv.timeline,np.log(-np.log(kmf_surv[cat])),label = cat)\n",
    "\n",
    "# plot by high-tech\n",
    "fig, ax = plt.subplots(figsize=(12,7))\n",
    "graphical_checking_PH(feature='sex', ax=ax)\n",
    "ax.set_title('PH Graphical checking of gender')\n",
    "ax.set_xlabel('Time from testing a positive (Days)')\n",
    "ax.set_ylabel('log(-log(Covid Survival Chance (%)))')"
   ]
  },
  {
   "cell_type": "code",
   "execution_count": 88,
   "id": "445c5326",
   "metadata": {},
   "outputs": [
    {
     "data": {
      "text/plain": [
       "Text(0, 0.5, 'log(-log(Covid Survival Chance (%)))')"
      ]
     },
     "execution_count": 88,
     "metadata": {},
     "output_type": "execute_result"
    },
    {
     "data": {
      "image/png": "[encoded data removed]",
      "text/plain": [
       "<Figure size 864x504 with 1 Axes>"
      ]
     },
     "metadata": {
      "needs_background": "light"
     },
     "output_type": "display_data"
    }
   ],
   "source": [
    "# quick check visually log(-log(surv)) vs time\n",
    "def graphical_checking_PH(feature, time='time', event='outcome', df=data, ax=None):\n",
    "    for cat in df[feature].unique():\n",
    "        idx = df[feature] == cat\n",
    "        kmf = lifelines.KaplanMeierFitter()\n",
    "        kmf.fit(df[idx][time], event_observed=df[idx][event], label=cat)\n",
    "        kmf_surv = kmf.survival_function_.reset_index()\n",
    "        plt.plot(kmf_surv.timeline,np.log(-np.log(kmf_surv[cat])),label = cat)\n",
    "\n",
    "# plot by high-tech\n",
    "fig, ax = plt.subplots(figsize=(12,7))\n",
    "graphical_checking_PH(feature='age_groups', ax=ax)\n",
    "ax.set_title('PH Graphical checking of age groups')\n",
    "ax.set_xlabel('Time from testing a positive (Days)')\n",
    "ax.set_ylabel('log(-log(Covid Survival Chance (%)))')"
   ]
  },
  {
   "cell_type": "code",
   "execution_count": 77,
   "id": "ccd1ae0f",
   "metadata": {},
   "outputs": [
    {
     "data": {
      "text/html": [
       "<div>\n",
       "<style scoped>\n",
       "    .dataframe tbody tr th:only-of-type {\n",
       "        vertical-align: middle;\n",
       "    }\n",
       "\n",
       "    .dataframe tbody tr th {\n",
       "        vertical-align: top;\n",
       "    }\n",
       "\n",
       "    .dataframe thead th {\n",
       "        text-align: right;\n",
       "    }\n",
       "</style>\n",
       "<table border=\"1\" class=\"dataframe\">\n",
       "  <thead>\n",
       "    <tr style=\"text-align: right;\">\n",
       "      <th></th>\n",
       "      <th>outcome</th>\n",
       "      <th>time</th>\n",
       "      <th>sex_male</th>\n",
       "      <th>age_groups_old</th>\n",
       "      <th>age_groups_young</th>\n",
       "    </tr>\n",
       "  </thead>\n",
       "  <tbody>\n",
       "    <tr>\n",
       "      <th>0</th>\n",
       "      <td>True</td>\n",
       "      <td>1</td>\n",
       "      <td>1</td>\n",
       "      <td>1</td>\n",
       "      <td>0</td>\n",
       "    </tr>\n",
       "    <tr>\n",
       "      <th>1</th>\n",
       "      <td>False</td>\n",
       "      <td>3</td>\n",
       "      <td>0</td>\n",
       "      <td>0</td>\n",
       "      <td>0</td>\n",
       "    </tr>\n",
       "    <tr>\n",
       "      <th>2</th>\n",
       "      <td>False</td>\n",
       "      <td>235</td>\n",
       "      <td>1</td>\n",
       "      <td>1</td>\n",
       "      <td>0</td>\n",
       "    </tr>\n",
       "    <tr>\n",
       "      <th>3</th>\n",
       "      <td>False</td>\n",
       "      <td>235</td>\n",
       "      <td>0</td>\n",
       "      <td>0</td>\n",
       "      <td>1</td>\n",
       "    </tr>\n",
       "    <tr>\n",
       "      <th>4</th>\n",
       "      <td>False</td>\n",
       "      <td>235</td>\n",
       "      <td>1</td>\n",
       "      <td>0</td>\n",
       "      <td>1</td>\n",
       "    </tr>\n",
       "  </tbody>\n",
       "</table>\n",
       "</div>"
      ],
      "text/plain": [
       "   outcome  time  sex_male  age_groups_old  age_groups_young\n",
       "0     True     1         1               1                 0\n",
       "1    False     3         0               0                 0\n",
       "2    False   235         1               1                 0\n",
       "3    False   235         0               0                 1\n",
       "4    False   235         1               0                 1"
      ]
     },
     "execution_count": 77,
     "metadata": {},
     "output_type": "execute_result"
    }
   ],
   "source": [
    "data4 = data2.drop(['chronic_disease_binary'],axis = 1)\n",
    "data4.head()"
   ]
  },
  {
   "cell_type": "code",
   "execution_count": 78,
   "id": "c5e5963a",
   "metadata": {},
   "outputs": [
    {
     "name": "stdout",
     "output_type": "stream",
     "text": [
      "Iteration 1: norm_delta = 0.63603, step_size = 0.9000, log_lik = -10025.96591, newton_decrement = 242.60297, seconds_since_start = 1.9\n",
      "Iteration 2: norm_delta = 0.38442, step_size = 0.9000, log_lik = -9796.01888, newton_decrement = 26.30737, seconds_since_start = 3.7\n",
      "Iteration 3: norm_delta = 0.08758, step_size = 0.9000, log_lik = -9769.22243, newton_decrement = 1.18403, seconds_since_start = 5.6\n",
      "Iteration 4: norm_delta = 0.00680, step_size = 1.0000, log_lik = -9767.98422, newton_decrement = 0.00634, seconds_since_start = 7.4\n",
      "Iteration 5: norm_delta = 0.00004, step_size = 1.0000, log_lik = -9767.97786, newton_decrement = 0.00000, seconds_since_start = 9.2\n",
      "Iteration 6: norm_delta = 0.00000, step_size = 1.0000, log_lik = -9767.97786, newton_decrement = 0.00000, seconds_since_start = 10.9\n",
      "Convergence success after 6 iterations.\n"
     ]
    },
    {
     "data": {
      "text/html": [
       "<div>\n",
       "<style scoped>\n",
       "    .dataframe tbody tr th:only-of-type {\n",
       "        vertical-align: middle;\n",
       "    }\n",
       "\n",
       "    .dataframe tbody tr th {\n",
       "        vertical-align: top;\n",
       "    }\n",
       "\n",
       "    .dataframe thead th {\n",
       "        text-align: right;\n",
       "    }\n",
       "</style>\n",
       "<table border=\"1\" class=\"dataframe\">\n",
       "  <tbody>\n",
       "    <tr>\n",
       "      <th>model</th>\n",
       "      <td>lifelines.CoxPHFitter</td>\n",
       "    </tr>\n",
       "    <tr>\n",
       "      <th>duration col</th>\n",
       "      <td>'time'</td>\n",
       "    </tr>\n",
       "    <tr>\n",
       "      <th>event col</th>\n",
       "      <td>'outcome'</td>\n",
       "    </tr>\n",
       "    <tr>\n",
       "      <th>strata</th>\n",
       "      <td>[sex_male]</td>\n",
       "    </tr>\n",
       "    <tr>\n",
       "      <th>baseline estimation</th>\n",
       "      <td>breslow</td>\n",
       "    </tr>\n",
       "    <tr>\n",
       "      <th>number of observations</th>\n",
       "      <td>372063</td>\n",
       "    </tr>\n",
       "    <tr>\n",
       "      <th>number of events observed</th>\n",
       "      <td>855</td>\n",
       "    </tr>\n",
       "    <tr>\n",
       "      <th>partial log-likelihood</th>\n",
       "      <td>-9767.98</td>\n",
       "    </tr>\n",
       "    <tr>\n",
       "      <th>time fit was run</th>\n",
       "      <td>2022-03-15 09:36:15 UTC</td>\n",
       "    </tr>\n",
       "  </tbody>\n",
       "</table>\n",
       "</div><table border=\"1\" class=\"dataframe\">\n",
       "  <thead>\n",
       "    <tr style=\"text-align: right;\">\n",
       "      <th style=\"min-width: 12px;\"></th>\n",
       "      <th style=\"min-width: 12px;\">coef</th>\n",
       "      <th style=\"min-width: 12px;\">exp(coef)</th>\n",
       "      <th style=\"min-width: 12px;\">se(coef)</th>\n",
       "      <th style=\"min-width: 12px;\">coef lower 95%</th>\n",
       "      <th style=\"min-width: 12px;\">coef upper 95%</th>\n",
       "      <th style=\"min-width: 12px;\">exp(coef) lower 95%</th>\n",
       "      <th style=\"min-width: 12px;\">exp(coef) upper 95%</th>\n",
       "      <th style=\"min-width: 12px;\">z</th>\n",
       "      <th style=\"min-width: 12px;\">p</th>\n",
       "      <th style=\"min-width: 12px;\">-log2(p)</th>\n",
       "    </tr>\n",
       "  </thead>\n",
       "  <tbody>\n",
       "    <tr>\n",
       "      <th>age_groups_old</th>\n",
       "      <td>0.67</td>\n",
       "      <td>1.96</td>\n",
       "      <td>0.07</td>\n",
       "      <td>0.53</td>\n",
       "      <td>0.81</td>\n",
       "      <td>1.70</td>\n",
       "      <td>2.26</td>\n",
       "      <td>9.40</td>\n",
       "      <td>&lt;0.005</td>\n",
       "      <td>67.34</td>\n",
       "    </tr>\n",
       "    <tr>\n",
       "      <th>age_groups_young</th>\n",
       "      <td>-1.70</td>\n",
       "      <td>0.18</td>\n",
       "      <td>0.13</td>\n",
       "      <td>-1.95</td>\n",
       "      <td>-1.45</td>\n",
       "      <td>0.14</td>\n",
       "      <td>0.23</td>\n",
       "      <td>-13.20</td>\n",
       "      <td>&lt;0.005</td>\n",
       "      <td>129.70</td>\n",
       "    </tr>\n",
       "  </tbody>\n",
       "</table><br><div>\n",
       "<style scoped>\n",
       "    .dataframe tbody tr th:only-of-type {\n",
       "        vertical-align: middle;\n",
       "    }\n",
       "\n",
       "    .dataframe tbody tr th {\n",
       "        vertical-align: top;\n",
       "    }\n",
       "\n",
       "    .dataframe thead th {\n",
       "        text-align: right;\n",
       "    }\n",
       "</style>\n",
       "<table border=\"1\" class=\"dataframe\">\n",
       "  <tbody>\n",
       "    <tr>\n",
       "      <th>Concordance</th>\n",
       "      <td>0.71</td>\n",
       "    </tr>\n",
       "    <tr>\n",
       "      <th>Partial AIC</th>\n",
       "      <td>19539.96</td>\n",
       "    </tr>\n",
       "    <tr>\n",
       "      <th>log-likelihood ratio test</th>\n",
       "      <td>515.98 on 2 df</td>\n",
       "    </tr>\n",
       "    <tr>\n",
       "      <th>-log2(p) of ll-ratio test</th>\n",
       "      <td>372.20</td>\n",
       "    </tr>\n",
       "  </tbody>\n",
       "</table>\n",
       "</div>"
      ],
      "text/latex": [
       "\\begin{tabular}{lrrrrrrrrrr}\n",
       "\\toprule\n",
       "{} &  coef &  exp(coef) &  se(coef) &  coef lower 95\\% &  coef upper 95\\% &  exp(coef) lower 95\\% &  exp(coef) upper 95\\% &      z &    p &  -log2(p) \\\\\n",
       "covariate        &       &            &           &                 &                 &                      &                      &        &      &           \\\\\n",
       "\\midrule\n",
       "age\\_groups\\_old   &  0.67 &       1.96 &      0.07 &            0.53 &            0.81 &                 1.70 &                 2.26 &   9.40 & 0.00 &     67.34 \\\\\n",
       "age\\_groups\\_young & -1.70 &       0.18 &      0.13 &           -1.95 &           -1.45 &                 0.14 &                 0.23 & -13.20 & 0.00 &    129.70 \\\\\n",
       "\\bottomrule\n",
       "\\end{tabular}\n"
      ],
      "text/plain": [
       "<lifelines.CoxPHFitter: fitted with 372063 total observations, 371208 right-censored observations>\n",
       "             duration col = 'time'\n",
       "                event col = 'outcome'\n",
       "                   strata = ['sex_male']\n",
       "      baseline estimation = breslow\n",
       "   number of observations = 372063\n",
       "number of events observed = 855\n",
       "   partial log-likelihood = -9767.98\n",
       "         time fit was run = 2022-03-15 09:36:15 UTC\n",
       "\n",
       "---\n",
       "                   coef  exp(coef)   se(coef)   coef lower 95%   coef upper 95%  exp(coef) lower 95%  exp(coef) upper 95%\n",
       "covariate                                                                                                                \n",
       "age_groups_old     0.67       1.96       0.07             0.53             0.81                 1.70                 2.26\n",
       "age_groups_young  -1.70       0.18       0.13            -1.95            -1.45                 0.14                 0.23\n",
       "\n",
       "                      z      p   -log2(p)\n",
       "covariate                                \n",
       "age_groups_old     9.40 <0.005      67.34\n",
       "age_groups_young -13.20 <0.005     129.70\n",
       "---\n",
       "Concordance = 0.71\n",
       "Partial AIC = 19539.96\n",
       "log-likelihood ratio test = 515.98 on 2 df\n",
       "-log2(p) of ll-ratio test = 372.20"
      ]
     },
     "metadata": {},
     "output_type": "display_data"
    }
   ],
   "source": [
    "#fit\n",
    "from sklearn.model_selection import train_test_split\n",
    "random.seed(10)\n",
    "strata_variable=[\"sex_male\"]\n",
    "data4_train,data4_test = train_test_split(data4,test_size=0.35)\n",
    "\n",
    "covid_cph_2 = lifelines.CoxPHFitter()\n",
    "covid_cph_2.fit(data4_train, duration_col='time', event_col='outcome', show_progress=True,strata=strata_variable)\n",
    "covid_cph_2.print_summary()"
   ]
  },
  {
   "cell_type": "code",
   "execution_count": 79,
   "id": "1a0151af",
   "metadata": {},
   "outputs": [
    {
     "data": {
      "text/html": [
       "<div>\n",
       "<style scoped>\n",
       "    .dataframe tbody tr th:only-of-type {\n",
       "        vertical-align: middle;\n",
       "    }\n",
       "\n",
       "    .dataframe tbody tr th {\n",
       "        vertical-align: top;\n",
       "    }\n",
       "\n",
       "    .dataframe thead th {\n",
       "        text-align: right;\n",
       "    }\n",
       "</style>\n",
       "<table border=\"1\" class=\"dataframe\">\n",
       "  <tbody>\n",
       "    <tr>\n",
       "      <th>time_transform</th>\n",
       "      <td>rank</td>\n",
       "    </tr>\n",
       "    <tr>\n",
       "      <th>null_distribution</th>\n",
       "      <td>chi squared</td>\n",
       "    </tr>\n",
       "    <tr>\n",
       "      <th>degrees_of_freedom</th>\n",
       "      <td>1</td>\n",
       "    </tr>\n",
       "    <tr>\n",
       "      <th>model</th>\n",
       "      <td>&lt;lifelines.CoxPHFitter: fitted with 372063 tot...</td>\n",
       "    </tr>\n",
       "    <tr>\n",
       "      <th>test_name</th>\n",
       "      <td>proportional_hazard_test</td>\n",
       "    </tr>\n",
       "  </tbody>\n",
       "</table>\n",
       "</div><table border=\"1\" class=\"dataframe\">\n",
       "  <thead>\n",
       "    <tr style=\"text-align: right;\">\n",
       "      <th></th>\n",
       "      <th>test_statistic</th>\n",
       "      <th>p</th>\n",
       "      <th>-log2(p)</th>\n",
       "    </tr>\n",
       "  </thead>\n",
       "  <tbody>\n",
       "    <tr>\n",
       "      <th>age_groups_old</th>\n",
       "      <td>8.62</td>\n",
       "      <td>&lt;0.005</td>\n",
       "      <td>8.23</td>\n",
       "    </tr>\n",
       "    <tr>\n",
       "      <th>age_groups_young</th>\n",
       "      <td>1.56</td>\n",
       "      <td>0.21</td>\n",
       "      <td>2.24</td>\n",
       "    </tr>\n",
       "  </tbody>\n",
       "</table>"
      ],
      "text/latex": [
       "\\begin{tabular}{lrrr}\n",
       "\\toprule\n",
       "{} &  test\\_statistic &         p &  -log2(p) \\\\\n",
       "\\midrule\n",
       "age\\_groups\\_old   &        8.616355 &  0.003332 &  8.229578 \\\\\n",
       "age\\_groups\\_young &        1.556608 &  0.212163 &  2.236758 \\\\\n",
       "\\bottomrule\n",
       "\\end{tabular}\n"
      ],
      "text/plain": [
       "<lifelines.StatisticalResult: proportional_hazard_test>\n",
       "    time_transform = rank\n",
       " null_distribution = chi squared\n",
       "degrees_of_freedom = 1\n",
       "             model = <lifelines.CoxPHFitter: fitted with 372063 total observations, 371208 right-censored observations>\n",
       "         test_name = proportional_hazard_test\n",
       "\n",
       "---\n",
       "                  test_statistic      p  -log2(p)\n",
       "age_groups_old              8.62 <0.005      8.23\n",
       "age_groups_young            1.56   0.21      2.24"
      ]
     },
     "metadata": {},
     "output_type": "display_data"
    }
   ],
   "source": [
    "from lifelines.statistics import proportional_hazard_test\n",
    "\n",
    "results = proportional_hazard_test(covid_cph_2, data4_train, time_transform='rank')\n",
    "results.print_summary(decimals=3, model=\"untransformed variables\")"
   ]
  },
  {
   "cell_type": "code",
   "execution_count": 80,
   "id": "44dfacfd",
   "metadata": {},
   "outputs": [
    {
     "name": "stdout",
     "output_type": "stream",
     "text": [
      "The ``p_value_threshold`` is set at 0.05. Even under the null hypothesis of no violations, some\n",
      "covariates will be below the threshold by chance. This is compounded when there are many covariates.\n",
      "Similarly, when there are lots of observations, even minor deviances from the proportional hazard\n",
      "assumption will be flagged.\n",
      "\n",
      "With that in mind, it's best to use a combination of statistical tests and visual tests to determine\n",
      "the most serious violations. Produce visual plots using ``check_assumptions(..., show_plots=True)``\n",
      "and looking for non-constant lines. See link [A] below for a full example.\n",
      "\n"
     ]
    },
    {
     "name": "stderr",
     "output_type": "stream",
     "text": [
      "/Users/jwang47/opt/anaconda3/envs/dsfb2env/lib/python3.8/site-packages/lifelines/fitters/mixins.py:108: FutureWarning: Index.__and__ operating as a set operation is deprecated, in the future this will be a logical operation matching Series.__and__.  Use index.intersection(other) instead\n",
      "  for variable in self.params_.index & (columns or self.params_.index):\n"
     ]
    },
    {
     "data": {
      "text/html": [
       "<div>\n",
       "<style scoped>\n",
       "    .dataframe tbody tr th:only-of-type {\n",
       "        vertical-align: middle;\n",
       "    }\n",
       "\n",
       "    .dataframe tbody tr th {\n",
       "        vertical-align: top;\n",
       "    }\n",
       "\n",
       "    .dataframe thead th {\n",
       "        text-align: right;\n",
       "    }\n",
       "</style>\n",
       "<table border=\"1\" class=\"dataframe\">\n",
       "  <tbody>\n",
       "    <tr>\n",
       "      <th>null_distribution</th>\n",
       "      <td>chi squared</td>\n",
       "    </tr>\n",
       "    <tr>\n",
       "      <th>degrees_of_freedom</th>\n",
       "      <td>1</td>\n",
       "    </tr>\n",
       "    <tr>\n",
       "      <th>model</th>\n",
       "      <td>&lt;lifelines.CoxPHFitter: fitted with 372063 tot...</td>\n",
       "    </tr>\n",
       "    <tr>\n",
       "      <th>test_name</th>\n",
       "      <td>proportional_hazard_test</td>\n",
       "    </tr>\n",
       "  </tbody>\n",
       "</table>\n",
       "</div><table border=\"1\" class=\"dataframe\">\n",
       "  <thead>\n",
       "    <tr style=\"text-align: right;\">\n",
       "      <th></th>\n",
       "      <th></th>\n",
       "      <th>test_statistic</th>\n",
       "      <th>p</th>\n",
       "      <th>-log2(p)</th>\n",
       "    </tr>\n",
       "  </thead>\n",
       "  <tbody>\n",
       "    <tr>\n",
       "      <th rowspan=\"2\" valign=\"top\">age_groups_old</th>\n",
       "      <th>km</th>\n",
       "      <td>9.50</td>\n",
       "      <td>&lt;0.005</td>\n",
       "      <td>8.93</td>\n",
       "    </tr>\n",
       "    <tr>\n",
       "      <th>rank</th>\n",
       "      <td>8.62</td>\n",
       "      <td>&lt;0.005</td>\n",
       "      <td>8.23</td>\n",
       "    </tr>\n",
       "    <tr>\n",
       "      <th rowspan=\"2\" valign=\"top\">age_groups_young</th>\n",
       "      <th>km</th>\n",
       "      <td>0.86</td>\n",
       "      <td>0.35</td>\n",
       "      <td>1.50</td>\n",
       "    </tr>\n",
       "    <tr>\n",
       "      <th>rank</th>\n",
       "      <td>1.56</td>\n",
       "      <td>0.21</td>\n",
       "      <td>2.24</td>\n",
       "    </tr>\n",
       "  </tbody>\n",
       "</table>"
      ],
      "text/latex": [
       "\\begin{tabular}{llrrr}\n",
       "\\toprule\n",
       "                 &      &  test\\_statistic &         p &  -log2(p) \\\\\n",
       "\\midrule\n",
       "age\\_groups\\_old & km &        9.499291 &  0.002056 &  8.926286 \\\\\n",
       "                 & rank &        8.616355 &  0.003332 &  8.229578 \\\\\n",
       "age\\_groups\\_young & km &        0.856468 &  0.354729 &  1.495211 \\\\\n",
       "                 & rank &        1.556608 &  0.212163 &  2.236758 \\\\\n",
       "\\bottomrule\n",
       "\\end{tabular}\n"
      ],
      "text/plain": [
       "<lifelines.StatisticalResult: proportional_hazard_test>\n",
       " null_distribution = chi squared\n",
       "degrees_of_freedom = 1\n",
       "             model = <lifelines.CoxPHFitter: fitted with 372063 total observations, 371208 right-censored observations>\n",
       "         test_name = proportional_hazard_test\n",
       "\n",
       "---\n",
       "                       test_statistic      p  -log2(p)\n",
       "age_groups_old   km              9.50 <0.005      8.93\n",
       "                 rank            8.62 <0.005      8.23\n",
       "age_groups_young km              0.86   0.35      1.50\n",
       "                 rank            1.56   0.21      2.24"
      ]
     },
     "metadata": {},
     "output_type": "display_data"
    },
    {
     "name": "stdout",
     "output_type": "stream",
     "text": [
      "\n",
      "\n",
      "1. Variable 'age_groups_old' failed the non-proportional test: p-value is 0.0021.\n",
      "\n",
      "   Advice: with so few unique values (only 2), you can include `strata=['age_groups_old', ...]` in\n",
      "the call in `.fit`. See documentation in link [E] below.\n",
      "\n",
      "   Bootstrapping lowess lines. May take a moment...\n",
      "\n",
      "\n",
      "---\n",
      "[A]  https://lifelines.readthedocs.io/en/latest/jupyter_notebooks/Proportional%20hazard%20assumption.html\n",
      "[B]  https://lifelines.readthedocs.io/en/latest/jupyter_notebooks/Proportional%20hazard%20assumption.html#Bin-variable-and-stratify-on-it\n",
      "[C]  https://lifelines.readthedocs.io/en/latest/jupyter_notebooks/Proportional%20hazard%20assumption.html#Introduce-time-varying-covariates\n",
      "[D]  https://lifelines.readthedocs.io/en/latest/jupyter_notebooks/Proportional%20hazard%20assumption.html#Modify-the-functional-form\n",
      "[E]  https://lifelines.readthedocs.io/en/latest/jupyter_notebooks/Proportional%20hazard%20assumption.html#Stratification\n",
      "\n"
     ]
    },
    {
     "data": {
      "text/plain": [
       "[[<AxesSubplot:xlabel='rank-transformed time\\n(p=0.0033)'>,\n",
       "  <AxesSubplot:xlabel='km-transformed time\\n(p=0.0021)'>]]"
      ]
     },
     "execution_count": 80,
     "metadata": {},
     "output_type": "execute_result"
    },
    {
     "data": {
      "image/png": "[encoded data removed]",
      "text/plain": [
       "<Figure size 432x288 with 2 Axes>"
      ]
     },
     "metadata": {
      "needs_background": "light"
     },
     "output_type": "display_data"
    }
   ],
   "source": [
    "covid_cph_2.check_assumptions(data4_train, p_value_threshold=0.05, show_plots=True)"
   ]
  },
  {
   "cell_type": "code",
   "execution_count": 81,
   "id": "09ef521f",
   "metadata": {},
   "outputs": [
    {
     "data": {
      "image/png": "[encoded data removed]",
      "text/plain": [
       "<Figure size 864x504 with 1 Axes>"
      ]
     },
     "metadata": {
      "needs_background": "light"
     },
     "output_type": "display_data"
    }
   ],
   "source": [
    "# plotting coefficients\n",
    "fig_coef, ax_coef = plt.subplots(figsize=(12,7))\n",
    "ax_coef.set_title('Survival Regression: Coefficients and Confidence Intervals')\n",
    "covid_cph_2.plot(ax=ax_coef);"
   ]
  },
  {
   "cell_type": "markdown",
   "id": "389e2f02",
   "metadata": {},
   "source": [
    "# Random Survival Forest"
   ]
  },
  {
   "cell_type": "code",
   "execution_count": 83,
   "id": "d2117a26",
   "metadata": {
    "scrolled": true
   },
   "outputs": [
    {
     "data": {
      "text/html": [
       "<div>\n",
       "<style scoped>\n",
       "    .dataframe tbody tr th:only-of-type {\n",
       "        vertical-align: middle;\n",
       "    }\n",
       "\n",
       "    .dataframe tbody tr th {\n",
       "        vertical-align: top;\n",
       "    }\n",
       "\n",
       "    .dataframe thead th {\n",
       "        text-align: right;\n",
       "    }\n",
       "</style>\n",
       "<table border=\"1\" class=\"dataframe\">\n",
       "  <thead>\n",
       "    <tr style=\"text-align: right;\">\n",
       "      <th></th>\n",
       "      <th>chronic_disease_binary</th>\n",
       "      <th>outcome</th>\n",
       "      <th>time</th>\n",
       "      <th>sex_male</th>\n",
       "      <th>age_groups_old</th>\n",
       "      <th>age_groups_young</th>\n",
       "    </tr>\n",
       "  </thead>\n",
       "  <tbody>\n",
       "    <tr>\n",
       "      <th>263885</th>\n",
       "      <td>False</td>\n",
       "      <td>False</td>\n",
       "      <td>340</td>\n",
       "      <td>0</td>\n",
       "      <td>0</td>\n",
       "      <td>0</td>\n",
       "    </tr>\n",
       "    <tr>\n",
       "      <th>520318</th>\n",
       "      <td>False</td>\n",
       "      <td>False</td>\n",
       "      <td>202</td>\n",
       "      <td>1</td>\n",
       "      <td>0</td>\n",
       "      <td>1</td>\n",
       "    </tr>\n",
       "    <tr>\n",
       "      <th>463884</th>\n",
       "      <td>False</td>\n",
       "      <td>False</td>\n",
       "      <td>269</td>\n",
       "      <td>1</td>\n",
       "      <td>0</td>\n",
       "      <td>1</td>\n",
       "    </tr>\n",
       "    <tr>\n",
       "      <th>480662</th>\n",
       "      <td>False</td>\n",
       "      <td>False</td>\n",
       "      <td>353</td>\n",
       "      <td>1</td>\n",
       "      <td>0</td>\n",
       "      <td>0</td>\n",
       "    </tr>\n",
       "    <tr>\n",
       "      <th>224656</th>\n",
       "      <td>False</td>\n",
       "      <td>False</td>\n",
       "      <td>110</td>\n",
       "      <td>0</td>\n",
       "      <td>1</td>\n",
       "      <td>0</td>\n",
       "    </tr>\n",
       "    <tr>\n",
       "      <th>...</th>\n",
       "      <td>...</td>\n",
       "      <td>...</td>\n",
       "      <td>...</td>\n",
       "      <td>...</td>\n",
       "      <td>...</td>\n",
       "      <td>...</td>\n",
       "    </tr>\n",
       "    <tr>\n",
       "      <th>556516</th>\n",
       "      <td>False</td>\n",
       "      <td>False</td>\n",
       "      <td>285</td>\n",
       "      <td>0</td>\n",
       "      <td>0</td>\n",
       "      <td>0</td>\n",
       "    </tr>\n",
       "    <tr>\n",
       "      <th>375334</th>\n",
       "      <td>False</td>\n",
       "      <td>False</td>\n",
       "      <td>201</td>\n",
       "      <td>0</td>\n",
       "      <td>0</td>\n",
       "      <td>0</td>\n",
       "    </tr>\n",
       "    <tr>\n",
       "      <th>167643</th>\n",
       "      <td>False</td>\n",
       "      <td>False</td>\n",
       "      <td>305</td>\n",
       "      <td>0</td>\n",
       "      <td>0</td>\n",
       "      <td>0</td>\n",
       "    </tr>\n",
       "    <tr>\n",
       "      <th>338134</th>\n",
       "      <td>False</td>\n",
       "      <td>False</td>\n",
       "      <td>383</td>\n",
       "      <td>1</td>\n",
       "      <td>0</td>\n",
       "      <td>1</td>\n",
       "    </tr>\n",
       "    <tr>\n",
       "      <th>500031</th>\n",
       "      <td>False</td>\n",
       "      <td>False</td>\n",
       "      <td>301</td>\n",
       "      <td>0</td>\n",
       "      <td>0</td>\n",
       "      <td>1</td>\n",
       "    </tr>\n",
       "  </tbody>\n",
       "</table>\n",
       "<p>372063 rows × 6 columns</p>\n",
       "</div>"
      ],
      "text/plain": [
       "        chronic_disease_binary  outcome  time  sex_male  age_groups_old  \\\n",
       "263885                   False    False   340         0               0   \n",
       "520318                   False    False   202         1               0   \n",
       "463884                   False    False   269         1               0   \n",
       "480662                   False    False   353         1               0   \n",
       "224656                   False    False   110         0               1   \n",
       "...                        ...      ...   ...       ...             ...   \n",
       "556516                   False    False   285         0               0   \n",
       "375334                   False    False   201         0               0   \n",
       "167643                   False    False   305         0               0   \n",
       "338134                   False    False   383         1               0   \n",
       "500031                   False    False   301         0               0   \n",
       "\n",
       "        age_groups_young  \n",
       "263885                 0  \n",
       "520318                 1  \n",
       "463884                 1  \n",
       "480662                 0  \n",
       "224656                 0  \n",
       "...                  ...  \n",
       "556516                 0  \n",
       "375334                 0  \n",
       "167643                 0  \n",
       "338134                 1  \n",
       "500031                 1  \n",
       "\n",
       "[372063 rows x 6 columns]"
      ]
     },
     "execution_count": 83,
     "metadata": {},
     "output_type": "execute_result"
    }
   ],
   "source": [
    "from sklearn.model_selection import train_test_split\n",
    "random.seed(10)\n",
    "\n",
    "data2_train,data2_test = train_test_split(data2,test_size=0.35)\n",
    "data2_train"
   ]
  },
  {
   "cell_type": "code",
   "execution_count": 84,
   "id": "a122f7e6",
   "metadata": {},
   "outputs": [
    {
     "data": {
      "text/plain": [
       "RandomSurvivalForest(max_features='sqrt', min_samples_leaf=15,\n",
       "                     min_samples_split=10, n_jobs=-1, random_state=20)"
      ]
     },
     "execution_count": 84,
     "metadata": {},
     "output_type": "execute_result"
    }
   ],
   "source": [
    "from sksurv.linear_model import CoxPHSurvivalAnalysis\n",
    "from sksurv.ensemble import RandomSurvivalForest\n",
    "\n",
    "X_train_cox, Y_train_cox = convert_to_stru_array(data2_train,'time', 'outcome')\n",
    "X_test_cox, Y_test_cox = convert_to_stru_array(data2_test,'time', 'outcome')\n",
    "\n",
    "\n",
    "random_state = 20\n",
    "sksurv_rsf = RandomSurvivalForest(n_estimators=100,\n",
    "                           min_samples_split=10,\n",
    "                           min_samples_leaf=15,\n",
    "                           max_features=\"sqrt\",\n",
    "                           n_jobs=-1,\n",
    "                           random_state=random_state)\n",
    "sksurv_rsf.fit(X_train_cox, Y_train_cox)"
   ]
  },
  {
   "cell_type": "code",
   "execution_count": 85,
   "id": "f45420f7",
   "metadata": {},
   "outputs": [
    {
     "data": {
      "text/plain": [
       "0.7580035391276385"
      ]
     },
     "execution_count": 85,
     "metadata": {},
     "output_type": "execute_result"
    }
   ],
   "source": [
    "sksurv_rsf.score(X_test_cox, Y_test_cox)"
   ]
  },
  {
   "cell_type": "code",
   "execution_count": 86,
   "id": "5ece3457",
   "metadata": {},
   "outputs": [
    {
     "name": "stdout",
     "output_type": "stream",
     "text": [
      "Collecting package metadata (current_repodata.json): done\n",
      "Solving environment: done\n",
      "\n",
      "# All requested packages already installed.\n",
      "\n",
      "\n",
      "Note: you may need to restart the kernel to use updated packages.\n"
     ]
    }
   ],
   "source": [
    "conda install -c conda-forge eli5"
   ]
  },
  {
   "cell_type": "code",
   "execution_count": 87,
   "id": "9096e39b",
   "metadata": {},
   "outputs": [
    {
     "data": {
      "text/html": [
       "\n",
       "    <style>\n",
       "    table.eli5-weights tr:hover {\n",
       "        filter: brightness(85%);\n",
       "    }\n",
       "</style>\n",
       "\n",
       "\n",
       "\n",
       "    \n",
       "\n",
       "    \n",
       "\n",
       "    \n",
       "\n",
       "    \n",
       "\n",
       "    \n",
       "\n",
       "    \n",
       "\n",
       "\n",
       "    \n",
       "\n",
       "    \n",
       "\n",
       "    \n",
       "\n",
       "    \n",
       "\n",
       "    \n",
       "\n",
       "    \n",
       "\n",
       "\n",
       "    \n",
       "\n",
       "    \n",
       "\n",
       "    \n",
       "\n",
       "    \n",
       "\n",
       "    \n",
       "        <table class=\"eli5-weights eli5-feature-importances\" style=\"border-collapse: collapse; border: none; margin-top: 0em; table-layout: auto;\">\n",
       "    <thead>\n",
       "    <tr style=\"border: none;\">\n",
       "        <th style=\"padding: 0 1em 0 0.5em; text-align: right; border: none;\">Weight</th>\n",
       "        <th style=\"padding: 0 0.5em 0 0.5em; text-align: left; border: none;\">Feature</th>\n",
       "    </tr>\n",
       "    </thead>\n",
       "    <tbody>\n",
       "    \n",
       "        <tr style=\"background-color: hsl(120, 100.00%, 80.00%); border: none;\">\n",
       "            <td style=\"padding: 0 1em 0 0.5em; text-align: right; border: none;\">\n",
       "                0.0987\n",
       "                \n",
       "                    &plusmn; 0.0136\n",
       "                \n",
       "            </td>\n",
       "            <td style=\"padding: 0 0.5em 0 0.5em; text-align: left; border: none;\">\n",
       "                age_groups_young\n",
       "            </td>\n",
       "        </tr>\n",
       "    \n",
       "        <tr style=\"background-color: hsl(120, 100.00%, 83.76%); border: none;\">\n",
       "            <td style=\"padding: 0 1em 0 0.5em; text-align: right; border: none;\">\n",
       "                0.0733\n",
       "                \n",
       "                    &plusmn; 0.0088\n",
       "                \n",
       "            </td>\n",
       "            <td style=\"padding: 0 0.5em 0 0.5em; text-align: left; border: none;\">\n",
       "                age_groups_old\n",
       "            </td>\n",
       "        </tr>\n",
       "    \n",
       "        <tr style=\"background-color: hsl(120, 100.00%, 94.00%); border: none;\">\n",
       "            <td style=\"padding: 0 1em 0 0.5em; text-align: right; border: none;\">\n",
       "                0.0177\n",
       "                \n",
       "                    &plusmn; 0.0061\n",
       "                \n",
       "            </td>\n",
       "            <td style=\"padding: 0 0.5em 0 0.5em; text-align: left; border: none;\">\n",
       "                sex_male\n",
       "            </td>\n",
       "        </tr>\n",
       "    \n",
       "        <tr style=\"background-color: hsl(120, 100.00%, 94.13%); border: none;\">\n",
       "            <td style=\"padding: 0 1em 0 0.5em; text-align: right; border: none;\">\n",
       "                0.0171\n",
       "                \n",
       "                    &plusmn; 0.0000\n",
       "                \n",
       "            </td>\n",
       "            <td style=\"padding: 0 0.5em 0 0.5em; text-align: left; border: none;\">\n",
       "                chronic_disease_binary\n",
       "            </td>\n",
       "        </tr>\n",
       "    \n",
       "    \n",
       "    </tbody>\n",
       "</table>\n",
       "    \n",
       "\n",
       "    \n",
       "\n",
       "\n",
       "    \n",
       "\n",
       "    \n",
       "\n",
       "    \n",
       "\n",
       "    \n",
       "\n",
       "    \n",
       "\n",
       "    \n",
       "\n",
       "\n",
       "\n"
      ],
      "text/plain": [
       "<IPython.core.display.HTML object>"
      ]
     },
     "execution_count": 87,
     "metadata": {},
     "output_type": "execute_result"
    }
   ],
   "source": [
    "import eli5\n",
    "from eli5.sklearn import PermutationImportance\n",
    "\n",
    "perm = PermutationImportance(sksurv_rsf, n_iter=3, random_state=random_state)\n",
    "perm.fit(X_test_cox, Y_test_cox)\n",
    "eli5.show_weights(perm, feature_names=X_train_cox.columns.tolist())"
   ]
  },
  {
   "cell_type": "code",
   "execution_count": null,
   "id": "a6bece0f",
   "metadata": {},
   "outputs": [],
   "source": []
  },
  {
   "cell_type": "code",
   "execution_count": null,
   "id": "645b8784",
   "metadata": {},
   "outputs": [],
   "source": []
  },
  {
   "cell_type": "code",
   "execution_count": null,
   "id": "9fc62582",
   "metadata": {},
   "outputs": [],
   "source": []
  },
  {
   "cell_type": "code",
   "execution_count": null,
   "id": "7b5ff039",
   "metadata": {},
   "outputs": [],
   "source": []
  }
 ],
 "metadata": {
  "kernelspec": {
   "display_name": "Python 3 (ipykernel)",
   "language": "python",
   "name": "python3"
  },
  "language_info": {
   "codemirror_mode": {
    "name": "ipython",
    "version": 3
   },
   "file_extension": ".py",
   "mimetype": "text/x-python",
   "name": "python",
   "nbconvert_exporter": "python",
   "pygments_lexer": "ipython3",
   "version": "3.9.13"
  }
 },
 "nbformat": 4,
 "nbformat_minor": 5
}
