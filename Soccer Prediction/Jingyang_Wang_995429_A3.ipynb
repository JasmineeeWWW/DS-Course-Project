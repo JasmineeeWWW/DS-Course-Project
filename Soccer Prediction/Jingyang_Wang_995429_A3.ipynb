{
 "cells": [
  {
   "cell_type": "code",
   "execution_count": 1,
   "id": "ead97cee",
   "metadata": {},
   "outputs": [],
   "source": [
    "#Assignment 3\n",
    "#Jingyang Wang\n",
    "#Student number: 995429\n",
    "import pandas as pd\n",
    "import matplotlib.pyplot as plt\n",
    "import matplotlib.lines as mlines\n",
    "import matplotlib.transforms as mtransforms\n",
    "import numpy as np\n",
    "from sklearn.ensemble import RandomForestClassifier\n",
    "from sklearn.linear_model import LogisticRegression\n",
    "\n",
    "from sklearn.model_selection import train_test_split, KFold, cross_val_score, RandomizedSearchCV\n",
    "from sklearn.metrics import log_loss\n",
    "from sklearn.calibration import calibration_curve, CalibratedClassifierCV"
   ]
  },
  {
   "cell_type": "code",
   "execution_count": 2,
   "id": "8a8fa39b",
   "metadata": {},
   "outputs": [],
   "source": [
    "df_wc= pd.read_csv(\"shots_World_Cup.csv\")"
   ]
  },
  {
   "cell_type": "code",
   "execution_count": 3,
   "id": "fee2a756",
   "metadata": {},
   "outputs": [],
   "source": [
    "df_eu= pd.read_csv(\"shots_European_Championship.csv\")"
   ]
  },
  {
   "cell_type": "code",
   "execution_count": 4,
   "id": "c923990e",
   "metadata": {},
   "outputs": [
    {
     "data": {
      "text/html": [
       "<div>\n",
       "<style scoped>\n",
       "    .dataframe tbody tr th:only-of-type {\n",
       "        vertical-align: middle;\n",
       "    }\n",
       "\n",
       "    .dataframe tbody tr th {\n",
       "        vertical-align: top;\n",
       "    }\n",
       "\n",
       "    .dataframe thead th {\n",
       "        text-align: right;\n",
       "    }\n",
       "</style>\n",
       "<table border=\"1\" class=\"dataframe\">\n",
       "  <thead>\n",
       "    <tr style=\"text-align: right;\">\n",
       "      <th></th>\n",
       "      <th>period</th>\n",
       "      <th>time</th>\n",
       "      <th>x</th>\n",
       "      <th>y</th>\n",
       "      <th>freeKick</th>\n",
       "      <th>rightFoot</th>\n",
       "      <th>leftFoot</th>\n",
       "      <th>head</th>\n",
       "      <th>opportunity</th>\n",
       "      <th>goal</th>\n",
       "    </tr>\n",
       "  </thead>\n",
       "  <tbody>\n",
       "    <tr>\n",
       "      <th>0</th>\n",
       "      <td>1</td>\n",
       "      <td>31</td>\n",
       "      <td>91</td>\n",
       "      <td>29</td>\n",
       "      <td>0</td>\n",
       "      <td>1</td>\n",
       "      <td>0</td>\n",
       "      <td>0</td>\n",
       "      <td>0</td>\n",
       "      <td>0</td>\n",
       "    </tr>\n",
       "    <tr>\n",
       "      <th>1</th>\n",
       "      <td>1</td>\n",
       "      <td>143</td>\n",
       "      <td>71</td>\n",
       "      <td>29</td>\n",
       "      <td>0</td>\n",
       "      <td>1</td>\n",
       "      <td>0</td>\n",
       "      <td>0</td>\n",
       "      <td>1</td>\n",
       "      <td>0</td>\n",
       "    </tr>\n",
       "    <tr>\n",
       "      <th>2</th>\n",
       "      <td>1</td>\n",
       "      <td>220</td>\n",
       "      <td>96</td>\n",
       "      <td>57</td>\n",
       "      <td>0</td>\n",
       "      <td>1</td>\n",
       "      <td>0</td>\n",
       "      <td>0</td>\n",
       "      <td>1</td>\n",
       "      <td>0</td>\n",
       "    </tr>\n",
       "    <tr>\n",
       "      <th>3</th>\n",
       "      <td>1</td>\n",
       "      <td>248</td>\n",
       "      <td>96</td>\n",
       "      <td>61</td>\n",
       "      <td>0</td>\n",
       "      <td>0</td>\n",
       "      <td>0</td>\n",
       "      <td>1</td>\n",
       "      <td>1</td>\n",
       "      <td>0</td>\n",
       "    </tr>\n",
       "    <tr>\n",
       "      <th>4</th>\n",
       "      <td>1</td>\n",
       "      <td>557</td>\n",
       "      <td>75</td>\n",
       "      <td>33</td>\n",
       "      <td>0</td>\n",
       "      <td>0</td>\n",
       "      <td>1</td>\n",
       "      <td>0</td>\n",
       "      <td>0</td>\n",
       "      <td>0</td>\n",
       "    </tr>\n",
       "  </tbody>\n",
       "</table>\n",
       "</div>"
      ],
      "text/plain": [
       "   period  time   x   y  freeKick  rightFoot  leftFoot  head  opportunity  \\\n",
       "0       1    31  91  29         0          1         0     0            0   \n",
       "1       1   143  71  29         0          1         0     0            1   \n",
       "2       1   220  96  57         0          1         0     0            1   \n",
       "3       1   248  96  61         0          0         0     1            1   \n",
       "4       1   557  75  33         0          0         1     0            0   \n",
       "\n",
       "   goal  \n",
       "0     0  \n",
       "1     0  \n",
       "2     0  \n",
       "3     0  \n",
       "4     0  "
      ]
     },
     "execution_count": 4,
     "metadata": {},
     "output_type": "execute_result"
    }
   ],
   "source": [
    "df_eu.head(5)"
   ]
  },
  {
   "cell_type": "code",
   "execution_count": 5,
   "id": "51e98b68",
   "metadata": {},
   "outputs": [],
   "source": [
    "df_eng= pd.read_csv(\"shots_England.csv\")"
   ]
  },
  {
   "cell_type": "code",
   "execution_count": 6,
   "id": "ece2010d",
   "metadata": {},
   "outputs": [],
   "source": [
    "df_fr= pd.read_csv(\"shots_France.csv\")"
   ]
  },
  {
   "cell_type": "code",
   "execution_count": 7,
   "id": "fc5002c5",
   "metadata": {},
   "outputs": [],
   "source": [
    "df_ge= pd.read_csv(\"shots_Germany.csv\")"
   ]
  },
  {
   "cell_type": "code",
   "execution_count": 8,
   "id": "45ab9057",
   "metadata": {},
   "outputs": [],
   "source": [
    "df_it= pd.read_csv(\"shots_Italy.csv\")"
   ]
  },
  {
   "cell_type": "code",
   "execution_count": 9,
   "id": "70454a67",
   "metadata": {},
   "outputs": [],
   "source": [
    "df_sp= pd.read_csv(\"shots_Spain.csv\")"
   ]
  },
  {
   "cell_type": "code",
   "execution_count": 10,
   "id": "5d4c1c75",
   "metadata": {},
   "outputs": [],
   "source": [
    "data = pd.concat([df_wc, df_sp, df_it, df_ge, df_fr, df_eng, df_eu], axis=0)"
   ]
  },
  {
   "cell_type": "code",
   "execution_count": 11,
   "id": "ddefdf95",
   "metadata": {},
   "outputs": [
    {
     "name": "stdout",
     "output_type": "stream",
     "text": [
      "<class 'pandas.core.frame.DataFrame'>\n",
      "Int64Index: 45287 entries, 0 to 1282\n",
      "Data columns (total 10 columns):\n",
      " #   Column       Non-Null Count  Dtype\n",
      "---  ------       --------------  -----\n",
      " 0   period       45287 non-null  int64\n",
      " 1   time         45287 non-null  int64\n",
      " 2   x            45287 non-null  int64\n",
      " 3   y            45287 non-null  int64\n",
      " 4   freeKick     45287 non-null  int64\n",
      " 5   rightFoot    45287 non-null  int64\n",
      " 6   leftFoot     45287 non-null  int64\n",
      " 7   head         45287 non-null  int64\n",
      " 8   opportunity  45287 non-null  int64\n",
      " 9   goal         45287 non-null  int64\n",
      "dtypes: int64(10)\n",
      "memory usage: 3.8 MB\n"
     ]
    }
   ],
   "source": [
    "data.info()"
   ]
  },
  {
   "cell_type": "code",
   "execution_count": 12,
   "id": "09a5dc0a",
   "metadata": {},
   "outputs": [
    {
     "data": {
      "text/html": [
       "<div>\n",
       "<style scoped>\n",
       "    .dataframe tbody tr th:only-of-type {\n",
       "        vertical-align: middle;\n",
       "    }\n",
       "\n",
       "    .dataframe tbody tr th {\n",
       "        vertical-align: top;\n",
       "    }\n",
       "\n",
       "    .dataframe thead th {\n",
       "        text-align: right;\n",
       "    }\n",
       "</style>\n",
       "<table border=\"1\" class=\"dataframe\">\n",
       "  <thead>\n",
       "    <tr style=\"text-align: right;\">\n",
       "      <th></th>\n",
       "      <th>period</th>\n",
       "      <th>time</th>\n",
       "      <th>x</th>\n",
       "      <th>y</th>\n",
       "      <th>freeKick</th>\n",
       "      <th>rightFoot</th>\n",
       "      <th>leftFoot</th>\n",
       "      <th>head</th>\n",
       "      <th>opportunity</th>\n",
       "      <th>goal</th>\n",
       "    </tr>\n",
       "  </thead>\n",
       "  <tbody>\n",
       "    <tr>\n",
       "      <th>0</th>\n",
       "      <td>1</td>\n",
       "      <td>327</td>\n",
       "      <td>87</td>\n",
       "      <td>27</td>\n",
       "      <td>0</td>\n",
       "      <td>1</td>\n",
       "      <td>0</td>\n",
       "      <td>0</td>\n",
       "      <td>0</td>\n",
       "      <td>0</td>\n",
       "    </tr>\n",
       "    <tr>\n",
       "      <th>1</th>\n",
       "      <td>1</td>\n",
       "      <td>407</td>\n",
       "      <td>90</td>\n",
       "      <td>69</td>\n",
       "      <td>0</td>\n",
       "      <td>1</td>\n",
       "      <td>0</td>\n",
       "      <td>0</td>\n",
       "      <td>0</td>\n",
       "      <td>0</td>\n",
       "    </tr>\n",
       "    <tr>\n",
       "      <th>2</th>\n",
       "      <td>1</td>\n",
       "      <td>526</td>\n",
       "      <td>86</td>\n",
       "      <td>30</td>\n",
       "      <td>0</td>\n",
       "      <td>0</td>\n",
       "      <td>1</td>\n",
       "      <td>0</td>\n",
       "      <td>0</td>\n",
       "      <td>0</td>\n",
       "    </tr>\n",
       "    <tr>\n",
       "      <th>3</th>\n",
       "      <td>1</td>\n",
       "      <td>693</td>\n",
       "      <td>93</td>\n",
       "      <td>60</td>\n",
       "      <td>0</td>\n",
       "      <td>0</td>\n",
       "      <td>0</td>\n",
       "      <td>1</td>\n",
       "      <td>1</td>\n",
       "      <td>1</td>\n",
       "    </tr>\n",
       "    <tr>\n",
       "      <th>4</th>\n",
       "      <td>1</td>\n",
       "      <td>1266</td>\n",
       "      <td>86</td>\n",
       "      <td>38</td>\n",
       "      <td>0</td>\n",
       "      <td>0</td>\n",
       "      <td>1</td>\n",
       "      <td>0</td>\n",
       "      <td>0</td>\n",
       "      <td>0</td>\n",
       "    </tr>\n",
       "  </tbody>\n",
       "</table>\n",
       "</div>"
      ],
      "text/plain": [
       "   period  time   x   y  freeKick  rightFoot  leftFoot  head  opportunity  \\\n",
       "0       1   327  87  27         0          1         0     0            0   \n",
       "1       1   407  90  69         0          1         0     0            0   \n",
       "2       1   526  86  30         0          0         1     0            0   \n",
       "3       1   693  93  60         0          0         0     1            1   \n",
       "4       1  1266  86  38         0          0         1     0            0   \n",
       "\n",
       "   goal  \n",
       "0     0  \n",
       "1     0  \n",
       "2     0  \n",
       "3     1  \n",
       "4     0  "
      ]
     },
     "execution_count": 12,
     "metadata": {},
     "output_type": "execute_result"
    }
   ],
   "source": [
    "data.head()"
   ]
  },
  {
   "cell_type": "code",
   "execution_count": 13,
   "id": "81a34bee",
   "metadata": {},
   "outputs": [],
   "source": [
    "data['x']=100-data['x']\n",
    "data['C']=abs(data['y']-50)"
   ]
  },
  {
   "cell_type": "code",
   "execution_count": 14,
   "id": "2909d987",
   "metadata": {},
   "outputs": [],
   "source": [
    " #Distance in metres and shot angle in radians.\n",
    "x=data['x']*105/100\n",
    "y=data['C']*65/100\n",
    "data['Distance']=np.sqrt(x**2 + y**2)"
   ]
  },
  {
   "cell_type": "code",
   "execution_count": 15,
   "id": "350f1791",
   "metadata": {},
   "outputs": [],
   "source": [
    "a=np.arctan(7.32 *x /(x**2 + y**2 - (7.32/2)**2))\n",
    "\n",
    "data['Angle']=a"
   ]
  },
  {
   "cell_type": "code",
   "execution_count": 16,
   "id": "caaa19d6",
   "metadata": {},
   "outputs": [],
   "source": [
    "data['Angle1']=np.pi+a"
   ]
  },
  {
   "cell_type": "code",
   "execution_count": 17,
   "id": "319ecc4c",
   "metadata": {},
   "outputs": [],
   "source": [
    "p = np.array(data['Angle'].values.tolist())\n",
    "q = np.array(data['Angle1'].values.tolist())\n",
    "data['Angle'] = np.where(p < 0, q, p).tolist()"
   ]
  },
  {
   "cell_type": "code",
   "execution_count": 18,
   "id": "a6a7cdf2",
   "metadata": {},
   "outputs": [],
   "source": [
    "data = data.drop(['Angle1'], axis=1)"
   ]
  },
  {
   "cell_type": "code",
   "execution_count": 19,
   "id": "225a952d",
   "metadata": {},
   "outputs": [],
   "source": [
    "data['side_of_field']= 1*(data['y'] <  50)"
   ]
  },
  {
   "cell_type": "code",
   "execution_count": 20,
   "id": "7996c691",
   "metadata": {},
   "outputs": [],
   "source": [
    "data['out_swinging'] = 1*(data['side_of_field'] == 0)*(data['rightFoot'] == 1) \\\n",
    "                           + 1*(data['side_of_field'] == 1)*(data['leftFoot'] == 1)\n",
    "data['in_swinging'] = 1*(data['side_of_field'] == 0)*(data['leftFoot'] == 1) \\\n",
    "                            + 1*(data['side_of_field'] == 1)*(data['rightFoot'] == 1)"
   ]
  },
  {
   "cell_type": "code",
   "execution_count": 21,
   "id": "1816736a",
   "metadata": {},
   "outputs": [
    {
     "data": {
      "text/html": [
       "<div>\n",
       "<style scoped>\n",
       "    .dataframe tbody tr th:only-of-type {\n",
       "        vertical-align: middle;\n",
       "    }\n",
       "\n",
       "    .dataframe tbody tr th {\n",
       "        vertical-align: top;\n",
       "    }\n",
       "\n",
       "    .dataframe thead th {\n",
       "        text-align: right;\n",
       "    }\n",
       "</style>\n",
       "<table border=\"1\" class=\"dataframe\">\n",
       "  <thead>\n",
       "    <tr style=\"text-align: right;\">\n",
       "      <th></th>\n",
       "      <th>period</th>\n",
       "      <th>time</th>\n",
       "      <th>x</th>\n",
       "      <th>y</th>\n",
       "      <th>freeKick</th>\n",
       "      <th>rightFoot</th>\n",
       "      <th>leftFoot</th>\n",
       "      <th>head</th>\n",
       "      <th>opportunity</th>\n",
       "      <th>goal</th>\n",
       "      <th>C</th>\n",
       "      <th>Distance</th>\n",
       "      <th>Angle</th>\n",
       "      <th>side_of_field</th>\n",
       "      <th>out_swinging</th>\n",
       "      <th>in_swinging</th>\n",
       "    </tr>\n",
       "  </thead>\n",
       "  <tbody>\n",
       "    <tr>\n",
       "      <th>0</th>\n",
       "      <td>1</td>\n",
       "      <td>327</td>\n",
       "      <td>13</td>\n",
       "      <td>27</td>\n",
       "      <td>0</td>\n",
       "      <td>1</td>\n",
       "      <td>0</td>\n",
       "      <td>0</td>\n",
       "      <td>0</td>\n",
       "      <td>0</td>\n",
       "      <td>23</td>\n",
       "      <td>20.244135</td>\n",
       "      <td>0.246902</td>\n",
       "      <td>1</td>\n",
       "      <td>0</td>\n",
       "      <td>1</td>\n",
       "    </tr>\n",
       "    <tr>\n",
       "      <th>1</th>\n",
       "      <td>1</td>\n",
       "      <td>407</td>\n",
       "      <td>10</td>\n",
       "      <td>69</td>\n",
       "      <td>0</td>\n",
       "      <td>1</td>\n",
       "      <td>0</td>\n",
       "      <td>0</td>\n",
       "      <td>0</td>\n",
       "      <td>0</td>\n",
       "      <td>19</td>\n",
       "      <td>16.210259</td>\n",
       "      <td>0.298970</td>\n",
       "      <td>0</td>\n",
       "      <td>1</td>\n",
       "      <td>0</td>\n",
       "    </tr>\n",
       "    <tr>\n",
       "      <th>2</th>\n",
       "      <td>1</td>\n",
       "      <td>526</td>\n",
       "      <td>14</td>\n",
       "      <td>30</td>\n",
       "      <td>0</td>\n",
       "      <td>0</td>\n",
       "      <td>1</td>\n",
       "      <td>0</td>\n",
       "      <td>0</td>\n",
       "      <td>0</td>\n",
       "      <td>20</td>\n",
       "      <td>19.623710</td>\n",
       "      <td>0.281792</td>\n",
       "      <td>1</td>\n",
       "      <td>1</td>\n",
       "      <td>0</td>\n",
       "    </tr>\n",
       "    <tr>\n",
       "      <th>3</th>\n",
       "      <td>1</td>\n",
       "      <td>693</td>\n",
       "      <td>7</td>\n",
       "      <td>60</td>\n",
       "      <td>0</td>\n",
       "      <td>0</td>\n",
       "      <td>0</td>\n",
       "      <td>1</td>\n",
       "      <td>1</td>\n",
       "      <td>1</td>\n",
       "      <td>10</td>\n",
       "      <td>9.811855</td>\n",
       "      <td>0.575798</td>\n",
       "      <td>0</td>\n",
       "      <td>0</td>\n",
       "      <td>0</td>\n",
       "    </tr>\n",
       "    <tr>\n",
       "      <th>4</th>\n",
       "      <td>1</td>\n",
       "      <td>1266</td>\n",
       "      <td>14</td>\n",
       "      <td>38</td>\n",
       "      <td>0</td>\n",
       "      <td>0</td>\n",
       "      <td>1</td>\n",
       "      <td>0</td>\n",
       "      <td>0</td>\n",
       "      <td>0</td>\n",
       "      <td>12</td>\n",
       "      <td>16.641214</td>\n",
       "      <td>0.387650</td>\n",
       "      <td>1</td>\n",
       "      <td>1</td>\n",
       "      <td>0</td>\n",
       "    </tr>\n",
       "  </tbody>\n",
       "</table>\n",
       "</div>"
      ],
      "text/plain": [
       "   period  time   x   y  freeKick  rightFoot  leftFoot  head  opportunity  \\\n",
       "0       1   327  13  27         0          1         0     0            0   \n",
       "1       1   407  10  69         0          1         0     0            0   \n",
       "2       1   526  14  30         0          0         1     0            0   \n",
       "3       1   693   7  60         0          0         0     1            1   \n",
       "4       1  1266  14  38         0          0         1     0            0   \n",
       "\n",
       "   goal   C   Distance     Angle  side_of_field  out_swinging  in_swinging  \n",
       "0     0  23  20.244135  0.246902              1             0            1  \n",
       "1     0  19  16.210259  0.298970              0             1            0  \n",
       "2     0  20  19.623710  0.281792              1             1            0  \n",
       "3     1  10   9.811855  0.575798              0             0            0  \n",
       "4     0  12  16.641214  0.387650              1             1            0  "
      ]
     },
     "execution_count": 21,
     "metadata": {},
     "output_type": "execute_result"
    }
   ],
   "source": [
    "data.head()"
   ]
  },
  {
   "cell_type": "code",
   "execution_count": 22,
   "id": "8d745036",
   "metadata": {},
   "outputs": [],
   "source": [
    "#Two dimensional histogram\n",
    "H_Shot=np.histogram2d(data['x'], data['y'],bins=50,range=[[0, 100],[0, 100]])\n",
    "goals_only=data[data['goal']==1]\n",
    "H_Goal=np.histogram2d(goals_only['x'], goals_only['y'],bins=50,range=[[0, 100],[0, 100]])"
   ]
  },
  {
   "cell_type": "code",
   "execution_count": 23,
   "id": "f7c53349",
   "metadata": {},
   "outputs": [],
   "source": [
    "#cited from Github: \n",
    "import matplotlib.pyplot as plt\n",
    "from matplotlib.patches import Arc\n",
    "\n",
    "def createPitch(length,width, unity,linecolor): # in meters\n",
    "    # Code by @JPJ_dejong\n",
    "\n",
    "    \"\"\"\n",
    "    creates a plot in which the 'length' is the length of the pitch (goal to goal).\n",
    "    And 'width' is the width of the pitch (sideline to sideline). \n",
    "    Fill in the unity in meters or in yards.\n",
    "    \"\"\"\n",
    "    #Set unity\n",
    "    if unity == \"meters\":\n",
    "        # Set boundaries\n",
    "        if length >= 120.5 or width >= 75.5:\n",
    "            return(str(\"Field dimensions are too big for meters as unity, didn't you mean yards as unity?\\\n",
    "                       Otherwise the maximum length is 120 meters and the maximum width is 75 meters. Please try again\"))\n",
    "        #Run program if unity and boundaries are accepted\n",
    "        else:\n",
    "            #Create figure\n",
    "            fig=plt.figure()\n",
    "            #fig.set_size_inches(7, 5)\n",
    "            ax=fig.add_subplot(1,1,1)\n",
    "           \n",
    "            #Pitch Outline & Centre Line\n",
    "            plt.plot([0,0],[0,width], color=linecolor)\n",
    "            plt.plot([0,length],[width,width], color=linecolor)\n",
    "            plt.plot([length,length],[width,0], color=linecolor)\n",
    "            plt.plot([length,0],[0,0], color=linecolor)\n",
    "            plt.plot([length/2,length/2],[0,width], color=linecolor)\n",
    "            \n",
    "            #Left Penalty Area\n",
    "            plt.plot([16.5 ,16.5],[(width/2 +16.5),(width/2-16.5)],color=linecolor)\n",
    "            plt.plot([0,16.5],[(width/2 +16.5),(width/2 +16.5)],color=linecolor)\n",
    "            plt.plot([16.5,0],[(width/2 -16.5),(width/2 -16.5)],color=linecolor)\n",
    "            \n",
    "            #Right Penalty Area\n",
    "            plt.plot([(length-16.5),length],[(width/2 +16.5),(width/2 +16.5)],color=linecolor)\n",
    "            plt.plot([(length-16.5), (length-16.5)],[(width/2 +16.5),(width/2-16.5)],color=linecolor)\n",
    "            plt.plot([(length-16.5),length],[(width/2 -16.5),(width/2 -16.5)],color=linecolor)\n",
    "            \n",
    "            #Left 5-meters Box\n",
    "            plt.plot([0,5.5],[(width/2+7.32/2+5.5),(width/2+7.32/2+5.5)],color=linecolor)\n",
    "            plt.plot([5.5,5.5],[(width/2+7.32/2+5.5),(width/2-7.32/2-5.5)],color=linecolor)\n",
    "            plt.plot([5.5,0.5],[(width/2-7.32/2-5.5),(width/2-7.32/2-5.5)],color=linecolor)\n",
    "            \n",
    "            #Right 5 -eters Box\n",
    "            plt.plot([length,length-5.5],[(width/2+7.32/2+5.5),(width/2+7.32/2+5.5)],color=linecolor)\n",
    "            plt.plot([length-5.5,length-5.5],[(width/2+7.32/2+5.5),width/2-7.32/2-5.5],color=linecolor)\n",
    "            plt.plot([length-5.5,length],[width/2-7.32/2-5.5,width/2-7.32/2-5.5],color=linecolor)\n",
    "            \n",
    "            #Prepare Circles\n",
    "            centreCircle = plt.Circle((length/2,width/2),9.15,color=linecolor,fill=False)\n",
    "            centreSpot = plt.Circle((length/2,width/2),0.8,color=linecolor)\n",
    "            leftPenSpot = plt.Circle((11,width/2),0.8,color=linecolor)\n",
    "            rightPenSpot = plt.Circle((length-11,width/2),0.8,color=linecolor)\n",
    "            \n",
    "            #Draw Circles\n",
    "            ax.add_patch(centreCircle)\n",
    "            ax.add_patch(centreSpot)\n",
    "            ax.add_patch(leftPenSpot)\n",
    "            ax.add_patch(rightPenSpot)\n",
    "            \n",
    "            #Prepare Arcs\n",
    "            leftArc = Arc((11,width/2),height=18.3,width=18.3,angle=0,theta1=308,theta2=52,color=linecolor)\n",
    "            rightArc = Arc((length-11,width/2),height=18.3,width=18.3,angle=0,theta1=128,theta2=232,color=linecolor)\n",
    "            \n",
    "            #Draw Arcs\n",
    "            ax.add_patch(leftArc)\n",
    "            ax.add_patch(rightArc)\n",
    "            #Axis titles\n",
    "\n",
    "    #check unity again\n",
    "    elif unity == \"yards\":\n",
    "        #check boundaries again\n",
    "        if length <= 95:\n",
    "            return(str(\"Didn't you mean meters as unity?\"))\n",
    "        elif length >= 131 or width >= 101:\n",
    "            return(str(\"Field dimensions are too big. Maximum length is 130, maximum width is 100\"))\n",
    "        #Run program if unity and boundaries are accepted\n",
    "        else:\n",
    "            #Create figure\n",
    "            fig=plt.figure()\n",
    "            #fig.set_size_inches(7, 5)\n",
    "            ax=fig.add_subplot(1,1,1)\n",
    "           \n",
    "            #Pitch Outline & Centre Line\n",
    "            plt.plot([0,0],[0,width], color=linecolor)\n",
    "            plt.plot([0,length],[width,width], color=linecolor)\n",
    "            plt.plot([length,length],[width,0], color=linecolor)\n",
    "            plt.plot([length,0],[0,0], color=linecolor)\n",
    "            plt.plot([length/2,length/2],[0,width], color=linecolor)\n",
    "            \n",
    "            #Left Penalty Area\n",
    "            plt.plot([18 ,18],[(width/2 +18),(width/2-18)],color=linecolor)\n",
    "            plt.plot([0,18],[(width/2 +18),(width/2 +18)],color=linecolor)\n",
    "            plt.plot([18,0],[(width/2 -18),(width/2 -18)],color=linecolor)\n",
    "            \n",
    "            #Right Penalty Area\n",
    "            plt.plot([(length-18),length],[(width/2 +18),(width/2 +18)],color=linecolor)\n",
    "            plt.plot([(length-18), (length-18)],[(width/2 +18),(width/2-18)],color=linecolor)\n",
    "            plt.plot([(length-18),length],[(width/2 -18),(width/2 -18)],color=linecolor)\n",
    "            \n",
    "            #Left 6-yard Box\n",
    "            plt.plot([0,6],[(width/2+7.32/2+6),(width/2+7.32/2+6)],color=linecolor)\n",
    "            plt.plot([6,6],[(width/2+7.32/2+6),(width/2-7.32/2-6)],color=linecolor)\n",
    "            plt.plot([6,0],[(width/2-7.32/2-6),(width/2-7.32/2-6)],color=linecolor)\n",
    "            \n",
    "            #Right 6-yard Box\n",
    "            plt.plot([length,length-6],[(width/2+7.32/2+6),(width/2+7.32/2+6)],color=linecolor)\n",
    "            plt.plot([length-6,length-6],[(width/2+7.32/2+6),width/2-7.32/2-6],color=linecolor)\n",
    "            plt.plot([length-6,length],[(width/2-7.32/2-6),width/2-7.32/2-6],color=linecolor)\n",
    "            \n",
    "            #Prepare Circles; 10 yards distance. penalty on 12 yards\n",
    "            centreCircle = plt.Circle((length/2,width/2),10,color=linecolor,fill=False)\n",
    "            centreSpot = plt.Circle((length/2,width/2),0.8,color=linecolor)\n",
    "            leftPenSpot = plt.Circle((12,width/2),0.8,color=linecolor)\n",
    "            rightPenSpot = plt.Circle((length-12,width/2),0.8,color=linecolor)\n",
    "            \n",
    "            #Draw Circles\n",
    "            ax.add_patch(centreCircle)\n",
    "            ax.add_patch(centreSpot)\n",
    "            ax.add_patch(leftPenSpot)\n",
    "            ax.add_patch(rightPenSpot)\n",
    "            \n",
    "            #Prepare Arcs\n",
    "            leftArc = Arc((11,width/2),height=20,width=20,angle=0,theta1=312,theta2=48,color=linecolor)\n",
    "            rightArc = Arc((length-11,width/2),height=20,width=20,angle=0,theta1=130,theta2=230,color=linecolor)\n",
    "            \n",
    "            #Draw Arcs\n",
    "            ax.add_patch(leftArc)\n",
    "            ax.add_patch(rightArc)\n",
    "                \n",
    "    #Tidy Axes\n",
    "    plt.axis('off')\n",
    "    \n",
    "    return fig,ax\n",
    "\n",
    "\n",
    "def createPitchOld():\n",
    "    #Taken from FC Python        \n",
    "    #Create figure\n",
    "    fig=plt.figure()\n",
    "    ax=fig.add_subplot(1,1,1)\n",
    "\n",
    "    #Pitch Outline & Centre Line\n",
    "    plt.plot([0,0],[0,90], color=linecolor)\n",
    "    plt.plot([0,130],[90,90], color=linecolor)\n",
    "    plt.plot([130,130],[90,0], color=linecolor)\n",
    "    plt.plot([130,0],[0,0], color=linecolor)\n",
    "    plt.plot([65,65],[0,90], color=linecolor)\n",
    "    \n",
    "    #Left Penalty Area\n",
    "    plt.plot([16.5,16.5],[65,25],color=linecolor)\n",
    "    plt.plot([0,16.5],[65,65],color=linecolor)\n",
    "    plt.plot([16.5,0],[25,25],color=linecolor)\n",
    "    \n",
    "    #Right Penalty Area\n",
    "    plt.plot([130,113.5],[65,65],color=linecolor)\n",
    "    plt.plot([113.5,113.5],[65,25],color=linecolor)\n",
    "    plt.plot([113.5,130],[25,25],color=linecolor)\n",
    "    \n",
    "    #Left 6-yard Box\n",
    "    plt.plot([0,5.5],[54,54],color=linecolor)\n",
    "    plt.plot([5.5,5.5],[54,36],color=linecolor)\n",
    "    plt.plot([5.5,0.5],[36,36],color=linecolor)\n",
    "    \n",
    "    #Right 6-yard Box\n",
    "    plt.plot([130,124.5],[54,54],color=linecolor)\n",
    "    plt.plot([124.5,124.5],[54,36],color=linecolor)\n",
    "    plt.plot([124.5,130],[36,36],color=linecolor)\n",
    "    \n",
    "    #Prepare Circles\n",
    "    centreCircle = plt.Circle((65,45),9.15,color=linecolor,fill=False)\n",
    "    centreSpot = plt.Circle((65,45),0.8,color=linecolor)\n",
    "    leftPenSpot = plt.Circle((11,45),0.8,color=linecolor)\n",
    "    rightPenSpot = plt.Circle((119,45),0.8,color=linecolor)\n",
    "    \n",
    "    #Draw Circles\n",
    "    ax.add_patch(centreCircle)\n",
    "    ax.add_patch(centreSpot)\n",
    "    ax.add_patch(leftPenSpot)\n",
    "    ax.add_patch(rightPenSpot)\n",
    "    \n",
    "    #Prepare Arcs\n",
    "    leftArc = Arc((11,45),height=18.3,width=18.3,angle=0,theta1=310,theta2=50,color=linecolor)\n",
    "    rightArc = Arc((119,45),height=18.3,width=18.3,angle=0,theta1=130,theta2=230,color=linecolor)\n",
    "\n",
    "    #Draw Arcs\n",
    "    ax.add_patch(leftArc)\n",
    "    ax.add_patch(rightArc)\n",
    "    \n",
    "    #Tidy Axes\n",
    "    plt.axis('off')\n",
    "    \n",
    "    return fig,ax\n",
    "\n",
    "def createGoalMouth():\n",
    "    #Adopted from FC Python\n",
    "    #Create figure\n",
    "    fig=plt.figure()\n",
    "    ax=fig.add_subplot(1,1,1)\n",
    "\n",
    "    linecolor='black'\n",
    "\n",
    "    #Pitch Outline & Centre Line\n",
    "    plt.plot([0,65],[0,0], color=linecolor)\n",
    "    plt.plot([65,65],[50,0], color=linecolor)\n",
    "    plt.plot([0,0],[50,0], color=linecolor)\n",
    "    \n",
    "    #Left Penalty Area\n",
    "    plt.plot([12.5,52.5],[16.5,16.5],color=linecolor)\n",
    "    plt.plot([52.5,52.5],[16.5,0],color=linecolor)\n",
    "    plt.plot([12.5,12.5],[0,16.5],color=linecolor)\n",
    "    \n",
    "    #Left 6-yard Box\n",
    "    plt.plot([41.5,41.5],[5.5,0],color=linecolor)\n",
    "    plt.plot([23.5,41.5],[5.5,5.5],color=linecolor)\n",
    "    plt.plot([23.5,23.5],[0,5.5],color=linecolor)\n",
    "    \n",
    "    #Goal\n",
    "    plt.plot([41.5-5.34,41.5-5.34],[-2,0],color=linecolor)\n",
    "    plt.plot([23.5+5.34,41.5-5.34],[-2,-2],color=linecolor)\n",
    "    plt.plot([23.5+5.34,23.5+5.34],[0,-2],color=linecolor)\n",
    "    \n",
    "    #Prepare Circles\n",
    "    leftPenSpot = plt.Circle((65/2,11),0.8,color=linecolor)\n",
    "    \n",
    "    #Draw Circles\n",
    "    ax.add_patch(leftPenSpot)\n",
    "    \n",
    "    #Prepare Arcs\n",
    "    leftArc = Arc((32.5,11),height=18.3,width=18.3,angle=0,theta1=38,theta2=142,color=linecolor)\n",
    "    \n",
    "    #Draw Arcs\n",
    "    ax.add_patch(leftArc)\n",
    "    \n",
    "    #Tidy Axes\n",
    "    plt.axis('off')\n",
    "    \n",
    "    return fig,ax"
   ]
  },
  {
   "cell_type": "code",
   "execution_count": 24,
   "id": "4d60fa46",
   "metadata": {},
   "outputs": [
    {
     "data": {
      "image/png": "[encoded data removed]",
      "text/plain": [
       "<Figure size 432x288 with 2 Axes>"
      ]
     },
     "metadata": {
      "needs_background": "light"
     },
     "output_type": "display_data"
    }
   ],
   "source": [
    "#Plot the number of shots from different points\n",
    "(fig,ax) = createGoalMouth()\n",
    "pos=ax.imshow(H_Shot[0], extent=[-1,66,104,-1], aspect='auto',cmap=plt.cm.Reds)\n",
    "fig.colorbar(pos, ax=ax)\n",
    "ax.set_title('Number of shots')\n",
    "plt.xlim((-1,66))\n",
    "plt.ylim((-3,35))\n",
    "plt.tight_layout()\n",
    "plt.gca().set_aspect('equal', adjustable='box')\n",
    "plt.show() "
   ]
  },
  {
   "cell_type": "code",
   "execution_count": 25,
   "id": "6c5ad74e",
   "metadata": {},
   "outputs": [
    {
     "data": {
      "image/png": "[encoded data removed]",
      "text/plain": [
       "<Figure size 432x288 with 2 Axes>"
      ]
     },
     "metadata": {
      "needs_background": "light"
     },
     "output_type": "display_data"
    }
   ],
   "source": [
    "#Plot the number of GOALS from different points\n",
    "(fig,ax) = createGoalMouth()\n",
    "pos=ax.imshow(H_Goal[0], extent=[-1,66,104,-1], aspect='auto',cmap=plt.cm.Reds)\n",
    "fig.colorbar(pos, ax=ax)\n",
    "ax.set_title('Number of goals')\n",
    "plt.xlim((-1,66))\n",
    "plt.ylim((-3,35))\n",
    "plt.tight_layout()\n",
    "plt.gca().set_aspect('equal', adjustable='box')\n",
    "plt.show()"
   ]
  },
  {
   "cell_type": "code",
   "execution_count": 26,
   "id": "d2fa18ab",
   "metadata": {},
   "outputs": [
    {
     "name": "stderr",
     "output_type": "stream",
     "text": [
      "/var/folders/2k/b696_87d61s02g_hgdv98f4c0000gn/T/ipykernel_20143/1331244049.py:3: RuntimeWarning: invalid value encountered in true_divide\n",
      "  pos=ax.imshow(H_Goal[0]/H_Shot[0], extent=[-1,66,104,-1], aspect='auto',cmap=plt.cm.Reds,vmin=0, vmax=0.5)\n"
     ]
    },
    {
     "data": {
      "image/png": "[encoded data removed]",
      "text/plain": [
       "<Figure size 432x288 with 2 Axes>"
      ]
     },
     "metadata": {
      "needs_background": "light"
     },
     "output_type": "display_data"
    }
   ],
   "source": [
    "#Plot the probability of scoring from different points\n",
    "(fig,ax) = createGoalMouth()\n",
    "pos=ax.imshow(H_Goal[0]/H_Shot[0], extent=[-1,66,104,-1], aspect='auto',cmap=plt.cm.Reds,vmin=0, vmax=0.5)\n",
    "fig.colorbar(pos, ax=ax)\n",
    "ax.set_title('Proportion of shots resulting in a goal')\n",
    "plt.xlim((-1,66))\n",
    "plt.ylim((-3,35))\n",
    "plt.tight_layout()\n",
    "plt.gca().set_aspect('equal', adjustable='box')\n",
    "plt.show()"
   ]
  },
  {
   "cell_type": "code",
   "execution_count": 27,
   "id": "93e922ec",
   "metadata": {},
   "outputs": [
    {
     "name": "stdout",
     "output_type": "stream",
     "text": [
      "Requirement already satisfied: statsmodels in /Users/jwang47/opt/anaconda3/envs/dsfb2env/lib/python3.8/site-packages (0.13.2)\n",
      "Requirement already satisfied: pandas>=0.25 in /Users/jwang47/opt/anaconda3/envs/dsfb2env/lib/python3.8/site-packages (from statsmodels) (1.3.5)\n",
      "Requirement already satisfied: scipy>=1.3 in /Users/jwang47/opt/anaconda3/envs/dsfb2env/lib/python3.8/site-packages (from statsmodels) (1.7.3)\n",
      "Requirement already satisfied: numpy>=1.17 in /Users/jwang47/opt/anaconda3/envs/dsfb2env/lib/python3.8/site-packages (from statsmodels) (1.20.3)\n",
      "Requirement already satisfied: packaging>=21.3 in /Users/jwang47/opt/anaconda3/envs/dsfb2env/lib/python3.8/site-packages (from statsmodels) (21.3)\n",
      "Requirement already satisfied: patsy>=0.5.2 in /Users/jwang47/opt/anaconda3/envs/dsfb2env/lib/python3.8/site-packages (from statsmodels) (0.5.2)\n",
      "Requirement already satisfied: pyparsing!=3.0.5,>=2.0.2 in /Users/jwang47/opt/anaconda3/envs/dsfb2env/lib/python3.8/site-packages (from packaging>=21.3->statsmodels) (3.0.4)\n",
      "Requirement already satisfied: python-dateutil>=2.7.3 in /Users/jwang47/opt/anaconda3/envs/dsfb2env/lib/python3.8/site-packages (from pandas>=0.25->statsmodels) (2.8.2)\n",
      "Requirement already satisfied: pytz>=2017.3 in /Users/jwang47/opt/anaconda3/envs/dsfb2env/lib/python3.8/site-packages (from pandas>=0.25->statsmodels) (2021.3)\n",
      "Requirement already satisfied: six in /Users/jwang47/opt/anaconda3/envs/dsfb2env/lib/python3.8/site-packages (from patsy>=0.5.2->statsmodels) (1.16.0)\n",
      "Note: you may need to restart the kernel to use updated packages.\n"
     ]
    }
   ],
   "source": [
    "pip install statsmodels"
   ]
  },
  {
   "cell_type": "code",
   "execution_count": 28,
   "id": "e28a84c7",
   "metadata": {},
   "outputs": [],
   "source": [
    "import statsmodels.api as sm\n",
    "import statsmodels.formula.api as smf"
   ]
  },
  {
   "cell_type": "markdown",
   "id": "b3b1cc3d",
   "metadata": {},
   "source": [
    "# Building an Expected Goals Model Using Random Forest"
   ]
  },
  {
   "cell_type": "code",
   "execution_count": 29,
   "id": "1d3ca31b",
   "metadata": {},
   "outputs": [],
   "source": [
    "import numpy as np\n",
    "import pandas as pd\n",
    "import matplotlib.pyplot as plt\n",
    "from sklearn.ensemble import RandomForestClassifier\n",
    "from sklearn.inspection import permutation_importance\n",
    "\n",
    "from sklearn.model_selection import train_test_split, KFold, cross_val_score, GridSearchCV, RandomizedSearchCV\n",
    "\n",
    "from sklearn.metrics import log_loss, roc_auc_score, roc_curve"
   ]
  },
  {
   "cell_type": "markdown",
   "id": "2188e8c1",
   "metadata": {},
   "source": [
    "## Naive Random Forest Model"
   ]
  },
  {
   "cell_type": "code",
   "execution_count": 30,
   "id": "6952038a",
   "metadata": {},
   "outputs": [],
   "source": [
    "model1=data.drop(['period','time'], axis=1)"
   ]
  },
  {
   "cell_type": "code",
   "execution_count": 31,
   "id": "a190ef45",
   "metadata": {},
   "outputs": [
    {
     "data": {
      "text/html": [
       "<div>\n",
       "<style scoped>\n",
       "    .dataframe tbody tr th:only-of-type {\n",
       "        vertical-align: middle;\n",
       "    }\n",
       "\n",
       "    .dataframe tbody tr th {\n",
       "        vertical-align: top;\n",
       "    }\n",
       "\n",
       "    .dataframe thead th {\n",
       "        text-align: right;\n",
       "    }\n",
       "</style>\n",
       "<table border=\"1\" class=\"dataframe\">\n",
       "  <thead>\n",
       "    <tr style=\"text-align: right;\">\n",
       "      <th></th>\n",
       "      <th>x</th>\n",
       "      <th>y</th>\n",
       "      <th>freeKick</th>\n",
       "      <th>rightFoot</th>\n",
       "      <th>leftFoot</th>\n",
       "      <th>head</th>\n",
       "      <th>opportunity</th>\n",
       "      <th>goal</th>\n",
       "      <th>C</th>\n",
       "      <th>Distance</th>\n",
       "      <th>Angle</th>\n",
       "      <th>side_of_field</th>\n",
       "      <th>out_swinging</th>\n",
       "      <th>in_swinging</th>\n",
       "    </tr>\n",
       "  </thead>\n",
       "  <tbody>\n",
       "    <tr>\n",
       "      <th>0</th>\n",
       "      <td>13</td>\n",
       "      <td>27</td>\n",
       "      <td>0</td>\n",
       "      <td>1</td>\n",
       "      <td>0</td>\n",
       "      <td>0</td>\n",
       "      <td>0</td>\n",
       "      <td>0</td>\n",
       "      <td>23</td>\n",
       "      <td>20.244135</td>\n",
       "      <td>0.246902</td>\n",
       "      <td>1</td>\n",
       "      <td>0</td>\n",
       "      <td>1</td>\n",
       "    </tr>\n",
       "    <tr>\n",
       "      <th>1</th>\n",
       "      <td>10</td>\n",
       "      <td>69</td>\n",
       "      <td>0</td>\n",
       "      <td>1</td>\n",
       "      <td>0</td>\n",
       "      <td>0</td>\n",
       "      <td>0</td>\n",
       "      <td>0</td>\n",
       "      <td>19</td>\n",
       "      <td>16.210259</td>\n",
       "      <td>0.298970</td>\n",
       "      <td>0</td>\n",
       "      <td>1</td>\n",
       "      <td>0</td>\n",
       "    </tr>\n",
       "    <tr>\n",
       "      <th>2</th>\n",
       "      <td>14</td>\n",
       "      <td>30</td>\n",
       "      <td>0</td>\n",
       "      <td>0</td>\n",
       "      <td>1</td>\n",
       "      <td>0</td>\n",
       "      <td>0</td>\n",
       "      <td>0</td>\n",
       "      <td>20</td>\n",
       "      <td>19.623710</td>\n",
       "      <td>0.281792</td>\n",
       "      <td>1</td>\n",
       "      <td>1</td>\n",
       "      <td>0</td>\n",
       "    </tr>\n",
       "    <tr>\n",
       "      <th>3</th>\n",
       "      <td>7</td>\n",
       "      <td>60</td>\n",
       "      <td>0</td>\n",
       "      <td>0</td>\n",
       "      <td>0</td>\n",
       "      <td>1</td>\n",
       "      <td>1</td>\n",
       "      <td>1</td>\n",
       "      <td>10</td>\n",
       "      <td>9.811855</td>\n",
       "      <td>0.575798</td>\n",
       "      <td>0</td>\n",
       "      <td>0</td>\n",
       "      <td>0</td>\n",
       "    </tr>\n",
       "    <tr>\n",
       "      <th>4</th>\n",
       "      <td>14</td>\n",
       "      <td>38</td>\n",
       "      <td>0</td>\n",
       "      <td>0</td>\n",
       "      <td>1</td>\n",
       "      <td>0</td>\n",
       "      <td>0</td>\n",
       "      <td>0</td>\n",
       "      <td>12</td>\n",
       "      <td>16.641214</td>\n",
       "      <td>0.387650</td>\n",
       "      <td>1</td>\n",
       "      <td>1</td>\n",
       "      <td>0</td>\n",
       "    </tr>\n",
       "  </tbody>\n",
       "</table>\n",
       "</div>"
      ],
      "text/plain": [
       "    x   y  freeKick  rightFoot  leftFoot  head  opportunity  goal   C  \\\n",
       "0  13  27         0          1         0     0            0     0  23   \n",
       "1  10  69         0          1         0     0            0     0  19   \n",
       "2  14  30         0          0         1     0            0     0  20   \n",
       "3   7  60         0          0         0     1            1     1  10   \n",
       "4  14  38         0          0         1     0            0     0  12   \n",
       "\n",
       "    Distance     Angle  side_of_field  out_swinging  in_swinging  \n",
       "0  20.244135  0.246902              1             0            1  \n",
       "1  16.210259  0.298970              0             1            0  \n",
       "2  19.623710  0.281792              1             1            0  \n",
       "3   9.811855  0.575798              0             0            0  \n",
       "4  16.641214  0.387650              1             1            0  "
      ]
     },
     "execution_count": 31,
     "metadata": {},
     "output_type": "execute_result"
    }
   ],
   "source": [
    "model1.head()"
   ]
  },
  {
   "cell_type": "code",
   "execution_count": 32,
   "id": "39ec1818",
   "metadata": {},
   "outputs": [],
   "source": [
    "y=model1['goal']\n",
    "x=model1.drop(['goal'], axis=1)"
   ]
  },
  {
   "cell_type": "code",
   "execution_count": 33,
   "id": "7ce5f8f4",
   "metadata": {},
   "outputs": [],
   "source": [
    "x_train, x_test, y_train, y_test = train_test_split(x, y, test_size=0.2, random_state=42)"
   ]
  },
  {
   "cell_type": "code",
   "execution_count": 34,
   "id": "eb6dbf26",
   "metadata": {},
   "outputs": [],
   "source": [
    "naive_rf_model=RandomForestClassifier(random_state=42)"
   ]
  },
  {
   "cell_type": "code",
   "execution_count": 35,
   "id": "8d15b422",
   "metadata": {},
   "outputs": [
    {
     "data": {
      "text/plain": [
       "RandomForestClassifier(random_state=42)"
      ]
     },
     "execution_count": 35,
     "metadata": {},
     "output_type": "execute_result"
    }
   ],
   "source": [
    "naive_rf_model.fit(x_train, y_train)"
   ]
  },
  {
   "cell_type": "code",
   "execution_count": 36,
   "id": "3a6b2961",
   "metadata": {},
   "outputs": [
    {
     "name": "stdout",
     "output_type": "stream",
     "text": [
      "The log loss of our model on the training set is : 0.2079\n",
      "The ROC AUC of our model on the training set is : 0.902\n"
     ]
    }
   ],
   "source": [
    "train_y_hat=naive_rf_model.predict_proba(x_train)\n",
    "naive_train_log_loss=log_loss(y_train, train_y_hat[:,1])\n",
    "naive_train_roc_auc=roc_auc_score(y_train, train_y_hat[:,1])\n",
    "print('The log loss of our model on the training set is : ' +str(round(naive_train_log_loss, 4)))\n",
    "print('The ROC AUC of our model on the training set is : ' +str(round(naive_train_roc_auc, 3)))"
   ]
  },
  {
   "cell_type": "code",
   "execution_count": 37,
   "id": "c7e5812b",
   "metadata": {},
   "outputs": [
    {
     "name": "stdout",
     "output_type": "stream",
     "text": [
      "The log loss of our model on the test set is : 0.7067\n",
      "The ROC AUC of our model on the test set is : 0.753\n"
     ]
    }
   ],
   "source": [
    "test_y_hat=naive_rf_model.predict_proba(x_test)\n",
    "naive_test_log_loss=log_loss(y_test, test_y_hat[:,1])\n",
    "naive_test_roc_auc=roc_auc_score(y_test, test_y_hat[:,1])\n",
    "print('The log loss of our model on the test set is : ' +str(round(naive_test_log_loss, 4)))\n",
    "print('The ROC AUC of our model on the test set is : ' +str(round(naive_test_roc_auc, 3)))"
   ]
  },
  {
   "cell_type": "code",
   "execution_count": 38,
   "id": "36f67035",
   "metadata": {},
   "outputs": [
    {
     "data": {
      "image/png": "[encoded data removed]",
      "text/plain": [
       "<Figure size 432x288 with 1 Axes>"
      ]
     },
     "metadata": {
      "needs_background": "light"
     },
     "output_type": "display_data"
    }
   ],
   "source": [
    "train_fpr, train_tpr, train_thresholds = roc_curve(y_true=y_train, y_score=train_y_hat[:,1])\n",
    "test_fpr, test_tpr, test_thresholds = roc_curve(y_true=y_test, y_score=test_y_hat[:,1])\n",
    "\n",
    "plt.plot(train_fpr, train_tpr, label='Train ROC AUC')\n",
    "plt.plot(test_fpr, test_tpr, label='Test ROC AUC')\n",
    "plt.plot([0, 1], [0, 1], color = 'black', linewidth = 2, linestyle = '--')\n",
    "plt.xlabel('False Positive Rate')\n",
    "plt.ylabel('True Positive Rate')\n",
    "plt.legend()\n",
    "plt.title('ROC AUC Curve For Naive Random Forest Model On Train vs Test Set')\n",
    "plt.show()"
   ]
  },
  {
   "cell_type": "code",
   "execution_count": 39,
   "id": "b17d4b2c",
   "metadata": {},
   "outputs": [
    {
     "name": "stdout",
     "output_type": "stream",
     "text": [
      "CPU times: user 31.7 s, sys: 284 ms, total: 32 s\n",
      "Wall time: 32.3 s\n"
     ]
    },
    {
     "data": {
      "image/png": "[encoded data removed]",
      "text/plain": [
       "<Figure size 432x288 with 1 Axes>"
      ]
     },
     "metadata": {
      "needs_background": "light"
     },
     "output_type": "display_data"
    }
   ],
   "source": [
    "%time  result = permutation_importance(naive_rf_model, x_train, y_train)\n",
    "sorted_idx = result.importances_mean.argsort()\n",
    "\n",
    "fig, ax = plt.subplots()\n",
    "ax.boxplot(result.importances[sorted_idx].T, vert=False, labels=x_train.columns[sorted_idx])\n",
    "ax.set_title(\"Random Forest Permutation Importances (Training Set)\")\n",
    "fig.tight_layout()\n",
    "plt.show()"
   ]
  },
  {
   "cell_type": "code",
   "execution_count": 40,
   "id": "be413c3c",
   "metadata": {},
   "outputs": [],
   "source": [
    "importances = naive_rf_model.feature_importances_\n",
    "indices = np.argsort(importances)[::-1]\n",
    "feature_order = np.array([x.columns.values])\n",
    "i = np.argsort(importances)[::-1]\n",
    "feature_order = feature_order[:,i]"
   ]
  },
  {
   "cell_type": "code",
   "execution_count": 41,
   "id": "de33fccd",
   "metadata": {},
   "outputs": [
    {
     "data": {
      "image/png": "[encoded data removed]",
      "text/plain": [
       "<Figure size 432x288 with 1 Axes>"
      ]
     },
     "metadata": {
      "needs_background": "light"
     },
     "output_type": "display_data"
    }
   ],
   "source": [
    "# Plot the feature importances of the forest\n",
    "plt.figure()\n",
    "plt.title(\"Relative feature importances\")\n",
    "plt.bar(range(x.shape[1]), importances[indices],\n",
    "       color=\"b\",  align=\"center\")\n",
    "plt.xticks(range(x.shape[1]), feature_order[0], rotation=90)\n",
    "plt.xlim([-1, x.shape[1]])\n",
    "plt.show()"
   ]
  },
  {
   "cell_type": "markdown",
   "id": "70b376a3",
   "metadata": {},
   "source": [
    "We find that the features that we expected to be criticial are important, notably Distance and angle. "
   ]
  },
  {
   "cell_type": "markdown",
   "id": "5bebdd51",
   "metadata": {},
   "source": [
    "## Building a Logistic Regression Model"
   ]
  },
  {
   "cell_type": "code",
   "execution_count": 42,
   "id": "712f9c6c",
   "metadata": {},
   "outputs": [],
   "source": [
    "import pandas as pd\n",
    "import matplotlib.pyplot as plt\n",
    "from sklearn.model_selection import train_test_split\n",
    "from sklearn.metrics import log_loss, roc_auc_score, roc_curve\n",
    "from sklearn.ensemble import RandomForestClassifier\n",
    "from sklearn.linear_model import LogisticRegression\n",
    "import statsmodels.api as sm\n",
    "import statsmodels.formula.api as smf"
   ]
  },
  {
   "cell_type": "code",
   "execution_count": 43,
   "id": "67fbc3ee",
   "metadata": {},
   "outputs": [
    {
     "name": "stderr",
     "output_type": "stream",
     "text": [
      "/Users/jwang47/opt/anaconda3/envs/dsfb2env/lib/python3.8/site-packages/statsmodels/base/model.py:127: ValueWarning: unknown kwargs ['data']\n",
      "  warnings.warn(msg, ValueWarning)\n"
     ]
    }
   ],
   "source": [
    "initial_logistic_regression = sm.GLM(endog=y_train,exog=x_train,data=model1, \n",
    "                                           family=sm.families.Binomial()).fit()"
   ]
  },
  {
   "cell_type": "code",
   "execution_count": 44,
   "id": "03cbceac",
   "metadata": {},
   "outputs": [
    {
     "name": "stdout",
     "output_type": "stream",
     "text": [
      "The log loss of our model on the training set is : 0.262\n",
      "The ROC AUC of our model on the training set is : 0.8199\n"
     ]
    }
   ],
   "source": [
    "train_y_hat = initial_logistic_regression.predict(x_train)\n",
    "naive_train_log_loss = log_loss(y_train, train_y_hat)\n",
    "naive_train_roc_auc = roc_auc_score(y_train, train_y_hat)\n",
    "print('The log loss of our model on the training set is : ' +str(round(naive_train_log_loss, 4)))\n",
    "print('The ROC AUC of our model on the training set is : ' +str(round(naive_train_roc_auc, 4)))"
   ]
  },
  {
   "cell_type": "code",
   "execution_count": 45,
   "id": "e510608e",
   "metadata": {},
   "outputs": [
    {
     "name": "stdout",
     "output_type": "stream",
     "text": [
      "The log loss of our model on the test set is : 0.2575\n",
      "The ROC AUC of our model on the test set is : 0.813\n"
     ]
    }
   ],
   "source": [
    "test_y_hat = initial_logistic_regression.predict(x_test)\n",
    "naive_test_log_loss = log_loss(y_test, test_y_hat)\n",
    "naive_test_roc_auc = roc_auc_score(y_test, test_y_hat)\n",
    "print('The log loss of our model on the test set is : ' +str(round(naive_test_log_loss, 4)))\n",
    "print('The ROC AUC of our model on the test set is : ' +str(round(naive_test_roc_auc, 3)))"
   ]
  },
  {
   "cell_type": "code",
   "execution_count": 46,
   "id": "a0a54079",
   "metadata": {},
   "outputs": [],
   "source": [
    "train_fpr, train_tpr, train_thresholds = roc_curve(y_true=y_train, y_score=train_y_hat)\n",
    "test_fpr, test_tpr, test_thresholds = roc_curve(y_true=y_test, y_score=test_y_hat)"
   ]
  },
  {
   "cell_type": "code",
   "execution_count": 47,
   "id": "df8274f1",
   "metadata": {},
   "outputs": [
    {
     "data": {
      "image/png": "[encoded data removed]",
      "text/plain": [
       "<Figure size 432x288 with 1 Axes>"
      ]
     },
     "metadata": {
      "needs_background": "light"
     },
     "output_type": "display_data"
    }
   ],
   "source": [
    "plt.plot(train_fpr, train_tpr, label = 'Train ROC AUC')\n",
    "plt.plot(test_fpr, test_tpr, label = 'Test ROC AUC')\n",
    "plt.plot([0, 1], [0, 1], color = 'black', linewidth = 2, linestyle = '--')\n",
    "plt.xlabel('False Positive Rate')\n",
    "plt.ylabel('True Positive Rate')\n",
    "plt.legend()\n",
    "plt.title('ROC AUC Curve For Naive Logistic Regression Model On Train vs Test Set')\n",
    "plt.show()"
   ]
  },
  {
   "cell_type": "code",
   "execution_count": 48,
   "id": "0b06e806",
   "metadata": {},
   "outputs": [
    {
     "name": "stdout",
     "output_type": "stream",
     "text": [
      "                 Generalized Linear Model Regression Results                  \n",
      "==============================================================================\n",
      "Dep. Variable:                   goal   No. Observations:                36229\n",
      "Model:                            GLM   Df Residuals:                    36217\n",
      "Model Family:                Binomial   Df Model:                           11\n",
      "Link Function:                  Logit   Scale:                          1.0000\n",
      "Method:                          IRLS   Log-Likelihood:                -9490.4\n",
      "Date:                Mon, 21 Mar 2022   Deviance:                       18981.\n",
      "Time:                        22:38:25   Pearson chi2:                 5.42e+04\n",
      "No. Iterations:                     9   Pseudo R-squ. (CS):             0.1307\n",
      "Covariance Type:            nonrobust                                         \n",
      "=================================================================================\n",
      "                    coef    std err          z      P>|z|      [0.025      0.975]\n",
      "---------------------------------------------------------------------------------\n",
      "x                 0.0548      0.025      2.214      0.027       0.006       0.103\n",
      "y                -0.0006      0.003     -0.217      0.829      -0.006       0.005\n",
      "freeKick          0.7557      0.114      6.607      0.000       0.532       0.980\n",
      "rightFoot        -2.4703      0.156    -15.884      0.000      -2.775      -2.165\n",
      "leftFoot         -2.4795      0.155    -15.962      0.000      -2.784      -2.175\n",
      "head             -5.9628      0.309    -19.298      0.000      -6.568      -5.357\n",
      "opportunity       3.7922      0.206     18.382      0.000       3.388       4.197\n",
      "C                -0.0020      0.009     -0.232      0.816      -0.019       0.015\n",
      "Distance         -0.1264      0.027     -4.620      0.000      -0.180      -0.073\n",
      "Angle             1.5509      0.112     13.787      0.000       1.330       1.771\n",
      "side_of_field     0.0760      0.064      1.186      0.236      -0.050       0.202\n",
      "out_swinging     -2.4590      0.155    -15.906      0.000      -2.762      -2.156\n",
      "in_swinging      -2.4907      0.156    -15.933      0.000      -2.797      -2.184\n",
      "=================================================================================\n"
     ]
    }
   ],
   "source": [
    "print(initial_logistic_regression.summary())"
   ]
  },
  {
   "cell_type": "markdown",
   "id": "28076ee0",
   "metadata": {},
   "source": []
  }
 ],
 "metadata": {
  "kernelspec": {
   "display_name": "Python [conda env:dsfb2env] *",
   "language": "python",
   "name": "conda-env-dsfb2env-py"
  },
  "language_info": {
   "codemirror_mode": {
    "name": "ipython",
    "version": 3
   },
   "file_extension": ".py",
   "mimetype": "text/x-python",
   "name": "python",
   "nbconvert_exporter": "python",
   "pygments_lexer": "ipython3",
   "version": "3.8.12"
  }
 },
 "nbformat": 4,
 "nbformat_minor": 5
}
